{
 "cells": [
  {
   "cell_type": "markdown",
   "id": "4ce26080",
   "metadata": {},
   "source": [
    "# **Importamos las dependencias**"
   ]
  },
  {
   "cell_type": "code",
   "execution_count": 2,
   "id": "98ed9793",
   "metadata": {},
   "outputs": [
    {
     "name": "stdout",
     "output_type": "stream",
     "text": [
      "\u001b[33mWARNING: google-cloud-aiplatform 1.71.1 does not provide the extra 'all'\u001b[0m\u001b[33m\n",
      "\u001b[0mNote: you may need to restart the kernel to use updated packages.\n",
      "Note: you may need to restart the kernel to use updated packages.\n",
      "Note: you may need to restart the kernel to use updated packages.\n"
     ]
    }
   ],
   "source": [
    "# Instalación de todas las dependencias necesarias\n",
    "%pip install google-cloud-storage google-cloud-aiplatform vertexai matplotlib seaborn scikit-learn pandas seaborn numpy python-dotenv --quiet\n",
    "%pip install python-dotenv --quiet\n",
    "%pip install pillow --quiet"
   ]
  },
  {
   "cell_type": "code",
   "execution_count": 9,
   "id": "4d508109",
   "metadata": {},
   "outputs": [],
   "source": [
    "# --- Para el proceso de datos y visualización ---\n",
    "import numpy as np\n",
    "import pandas as pd\n",
    "import json\n",
    "import matplotlib.pyplot as plt\n",
    "import seaborn as sns\n",
    "from PIL import Image\n",
    "import time\n",
    "\n",
    "\n",
    "# --- Para manejar las variables de entorno ---\n",
    "import os\n",
    "from dotenv import load_dotenv\n",
    "\n",
    "\n",
    "# --- Desactiva las advertencias de asignaciones encadenadas en pandas para evitar mensajes de warning al modificar DataFrames.\n",
    "pd.options.mode.chained_assignment = None  # default='warn'\n",
    "\n",
    "\n",
    "# --- Dependencias de Vertex AI ---\n",
    "import vertexai                                              # Importa el módulo principal de Vertex AI.\n",
    "from vertexai import init                                    # Inicializa Vertex AI con las credenciales y configuraciones necesarias.\n",
    "from vertexai.vision_models import Image as VMImage          # Importa la clase Image de Vertex AI para manejar imágenes.\n",
    "from vertexai.vision_models import MultiModalEmbeddingModel  # Importa el modelo de embeddings multimodales de Vertex AI para procesar imágenes y videos.\n",
    "from vertexai.vision_models import Video                     # Clase para manejar archivos de video en Vertex AI.\n",
    "from vertexai.vision_models import VideoSegmentConfig        # Configuración para segmentar videos al gener\n",
    "\n",
    "\n",
    "# --- Para conectarse y consultar un endpoint de búsqueda vectorial (Vector Search) en Vertex AI. \n",
    "from google.cloud.aiplatform.matching_engine import MatchingEngineIndexEndpoint \n",
    "\n",
    "# --- Para acceder a los buckets de Google Cloud Storage y manejar archivos.\n",
    "from google.cloud import storage\n",
    "\n",
    "\n",
    "# --- Dependencias para poder visualizar ---\n",
    "from IPython.display import Video as MVideo                  # Permite mostrar videos directamente en celdas de Jupyter Notebook.\n",
    "from IPython.display import HTML                             # Permite mostrar contenido HTML en celdas de Jupyter Notebook.\n",
    "from IPython.display import Image as ImageByte               # Permite mostrar imágenes en el notebook (renombrado como ImageByte para evitar conflictos de nombres).\n",
    "from IPython.display import display                          # Función general para mostrar objetos en el notebook.\n",
    "from sklearn.metrics.pairwise import cosine_similarity       # Función para calcular la similitud coseno entre vectores, útil para comparar embeddings."
   ]
  },
  {
   "cell_type": "markdown",
   "id": "b3fbd619",
   "metadata": {},
   "source": [
    "# **Configuración del entorno de Vertex**"
   ]
  },
  {
   "cell_type": "code",
   "execution_count": 10,
   "id": "b8d59658",
   "metadata": {},
   "outputs": [
    {
     "name": "stdout",
     "output_type": "stream",
     "text": [
      "PROJECT_ID: spry-byway-462510-i4\n",
      "INDEX_ENDPOINT_NAME: projects/123459559103/locations/us-west1/indexEndpoints/6122846003549700096\n",
      "DEPLOYED_INDEX_ID: grabacion_3gb_1749804060857\n",
      "BUCKET_NAME: vboxioof\n",
      "DESTINATION_BLOB_NAME: Embbedings\n"
     ]
    }
   ],
   "source": [
    "# --- Carga las variables de entorno desde un archivo .env ---\n",
    "load_dotenv()\n",
    "\n",
    "# --- Obtenemos las variables necesarias del entorno ---\n",
    "\n",
    "PROJECT_ID = os.getenv(\"PROJECT_ID\")                        # ID del proyecto de Google Cloud\n",
    "LOCATION = os.getenv(\"LOCATION\")                            # Región donde se encuentran los recursos de Vertex AI\n",
    "INDEX_ENDPOINT_NAME = os.getenv(\"INDEX_ENDPOINT_NAME\")      # Nombre completo del endpoint de búsqueda vectorial\n",
    "DEPLOYED_INDEX_ID = os.getenv(\"DEPLOYED_INDEX_ID\")          # ID del índice desplegado en el endpoint\n",
    "BUCKET_NAME = os.getenv(\"BUCKET_NAME\")                      # Nombre del bucket de Google Cloud Storage\n",
    "DESTINATION_BLOB_NAME = os.getenv(\"DESTINATION_BLOB_NAME\")  # Ruta y nombre del archivo destino en el bucket\n",
    "\n",
    "# Imprime las variables cargadas para verificación (de si lo hicimos bien todo)\n",
    "print(\"PROJECT_ID:\", PROJECT_ID)\n",
    "print(\"INDEX_ENDPOINT_NAME:\", INDEX_ENDPOINT_NAME)\n",
    "print(\"DEPLOYED_INDEX_ID:\", DEPLOYED_INDEX_ID)\n",
    "print(\"BUCKET_NAME:\", BUCKET_NAME)\n",
    "print(\"DESTINATION_BLOB_NAME:\", DESTINATION_BLOB_NAME)"
   ]
  },
  {
   "cell_type": "code",
   "execution_count": 8,
   "id": "a5917d76",
   "metadata": {},
   "outputs": [],
   "source": [
    "# --- Inicializamos Vertex AI ---\n",
    "init(project = PROJECT_ID, location = LOCATION)"
   ]
  },
  {
   "cell_type": "markdown",
   "id": "6a57b90a",
   "metadata": {},
   "source": [
    "# **Funciones**"
   ]
  },
  {
   "cell_type": "code",
   "execution_count": 12,
   "id": "08e114e0",
   "metadata": {},
   "outputs": [],
   "source": [
    "# --- Función para generar embeddings de videos ---\n",
    "\n",
    "def get_video_embedding(ruta_video: str) -> list: \n",
    "    \n",
    "    \"\"\"\n",
    "    Genera un embedding para un video dado.\n",
    "\n",
    "    Args:\n",
    "        ruta_video (str): Ruta al archivo de video.\n",
    "\n",
    "    Returns:\n",
    "        list: Embedding del video.\n",
    "    \"\"\"\n",
    "    # Cargamos el video desde la ruta proporcionada\n",
    "    video = Video.load_from_file(ruta_video)\n",
    "    \n",
    "    # Genera el embedding del video utilizando el modelo de embeddings multimodales\n",
    "    embedding = mm_embendding_model.get_embeddings(video = video, \n",
    "                                                   video_segment_config = VideoSegmentConfig(interval_sec=4) # Configura el segmento del video para generar embeddings cada 4 segundos.\n",
    "                                                  )\n",
    "    \n",
    "    return [video_emb.embedding for video_emb in embedding.video_embeddings]  # Retorna una lista de embeddings para cada segmento del video.\n",
    "\n",
    "\n",
    "\n",
    "# --- Función para generar embeddings de texto ---\n",
    "\n",
    "def get_text_embedding(text: str) -> list:\n",
    "\n",
    "    print(f\"Generando embedding para el texto: '{text}'\")\n",
    "    embeddings = mm_embendding_model.get_embeddings(\n",
    "        contextual_text=text,\n",
    "    )\n",
    "\n",
    "    return embeddings.text_embedding\n",
    "\n",
    "\n",
    "\n",
    "# --- Función para generar embeddings de imágenes ---\n",
    "\n",
    "def get_image_embedding(\n",
    "    image_path: str,\n",
    "    dimension: int | None = 1408,\n",
    ") -> list[float]:\n",
    "    image = VMImage.load_from_file(image_path)\n",
    "    embedding = mm_embendding_model.get_embeddings(\n",
    "        image=image,\n",
    "        dimension=dimension,\n",
    "    )\n",
    "    return embedding.image_embedding\n",
    "\n",
    "\n",
    "\n",
    "# --- Función para buscar vecinos más cercanos en el índice de búsqueda vectorial --- \n",
    "\n",
    "def find_nearest_neighbors(query_embedding: list, num_neighbors: int = 20): # Cambia el número de vecinos a buscar según tus necesidades.\n",
    "\n",
    "    print(\"Conectando al Index Endpoint...\")\n",
    "    index_endpoint = MatchingEngineIndexEndpoint(index_endpoint_name=INDEX_ENDPOINT_NAME)\n",
    "    \n",
    "    print(f\"Buscando los {num_neighbors} videos más similares...\")\n",
    "    neighbors = index_endpoint.find_neighbors(\n",
    "\n",
    "        deployed_index_id=DEPLOYED_INDEX_ID,\n",
    "        queries=[query_embedding],\n",
    "        num_neighbors=num_neighbors\n",
    "\n",
    "    )\n",
    "\n",
    "    return neighbors\n",
    "\n",
    "\n",
    "\n",
    "# --- Función para mostrar un segmento de video específico en el notebook ---\n",
    "\n",
    "def display_video_segment(video_gcs_uri: str, segment_id: str, interval: int):\n",
    "\n",
    "    try:\n",
    "        # Extraemos el número del segmento del ID. Ej: \"VIDEOYAGO_segment_5\" -> 5\n",
    "        segment_number = int(segment_id.split('_')[-1])\n",
    "        start_time = segment_number * interval # El intervalo (al menos en este notebook) es de 4 segundos.\n",
    "        end_time = start_time + interval\n",
    "        \n",
    "        # Convertimos la URI de gs:// a una URL pública de https://\n",
    "        public_url = video_gcs_uri.replace(\"gs://\", \"https://storage.googleapis.com/\")\n",
    "        \n",
    "        # Creamos el código HTML para el video, apuntando al tiempo de inicio\n",
    "        video_html = f\"\"\"\n",
    "        <p>Mostrando segmento: <b>{segment_id}</b> (segundos {start_time}-{end_time})</p>\n",
    "        <video width=\"640\" controls>\n",
    "            <source src=\"{public_url}#t={start_time},{end_time}\" type=\"video/mp4\">\n",
    "            Tu navegador no soporta la etiqueta de video.\n",
    "        </video>\n",
    "        \"\"\"\n",
    "        display(HTML(video_html))\n",
    "        \n",
    "    except (ValueError, IndexError) as e:\n",
    "        print(f\"No se pudo parsear el ID del segmento '{segment_id}'. Error: {e}\")\n",
    "\n",
    "\n",
    "\n",
    "\n",
    "# --- Convierte una URI de Google Cloud Storage a una URL pública accesible por HTTP ---\n",
    "\n",
    "def get_public_url_from_gcs(gcs_uri: str) -> str:\n",
    "    \"\"\"\n",
    "    Convierte una URI de Google Cloud Storage (gs://bucket/archivo) a una URL pública HTTP.\n",
    "\n",
    "    Args:\n",
    "        gcs_uri (str): URI de Google Cloud Storage.\n",
    "\n",
    "    Returns:\n",
    "        str: URL pública accesible desde el navegador.\n",
    "    \"\"\"\n",
    "    return gcs_uri.replace(\"gs://\", \"https://storage.googleapis.com/\").replace(\n",
    "        \" \", \"%20\"\n",
    "    )\n",
    "\n",
    "\n",
    "\n",
    "# --- Muestra un video almacenado en Google Cloud Storage en el notebook ---\n",
    "\n",
    "def display_video_from_gcs(gcs_uri: str) -> None:\n",
    "    \"\"\"\n",
    "    Muestra un video almacenado en Google Cloud Storage directamente en el notebook.\n",
    "\n",
    "    Args:\n",
    "        gcs_uri (str): URI de Google Cloud Storage del video.\n",
    "    \"\"\"\n",
    "    public_url = get_public_url_from_gcs(gcs_uri)\n",
    "    display(\n",
    "        HTML(\n",
    "            f\"\"\"\n",
    "            <video width=\"480\" controls>\n",
    "                <source src=\"{public_url}\" type=\"video/mp4\">\n",
    "                Tu navegador no soporta la reproducción de video.\n",
    "            </video>\n",
    "            \"\"\"\n",
    "        )\n",
    "    )\n",
    "\n",
    "\n",
    "# --- Función para imprimir videos similares basados en embeddings ---\n",
    "\n",
    "def print_similar_videos(query_emb: list[float], data_frame: pd.DataFrame):\n",
    "    \"\"\"\n",
    "    Calcula la similitud (producto punto) entre un embedding de consulta y los embeddings de videos almacenados en un DataFrame.\n",
    "    Muestra los videos más similares y despliega el video más relevante en el notebook.\n",
    "\n",
    "    Args:\n",
    "        query_emb (list[float]): Embedding de consulta (por ejemplo, generado a partir de un video o texto).\n",
    "        data_frame (pd.DataFrame): DataFrame que contiene al menos las columnas 'video_embeddings', 'file_name' y 'gcs_path'.\n",
    "\n",
    "    Funcionamiento:\n",
    "        - Calcula el producto punto entre el embedding de consulta y cada embedding de video en el DataFrame.\n",
    "        - Añade una columna 'score' con los resultados de similitud.\n",
    "        - Ordena el DataFrame por 'score' de mayor a menor.\n",
    "        - Imprime los nombres de los archivos y sus scores más altos.\n",
    "        - Muestra el video más similar directamente en el notebook.\n",
    "    \"\"\"\n",
    "    # Obtiene la columna de embeddings de video\n",
    "    video_embs = data_frame[\"video_embeddings\"]\n",
    "\n",
    "    # Calcula el producto punto entre cada embedding y el de consulta\n",
    "    scores = [np.dot(eval(video_emb), query_emb) for video_emb in video_embs]\n",
    "    data_frame[\"score\"] = scores\n",
    "\n",
    "    # Ordena por score descendente\n",
    "    data_frame = data_frame.sort_values(by=\"score\", ascending=False)\n",
    "\n",
    "    # Imprime los resultados principales\n",
    "    print(data_frame.head()[[\"score\", \"file_name\"]])\n",
    "\n",
    "    # Obtiene la URL GCS del video más similar\n",
    "    url = data_frame.iloc[0][\"gcs_path\"]\n",
    "\n",
    "    # Muestra el video en el notebook\n",
    "    display_video_from_gcs(url)\n",
    "\n",
    "\n",
    "\n",
    "# --- Función para guardar embeddings en Google Cloud Storage como JSONL ---\n",
    "\n",
    "def guardar_embeddings_en_gcs(\n",
    "    project_id: str,\n",
    "    bucket_name: str,\n",
    "    blob_name: str,\n",
    "    ids: list[str],\n",
    "    embeddings: list[list[float]]\n",
    "):\n",
    "    \"\"\"\n",
    "    Convierte una lista de IDs y embeddings al formato JSONL y lo sube a GCS.\n",
    "\n",
    "    Args:\n",
    "        project_id (str): Tu proyecto de Google Cloud.\n",
    "        bucket_name (str): El nombre del bucket de destino.\n",
    "        blob_name (str): La ruta y nombre del archivo a crear en el bucket.\n",
    "        ids (list[str]): Lista de IDs únicos para cada embedding.\n",
    "        embeddings (list[list[float]]): La lista de vectores de embedding.\n",
    "    \"\"\"\n",
    "    print(f\"Conectando al bucket '{bucket_name}'...\")\n",
    "    storage_client = storage.Client(project=project_id)\n",
    "    bucket = storage_client.bucket(bucket_name)\n",
    "    blob = bucket.blob(blob_name)\n",
    "\n",
    "    print(f\"Escribiendo {len(ids)} embeddings en el archivo en memoria...\")\n",
    "    \n",
    "    # Usamos un context manager para escribir directamente al archivo en GCS\n",
    "    with blob.open(\"w\") as f:\n",
    "        for i, embedding in zip(ids, embeddings):\n",
    "            # Creamos el diccionario para la línea actual\n",
    "            data_point = {\"id\": i, \"embedding\": embedding}\n",
    "            # Lo convertimos a un string JSON y escribimos la línea en el archivo\n",
    "            f.write(json.dumps(data_point) + \"\\n\")\n",
    "\n",
    "    print(f\"¡Éxito! Archivo '{blob_name}' subido correctamente a 'gs://{bucket_name}/{blob_name}'.\")\n",
    "\n",
    "\n",
    "\n",
    "    # --- Vemos el contenido de nuestro bucket de GCS ---\n",
    "    \n",
    "def list_blobs(bucket_name: str):\n",
    "    \"\"\"\n",
    "    Guarda en una lista los blobs (archivos) en un bucket de Google Cloud Storage.\n",
    "\n",
    "    Args:\n",
    "        bucket_name (str): El nombre del bucket de GCS.\n",
    "    \"\"\"\n",
    "    ls = []\n",
    "    storage_client = storage.Client()\n",
    "    blobs = storage_client.list_blobs(bucket_name)\n",
    "\n",
    "    print(f\"Archivos en el bucket '{bucket_name}':\")\n",
    "    for blob in blobs:\n",
    "        #print(blob.name)\n",
    "        ls.append(blob.name)\n",
    "    \n",
    "    return ls[4:]  # Retorna la lista de blobs, omitiendo los primeros 4 elementos\n",
    "    \n",
    "\n"
   ]
  },
  {
   "cell_type": "code",
   "execution_count": 13,
   "id": "f1c9bdf9",
   "metadata": {},
   "outputs": [
    {
     "data": {
      "text/plain": [
       "'https://storage.googleapis.com/vboxioof/Videos/Videos_Segmentados/clip_1.mp4'"
      ]
     },
     "execution_count": 13,
     "metadata": {},
     "output_type": "execute_result"
    }
   ],
   "source": [
    "get_public_url_from_gcs('gs://vboxioof/Videos/Videos_Segmentados/clip_1.mp4')"
   ]
  },
  {
   "cell_type": "markdown",
   "id": "7296a3d3",
   "metadata": {},
   "source": [
    "# **Generamos los embeddings**"
   ]
  },
  {
   "cell_type": "code",
   "execution_count": 26,
   "id": "2cdcf97c",
   "metadata": {},
   "outputs": [],
   "source": [
    "# --- Cargamos el modelo de embeddings multimodales ---\n",
    "mm_embendding_model = MultiModalEmbeddingModel.from_pretrained(\"multimodalembedding@001\")"
   ]
  },
  {
   "cell_type": "code",
   "execution_count": 7,
   "id": "ea0f5d3a",
   "metadata": {},
   "outputs": [
    {
     "name": "stdout",
     "output_type": "stream",
     "text": [
      "Archivos en el bucket 'vboxioof':\n",
      "Embedding del video: clip_1.mp4\n",
      "Embedding del video: clip_10.mp4\n",
      "Embedding del video: clip_11.mp4\n",
      "Embedding del video: clip_12.mp4\n",
      "Embedding del video: clip_13.mp4\n",
      "Embedding del video: clip_14.mp4\n",
      "Embedding del video: clip_15.mp4\n",
      "Embedding del video: clip_16.mp4\n",
      "Embedding del video: clip_17.mp4\n",
      "Embedding del video: clip_18.mp4\n",
      "Embedding del video: clip_19.mp4\n",
      "Embedding del video: clip_2.mp4\n",
      "Embedding del video: clip_20.mp4\n",
      "Embedding del video: clip_21.mp4\n",
      "Embedding del video: clip_22.mp4\n",
      "Embedding del video: clip_23.mp4\n",
      "Embedding del video: clip_24.mp4\n",
      "Embedding del video: clip_25.mp4\n",
      "Embedding del video: clip_26.mp4\n",
      "Embedding del video: clip_27.mp4\n",
      "Embedding del video: clip_28.mp4\n",
      "Embedding del video: clip_29.mp4\n",
      "Embedding del video: clip_3.mp4\n",
      "Embedding del video: clip_30.mp4\n",
      "Embedding del video: clip_31.mp4\n",
      "Embedding del video: clip_32.mp4\n",
      "Embedding del video: clip_33.mp4\n",
      "Embedding del video: clip_34.mp4\n",
      "Embedding del video: clip_35.mp4\n",
      "Embedding del video: clip_36.mp4\n",
      "Embedding del video: clip_37.mp4\n",
      "Embedding del video: clip_38.mp4\n",
      "Embedding del video: clip_39.mp4\n",
      "Embedding del video: clip_4.mp4\n",
      "Embedding del video: clip_40.mp4\n",
      "Embedding del video: clip_41.mp4\n",
      "Embedding del video: clip_42.mp4\n",
      "Embedding del video: clip_43.mp4\n",
      "Embedding del video: clip_44.mp4\n",
      "Embedding del video: clip_45.mp4\n",
      "Embedding del video: clip_46.mp4\n",
      "Embedding del video: clip_47.mp4\n",
      "Embedding del video: clip_48.mp4\n",
      "Embedding del video: clip_49.mp4\n",
      "Embedding del video: clip_5.mp4\n",
      "Embedding del video: clip_50.mp4\n",
      "Embedding del video: clip_51.mp4\n",
      "Embedding del video: clip_52.mp4\n",
      "Embedding del video: clip_53.mp4\n",
      "Embedding del video: clip_54.mp4\n",
      "Embedding del video: clip_55.mp4\n",
      "Embedding del video: clip_56.mp4\n",
      "Embedding del video: clip_57.mp4\n",
      "Embedding del video: clip_58.mp4\n",
      "Embedding del video: clip_59.mp4\n",
      "Embedding del video: clip_6.mp4\n",
      "Embedding del video: clip_60.mp4\n",
      "Embedding del video: clip_61.mp4\n",
      "Embedding del video: clip_62.mp4\n",
      "Embedding del video: clip_63.mp4\n",
      "Embedding del video: clip_64.mp4\n",
      "Embedding del video: clip_65.mp4\n",
      "Embedding del video: clip_66.mp4\n",
      "Embedding del video: clip_67.mp4\n",
      "Embedding del video: clip_68.mp4\n",
      "Embedding del video: clip_7.mp4\n",
      "Embedding del video: clip_8.mp4\n",
      "Embedding del video: clip_9.mp4\n",
      "Tiempo total para generar embeddings: 6997.4865 segundos\n"
     ]
    }
   ],
   "source": [
    "# ruta_video = \"gs://vboxioof/Videos/Videos Largos/azteca7-2025-05-23.mkv\" \n",
    "\n",
    "# Obtenemos todas los nombres de los clips del video en el bucket\n",
    "clips = list_blobs(BUCKET_NAME)  # Llama a la función para listar los blobs en el bucket especificado.\n",
    "\n",
    "lsEmbeddings = []  # Lista para almacenar los embeddings de los videos\n",
    "\n",
    "\n",
    "# Marcamos el inicio del proceso de generación de embeddings\n",
    "start_time = time.time()\n",
    "\n",
    "# Generamos el embedding del video\n",
    "for clip in clips:\n",
    "    print(f\"Embedding del video: {os.path.basename(clip)}\")\n",
    "    video_embedding = get_video_embedding(\"gs://vboxioof/\"+clip)\n",
    "    lsEmbeddings.append(video_embedding)  # Añade el embedding a la lista\n",
    "    \n",
    "end_time = time.time()  # Marcamos el final del proceso de generación de embeddings\n",
    "\n",
    "print(f\"Tiempo total para generar embeddings: {end_time - start_time:.4f} segundos\")  # Imprime el tiempo total transcurrido"
   ]
  },
  {
   "cell_type": "code",
   "execution_count": 11,
   "id": "224aa148",
   "metadata": {},
   "outputs": [
    {
     "name": "stdout",
     "output_type": "stream",
     "text": [
      "Cantidad de elementos en la lista de embeddings: 68\n",
      "Cantidad de embeddings por clip (ojo, hay uno con solo 7): 30\n",
      "Número total de embeddings generados: 2017\n"
     ]
    }
   ],
   "source": [
    "# Vemos cuantos embeddings se generaron\n",
    "print(f\"Cantidad de elementos en la lista de embeddings: {len(lsEmbeddings)}\")\n",
    "print(f\"Cantidad de embeddings por clip (ojo, hay uno con solo 7): {len(lsEmbeddings[0])}\")\n",
    "print(f\"Número total de embeddings generados: {2017}\")"
   ]
  },
  {
   "cell_type": "markdown",
   "id": "280cf794",
   "metadata": {},
   "source": [
    "# **Carga a Vector Search**"
   ]
  },
  {
   "cell_type": "code",
   "execution_count": 9,
   "id": "071854ca",
   "metadata": {},
   "outputs": [
    {
     "name": "stdout",
     "output_type": "stream",
     "text": [
      "Cantidad de embeddings a guardar: 2017\n"
     ]
    }
   ],
   "source": [
    "# --- Hacemos un 'aplanamiento' de la lista de embeddings para que sea un vector 1D ---\n",
    "FlatListEmbeddings = [embedding for sublist in lsEmbeddings for embedding in sublist]  # Aplana la lista de listas en una sola lista de embeddings\n",
    "\n",
    "print(f\"Cantidad de embeddings a guardar: {len(FlatListEmbeddings)}\")"
   ]
  },
  {
   "cell_type": "code",
   "execution_count": 16,
   "id": "296c3500",
   "metadata": {},
   "outputs": [
    {
     "data": {
      "text/plain": [
       "67"
      ]
     },
     "execution_count": 16,
     "metadata": {},
     "output_type": "execute_result"
    }
   ],
   "source": [
    "2017//30"
   ]
  },
  {
   "cell_type": "code",
   "execution_count": 16,
   "id": "9085a3f0",
   "metadata": {},
   "outputs": [
    {
     "name": "stdout",
     "output_type": "stream",
     "text": [
      "Conectando al bucket 'vboxioof'...\n",
      "Escribiendo 2017 embeddings en el archivo en memoria...\n",
      "¡Éxito! Archivo 'Embbedings/Embeddings.json' subido correctamente a 'gs://vboxioof/Embbedings/Embeddings.json'.\n"
     ]
    }
   ],
   "source": [
    "# --- GENERACIÓN DE IDs ---\n",
    "ids_de_embeddings = [f\"PartidoAzteca7_segment_{i}\" for i in range(len(FlatListEmbeddings))]\n",
    "\n",
    "\n",
    "if len(ids_de_embeddings) != len(FlatListEmbeddings):\n",
    "        raise ValueError(\"La cantidad de IDs no coincide con la cantidad de embeddings.\")\n",
    "        \n",
    "guardar_embeddings_en_gcs(\n",
    "    project_id=PROJECT_ID,\n",
    "    bucket_name=BUCKET_NAME,\n",
    "    blob_name=DESTINATION_BLOB_NAME+'/Embeddings.json',  # Asegúrate de que el nombre del archivo sea correcto\n",
    "    ids=ids_de_embeddings,\n",
    "    embeddings=FlatListEmbeddings\n",
    ")\n",
    "\n"
   ]
  },
  {
   "cell_type": "markdown",
   "id": "bcbf4e48",
   "metadata": {},
   "source": [
    "# **Query a los embeddings**"
   ]
  },
  {
   "cell_type": "code",
   "execution_count": 36,
   "id": "ed48d911",
   "metadata": {},
   "outputs": [],
   "source": [
    "GCS_VIDEO_URI = \"vboxioof/Videos/Videos_Segmentados/\"   # La ruta a la carpeta de los clips\n",
    "SEGMENT_INTERVAL_SEC = 4                                # El intervalo en segundos que usamos para segmentar el video\n",
    "image_path = \"gs://vboxioof/Imagenes/ATT.png\"        # Ruta a una imagen de ejemplo para generar un embedding"
   ]
  },
  {
   "cell_type": "markdown",
   "id": "89aa5b8f",
   "metadata": {},
   "source": [
    "### **Consulta con imagenes**"
   ]
  },
  {
   "cell_type": "code",
   "execution_count": null,
   "id": "5970f723",
   "metadata": {},
   "outputs": [
    {
     "name": "stdout",
     "output_type": "stream",
     "text": [
      "Conectando al Index Endpoint...\n",
      "Buscando los 50 videos más similares...\n",
      "\n",
      "--- RESULTADOS DE LA BÚSQUEDA ---\n",
      "\n",
      "Encontrado: [ID: PartidoAzteca7_segment_826] - [Distancia: 0.47895408]\n"
     ]
    },
    {
     "data": {
      "text/html": [
       "\n",
       "        <p>Mostrando segmento: <b>PartidoAzteca7_segment_826</b> (segundos 3304-3308)</p>\n",
       "        <video width=\"640\" controls>\n",
       "            <source src=\"vboxioof/Videos/Videos_Segmentados/PartidoAzteca7_segment_826.mp4#t=3304,3308\" type=\"video/mp4\">\n",
       "            Tu navegador no soporta la etiqueta de video.\n",
       "        </video>\n",
       "        "
      ],
      "text/plain": [
       "<IPython.core.display.HTML object>"
      ]
     },
     "metadata": {},
     "output_type": "display_data"
    },
    {
     "name": "stdout",
     "output_type": "stream",
     "text": [
      "\n",
      "Encontrado: [ID: PartidoAzteca7_segment_932] - [Distancia: 0.47994792]\n"
     ]
    },
    {
     "data": {
      "text/html": [
       "\n",
       "        <p>Mostrando segmento: <b>PartidoAzteca7_segment_932</b> (segundos 3728-3732)</p>\n",
       "        <video width=\"640\" controls>\n",
       "            <source src=\"vboxioof/Videos/Videos_Segmentados/PartidoAzteca7_segment_932.mp4#t=3728,3732\" type=\"video/mp4\">\n",
       "            Tu navegador no soporta la etiqueta de video.\n",
       "        </video>\n",
       "        "
      ],
      "text/plain": [
       "<IPython.core.display.HTML object>"
      ]
     },
     "metadata": {},
     "output_type": "display_data"
    },
    {
     "name": "stdout",
     "output_type": "stream",
     "text": [
      "\n",
      "Encontrado: [ID: PartidoAzteca7_segment_958] - [Distancia: 0.48236069]\n"
     ]
    },
    {
     "data": {
      "text/html": [
       "\n",
       "        <p>Mostrando segmento: <b>PartidoAzteca7_segment_958</b> (segundos 3832-3836)</p>\n",
       "        <video width=\"640\" controls>\n",
       "            <source src=\"vboxioof/Videos/Videos_Segmentados/PartidoAzteca7_segment_958.mp4#t=3832,3836\" type=\"video/mp4\">\n",
       "            Tu navegador no soporta la etiqueta de video.\n",
       "        </video>\n",
       "        "
      ],
      "text/plain": [
       "<IPython.core.display.HTML object>"
      ]
     },
     "metadata": {},
     "output_type": "display_data"
    },
    {
     "name": "stdout",
     "output_type": "stream",
     "text": [
      "\n",
      "Encontrado: [ID: PartidoAzteca7_segment_724] - [Distancia: 0.48360842]\n"
     ]
    },
    {
     "data": {
      "text/html": [
       "\n",
       "        <p>Mostrando segmento: <b>PartidoAzteca7_segment_724</b> (segundos 2896-2900)</p>\n",
       "        <video width=\"640\" controls>\n",
       "            <source src=\"vboxioof/Videos/Videos_Segmentados/PartidoAzteca7_segment_724.mp4#t=2896,2900\" type=\"video/mp4\">\n",
       "            Tu navegador no soporta la etiqueta de video.\n",
       "        </video>\n",
       "        "
      ],
      "text/plain": [
       "<IPython.core.display.HTML object>"
      ]
     },
     "metadata": {},
     "output_type": "display_data"
    },
    {
     "name": "stdout",
     "output_type": "stream",
     "text": [
      "\n",
      "Encontrado: [ID: PartidoAzteca7_segment_801] - [Distancia: 0.48797610]\n"
     ]
    },
    {
     "data": {
      "text/html": [
       "\n",
       "        <p>Mostrando segmento: <b>PartidoAzteca7_segment_801</b> (segundos 3204-3208)</p>\n",
       "        <video width=\"640\" controls>\n",
       "            <source src=\"vboxioof/Videos/Videos_Segmentados/PartidoAzteca7_segment_801.mp4#t=3204,3208\" type=\"video/mp4\">\n",
       "            Tu navegador no soporta la etiqueta de video.\n",
       "        </video>\n",
       "        "
      ],
      "text/plain": [
       "<IPython.core.display.HTML object>"
      ]
     },
     "metadata": {},
     "output_type": "display_data"
    },
    {
     "name": "stdout",
     "output_type": "stream",
     "text": [
      "\n",
      "Encontrado: [ID: PartidoAzteca7_segment_754] - [Distancia: 0.48912904]\n"
     ]
    },
    {
     "data": {
      "text/html": [
       "\n",
       "        <p>Mostrando segmento: <b>PartidoAzteca7_segment_754</b> (segundos 3016-3020)</p>\n",
       "        <video width=\"640\" controls>\n",
       "            <source src=\"vboxioof/Videos/Videos_Segmentados/PartidoAzteca7_segment_754.mp4#t=3016,3020\" type=\"video/mp4\">\n",
       "            Tu navegador no soporta la etiqueta de video.\n",
       "        </video>\n",
       "        "
      ],
      "text/plain": [
       "<IPython.core.display.HTML object>"
      ]
     },
     "metadata": {},
     "output_type": "display_data"
    },
    {
     "name": "stdout",
     "output_type": "stream",
     "text": [
      "\n",
      "Encontrado: [ID: PartidoAzteca7_segment_802] - [Distancia: 0.49145138]\n"
     ]
    },
    {
     "data": {
      "text/html": [
       "\n",
       "        <p>Mostrando segmento: <b>PartidoAzteca7_segment_802</b> (segundos 3208-3212)</p>\n",
       "        <video width=\"640\" controls>\n",
       "            <source src=\"vboxioof/Videos/Videos_Segmentados/PartidoAzteca7_segment_802.mp4#t=3208,3212\" type=\"video/mp4\">\n",
       "            Tu navegador no soporta la etiqueta de video.\n",
       "        </video>\n",
       "        "
      ],
      "text/plain": [
       "<IPython.core.display.HTML object>"
      ]
     },
     "metadata": {},
     "output_type": "display_data"
    },
    {
     "name": "stdout",
     "output_type": "stream",
     "text": [
      "\n",
      "Encontrado: [ID: PartidoAzteca7_segment_799] - [Distancia: 0.49213213]\n"
     ]
    },
    {
     "data": {
      "text/html": [
       "\n",
       "        <p>Mostrando segmento: <b>PartidoAzteca7_segment_799</b> (segundos 3196-3200)</p>\n",
       "        <video width=\"640\" controls>\n",
       "            <source src=\"vboxioof/Videos/Videos_Segmentados/PartidoAzteca7_segment_799.mp4#t=3196,3200\" type=\"video/mp4\">\n",
       "            Tu navegador no soporta la etiqueta de video.\n",
       "        </video>\n",
       "        "
      ],
      "text/plain": [
       "<IPython.core.display.HTML object>"
      ]
     },
     "metadata": {},
     "output_type": "display_data"
    },
    {
     "name": "stdout",
     "output_type": "stream",
     "text": [
      "\n",
      "Encontrado: [ID: PartidoAzteca7_segment_788] - [Distancia: 0.49229962]\n"
     ]
    },
    {
     "data": {
      "text/html": [
       "\n",
       "        <p>Mostrando segmento: <b>PartidoAzteca7_segment_788</b> (segundos 3152-3156)</p>\n",
       "        <video width=\"640\" controls>\n",
       "            <source src=\"vboxioof/Videos/Videos_Segmentados/PartidoAzteca7_segment_788.mp4#t=3152,3156\" type=\"video/mp4\">\n",
       "            Tu navegador no soporta la etiqueta de video.\n",
       "        </video>\n",
       "        "
      ],
      "text/plain": [
       "<IPython.core.display.HTML object>"
      ]
     },
     "metadata": {},
     "output_type": "display_data"
    },
    {
     "name": "stdout",
     "output_type": "stream",
     "text": [
      "\n",
      "Encontrado: [ID: PartidoAzteca7_segment_931] - [Distancia: 0.49297321]\n"
     ]
    },
    {
     "data": {
      "text/html": [
       "\n",
       "        <p>Mostrando segmento: <b>PartidoAzteca7_segment_931</b> (segundos 3724-3728)</p>\n",
       "        <video width=\"640\" controls>\n",
       "            <source src=\"vboxioof/Videos/Videos_Segmentados/PartidoAzteca7_segment_931.mp4#t=3724,3728\" type=\"video/mp4\">\n",
       "            Tu navegador no soporta la etiqueta de video.\n",
       "        </video>\n",
       "        "
      ],
      "text/plain": [
       "<IPython.core.display.HTML object>"
      ]
     },
     "metadata": {},
     "output_type": "display_data"
    },
    {
     "name": "stdout",
     "output_type": "stream",
     "text": [
      "\n",
      "Encontrado: [ID: PartidoAzteca7_segment_1794] - [Distancia: 0.49351749]\n"
     ]
    },
    {
     "data": {
      "text/html": [
       "\n",
       "        <p>Mostrando segmento: <b>PartidoAzteca7_segment_1794</b> (segundos 7176-7180)</p>\n",
       "        <video width=\"640\" controls>\n",
       "            <source src=\"vboxioof/Videos/Videos_Segmentados/PartidoAzteca7_segment_1794.mp4#t=7176,7180\" type=\"video/mp4\">\n",
       "            Tu navegador no soporta la etiqueta de video.\n",
       "        </video>\n",
       "        "
      ],
      "text/plain": [
       "<IPython.core.display.HTML object>"
      ]
     },
     "metadata": {},
     "output_type": "display_data"
    },
    {
     "name": "stdout",
     "output_type": "stream",
     "text": [
      "\n",
      "Encontrado: [ID: PartidoAzteca7_segment_818] - [Distancia: 0.49666005]\n"
     ]
    },
    {
     "data": {
      "text/html": [
       "\n",
       "        <p>Mostrando segmento: <b>PartidoAzteca7_segment_818</b> (segundos 3272-3276)</p>\n",
       "        <video width=\"640\" controls>\n",
       "            <source src=\"vboxioof/Videos/Videos_Segmentados/PartidoAzteca7_segment_818.mp4#t=3272,3276\" type=\"video/mp4\">\n",
       "            Tu navegador no soporta la etiqueta de video.\n",
       "        </video>\n",
       "        "
      ],
      "text/plain": [
       "<IPython.core.display.HTML object>"
      ]
     },
     "metadata": {},
     "output_type": "display_data"
    },
    {
     "name": "stdout",
     "output_type": "stream",
     "text": [
      "\n",
      "Encontrado: [ID: PartidoAzteca7_segment_701] - [Distancia: 0.49887729]\n"
     ]
    },
    {
     "data": {
      "text/html": [
       "\n",
       "        <p>Mostrando segmento: <b>PartidoAzteca7_segment_701</b> (segundos 2804-2808)</p>\n",
       "        <video width=\"640\" controls>\n",
       "            <source src=\"vboxioof/Videos/Videos_Segmentados/PartidoAzteca7_segment_701.mp4#t=2804,2808\" type=\"video/mp4\">\n",
       "            Tu navegador no soporta la etiqueta de video.\n",
       "        </video>\n",
       "        "
      ],
      "text/plain": [
       "<IPython.core.display.HTML object>"
      ]
     },
     "metadata": {},
     "output_type": "display_data"
    },
    {
     "name": "stdout",
     "output_type": "stream",
     "text": [
      "\n",
      "Encontrado: [ID: PartidoAzteca7_segment_859] - [Distancia: 0.49899158]\n"
     ]
    },
    {
     "data": {
      "text/html": [
       "\n",
       "        <p>Mostrando segmento: <b>PartidoAzteca7_segment_859</b> (segundos 3436-3440)</p>\n",
       "        <video width=\"640\" controls>\n",
       "            <source src=\"vboxioof/Videos/Videos_Segmentados/PartidoAzteca7_segment_859.mp4#t=3436,3440\" type=\"video/mp4\">\n",
       "            Tu navegador no soporta la etiqueta de video.\n",
       "        </video>\n",
       "        "
      ],
      "text/plain": [
       "<IPython.core.display.HTML object>"
      ]
     },
     "metadata": {},
     "output_type": "display_data"
    },
    {
     "name": "stdout",
     "output_type": "stream",
     "text": [
      "\n",
      "Encontrado: [ID: PartidoAzteca7_segment_868] - [Distancia: 0.49961045]\n"
     ]
    },
    {
     "data": {
      "text/html": [
       "\n",
       "        <p>Mostrando segmento: <b>PartidoAzteca7_segment_868</b> (segundos 3472-3476)</p>\n",
       "        <video width=\"640\" controls>\n",
       "            <source src=\"vboxioof/Videos/Videos_Segmentados/PartidoAzteca7_segment_868.mp4#t=3472,3476\" type=\"video/mp4\">\n",
       "            Tu navegador no soporta la etiqueta de video.\n",
       "        </video>\n",
       "        "
      ],
      "text/plain": [
       "<IPython.core.display.HTML object>"
      ]
     },
     "metadata": {},
     "output_type": "display_data"
    },
    {
     "name": "stdout",
     "output_type": "stream",
     "text": [
      "\n",
      "Encontrado: [ID: PartidoAzteca7_segment_704] - [Distancia: 0.50011247]\n"
     ]
    },
    {
     "data": {
      "text/html": [
       "\n",
       "        <p>Mostrando segmento: <b>PartidoAzteca7_segment_704</b> (segundos 2816-2820)</p>\n",
       "        <video width=\"640\" controls>\n",
       "            <source src=\"vboxioof/Videos/Videos_Segmentados/PartidoAzteca7_segment_704.mp4#t=2816,2820\" type=\"video/mp4\">\n",
       "            Tu navegador no soporta la etiqueta de video.\n",
       "        </video>\n",
       "        "
      ],
      "text/plain": [
       "<IPython.core.display.HTML object>"
      ]
     },
     "metadata": {},
     "output_type": "display_data"
    },
    {
     "name": "stdout",
     "output_type": "stream",
     "text": [
      "\n",
      "Encontrado: [ID: PartidoAzteca7_segment_775] - [Distancia: 0.50264692]\n"
     ]
    },
    {
     "data": {
      "text/html": [
       "\n",
       "        <p>Mostrando segmento: <b>PartidoAzteca7_segment_775</b> (segundos 3100-3104)</p>\n",
       "        <video width=\"640\" controls>\n",
       "            <source src=\"vboxioof/Videos/Videos_Segmentados/PartidoAzteca7_segment_775.mp4#t=3100,3104\" type=\"video/mp4\">\n",
       "            Tu navegador no soporta la etiqueta de video.\n",
       "        </video>\n",
       "        "
      ],
      "text/plain": [
       "<IPython.core.display.HTML object>"
      ]
     },
     "metadata": {},
     "output_type": "display_data"
    },
    {
     "name": "stdout",
     "output_type": "stream",
     "text": [
      "\n",
      "Encontrado: [ID: PartidoAzteca7_segment_715] - [Distancia: 0.50383580]\n"
     ]
    },
    {
     "data": {
      "text/html": [
       "\n",
       "        <p>Mostrando segmento: <b>PartidoAzteca7_segment_715</b> (segundos 2860-2864)</p>\n",
       "        <video width=\"640\" controls>\n",
       "            <source src=\"vboxioof/Videos/Videos_Segmentados/PartidoAzteca7_segment_715.mp4#t=2860,2864\" type=\"video/mp4\">\n",
       "            Tu navegador no soporta la etiqueta de video.\n",
       "        </video>\n",
       "        "
      ],
      "text/plain": [
       "<IPython.core.display.HTML object>"
      ]
     },
     "metadata": {},
     "output_type": "display_data"
    },
    {
     "name": "stdout",
     "output_type": "stream",
     "text": [
      "\n",
      "Encontrado: [ID: PartidoAzteca7_segment_831] - [Distancia: 0.50639582]\n"
     ]
    },
    {
     "data": {
      "text/html": [
       "\n",
       "        <p>Mostrando segmento: <b>PartidoAzteca7_segment_831</b> (segundos 3324-3328)</p>\n",
       "        <video width=\"640\" controls>\n",
       "            <source src=\"vboxioof/Videos/Videos_Segmentados/PartidoAzteca7_segment_831.mp4#t=3324,3328\" type=\"video/mp4\">\n",
       "            Tu navegador no soporta la etiqueta de video.\n",
       "        </video>\n",
       "        "
      ],
      "text/plain": [
       "<IPython.core.display.HTML object>"
      ]
     },
     "metadata": {},
     "output_type": "display_data"
    },
    {
     "name": "stdout",
     "output_type": "stream",
     "text": [
      "\n",
      "Encontrado: [ID: PartidoAzteca7_segment_759] - [Distancia: 0.51207525]\n"
     ]
    },
    {
     "data": {
      "text/html": [
       "\n",
       "        <p>Mostrando segmento: <b>PartidoAzteca7_segment_759</b> (segundos 3036-3040)</p>\n",
       "        <video width=\"640\" controls>\n",
       "            <source src=\"vboxioof/Videos/Videos_Segmentados/PartidoAzteca7_segment_759.mp4#t=3036,3040\" type=\"video/mp4\">\n",
       "            Tu navegador no soporta la etiqueta de video.\n",
       "        </video>\n",
       "        "
      ],
      "text/plain": [
       "<IPython.core.display.HTML object>"
      ]
     },
     "metadata": {},
     "output_type": "display_data"
    },
    {
     "name": "stdout",
     "output_type": "stream",
     "text": [
      "\n",
      "Encontrado: [ID: PartidoAzteca7_segment_656] - [Distancia: 0.51300687]\n"
     ]
    },
    {
     "data": {
      "text/html": [
       "\n",
       "        <p>Mostrando segmento: <b>PartidoAzteca7_segment_656</b> (segundos 2624-2628)</p>\n",
       "        <video width=\"640\" controls>\n",
       "            <source src=\"vboxioof/Videos/Videos_Segmentados/PartidoAzteca7_segment_656.mp4#t=2624,2628\" type=\"video/mp4\">\n",
       "            Tu navegador no soporta la etiqueta de video.\n",
       "        </video>\n",
       "        "
      ],
      "text/plain": [
       "<IPython.core.display.HTML object>"
      ]
     },
     "metadata": {},
     "output_type": "display_data"
    },
    {
     "name": "stdout",
     "output_type": "stream",
     "text": [
      "\n",
      "Encontrado: [ID: PartidoAzteca7_segment_698] - [Distancia: 0.51332480]\n"
     ]
    },
    {
     "data": {
      "text/html": [
       "\n",
       "        <p>Mostrando segmento: <b>PartidoAzteca7_segment_698</b> (segundos 2792-2796)</p>\n",
       "        <video width=\"640\" controls>\n",
       "            <source src=\"vboxioof/Videos/Videos_Segmentados/PartidoAzteca7_segment_698.mp4#t=2792,2796\" type=\"video/mp4\">\n",
       "            Tu navegador no soporta la etiqueta de video.\n",
       "        </video>\n",
       "        "
      ],
      "text/plain": [
       "<IPython.core.display.HTML object>"
      ]
     },
     "metadata": {},
     "output_type": "display_data"
    },
    {
     "name": "stdout",
     "output_type": "stream",
     "text": [
      "\n",
      "Encontrado: [ID: PartidoAzteca7_segment_657] - [Distancia: 0.51346314]\n"
     ]
    },
    {
     "data": {
      "text/html": [
       "\n",
       "        <p>Mostrando segmento: <b>PartidoAzteca7_segment_657</b> (segundos 2628-2632)</p>\n",
       "        <video width=\"640\" controls>\n",
       "            <source src=\"vboxioof/Videos/Videos_Segmentados/PartidoAzteca7_segment_657.mp4#t=2628,2632\" type=\"video/mp4\">\n",
       "            Tu navegador no soporta la etiqueta de video.\n",
       "        </video>\n",
       "        "
      ],
      "text/plain": [
       "<IPython.core.display.HTML object>"
      ]
     },
     "metadata": {},
     "output_type": "display_data"
    },
    {
     "name": "stdout",
     "output_type": "stream",
     "text": [
      "\n",
      "Encontrado: [ID: PartidoAzteca7_segment_655] - [Distancia: 0.51424587]\n"
     ]
    },
    {
     "data": {
      "text/html": [
       "\n",
       "        <p>Mostrando segmento: <b>PartidoAzteca7_segment_655</b> (segundos 2620-2624)</p>\n",
       "        <video width=\"640\" controls>\n",
       "            <source src=\"vboxioof/Videos/Videos_Segmentados/PartidoAzteca7_segment_655.mp4#t=2620,2624\" type=\"video/mp4\">\n",
       "            Tu navegador no soporta la etiqueta de video.\n",
       "        </video>\n",
       "        "
      ],
      "text/plain": [
       "<IPython.core.display.HTML object>"
      ]
     },
     "metadata": {},
     "output_type": "display_data"
    },
    {
     "name": "stdout",
     "output_type": "stream",
     "text": [
      "\n",
      "Encontrado: [ID: PartidoAzteca7_segment_840] - [Distancia: 0.51460987]\n"
     ]
    },
    {
     "data": {
      "text/html": [
       "\n",
       "        <p>Mostrando segmento: <b>PartidoAzteca7_segment_840</b> (segundos 3360-3364)</p>\n",
       "        <video width=\"640\" controls>\n",
       "            <source src=\"vboxioof/Videos/Videos_Segmentados/PartidoAzteca7_segment_840.mp4#t=3360,3364\" type=\"video/mp4\">\n",
       "            Tu navegador no soporta la etiqueta de video.\n",
       "        </video>\n",
       "        "
      ],
      "text/plain": [
       "<IPython.core.display.HTML object>"
      ]
     },
     "metadata": {},
     "output_type": "display_data"
    },
    {
     "name": "stdout",
     "output_type": "stream",
     "text": [
      "\n",
      "Encontrado: [ID: PartidoAzteca7_segment_644] - [Distancia: 0.51570064]\n"
     ]
    },
    {
     "data": {
      "text/html": [
       "\n",
       "        <p>Mostrando segmento: <b>PartidoAzteca7_segment_644</b> (segundos 2576-2580)</p>\n",
       "        <video width=\"640\" controls>\n",
       "            <source src=\"vboxioof/Videos/Videos_Segmentados/PartidoAzteca7_segment_644.mp4#t=2576,2580\" type=\"video/mp4\">\n",
       "            Tu navegador no soporta la etiqueta de video.\n",
       "        </video>\n",
       "        "
      ],
      "text/plain": [
       "<IPython.core.display.HTML object>"
      ]
     },
     "metadata": {},
     "output_type": "display_data"
    },
    {
     "name": "stdout",
     "output_type": "stream",
     "text": [
      "\n",
      "Encontrado: [ID: PartidoAzteca7_segment_761] - [Distancia: 0.51621079]\n"
     ]
    },
    {
     "data": {
      "text/html": [
       "\n",
       "        <p>Mostrando segmento: <b>PartidoAzteca7_segment_761</b> (segundos 3044-3048)</p>\n",
       "        <video width=\"640\" controls>\n",
       "            <source src=\"vboxioof/Videos/Videos_Segmentados/PartidoAzteca7_segment_761.mp4#t=3044,3048\" type=\"video/mp4\">\n",
       "            Tu navegador no soporta la etiqueta de video.\n",
       "        </video>\n",
       "        "
      ],
      "text/plain": [
       "<IPython.core.display.HTML object>"
      ]
     },
     "metadata": {},
     "output_type": "display_data"
    },
    {
     "name": "stdout",
     "output_type": "stream",
     "text": [
      "\n",
      "Encontrado: [ID: PartidoAzteca7_segment_787] - [Distancia: 0.52004522]\n"
     ]
    },
    {
     "data": {
      "text/html": [
       "\n",
       "        <p>Mostrando segmento: <b>PartidoAzteca7_segment_787</b> (segundos 3148-3152)</p>\n",
       "        <video width=\"640\" controls>\n",
       "            <source src=\"vboxioof/Videos/Videos_Segmentados/PartidoAzteca7_segment_787.mp4#t=3148,3152\" type=\"video/mp4\">\n",
       "            Tu navegador no soporta la etiqueta de video.\n",
       "        </video>\n",
       "        "
      ],
      "text/plain": [
       "<IPython.core.display.HTML object>"
      ]
     },
     "metadata": {},
     "output_type": "display_data"
    },
    {
     "name": "stdout",
     "output_type": "stream",
     "text": [
      "\n",
      "Encontrado: [ID: PartidoAzteca7_segment_803] - [Distancia: 0.52187788]\n"
     ]
    },
    {
     "data": {
      "text/html": [
       "\n",
       "        <p>Mostrando segmento: <b>PartidoAzteca7_segment_803</b> (segundos 3212-3216)</p>\n",
       "        <video width=\"640\" controls>\n",
       "            <source src=\"vboxioof/Videos/Videos_Segmentados/PartidoAzteca7_segment_803.mp4#t=3212,3216\" type=\"video/mp4\">\n",
       "            Tu navegador no soporta la etiqueta de video.\n",
       "        </video>\n",
       "        "
      ],
      "text/plain": [
       "<IPython.core.display.HTML object>"
      ]
     },
     "metadata": {},
     "output_type": "display_data"
    },
    {
     "name": "stdout",
     "output_type": "stream",
     "text": [
      "\n",
      "Encontrado: [ID: PartidoAzteca7_segment_861] - [Distancia: 0.52371973]\n"
     ]
    },
    {
     "data": {
      "text/html": [
       "\n",
       "        <p>Mostrando segmento: <b>PartidoAzteca7_segment_861</b> (segundos 3444-3448)</p>\n",
       "        <video width=\"640\" controls>\n",
       "            <source src=\"vboxioof/Videos/Videos_Segmentados/PartidoAzteca7_segment_861.mp4#t=3444,3448\" type=\"video/mp4\">\n",
       "            Tu navegador no soporta la etiqueta de video.\n",
       "        </video>\n",
       "        "
      ],
      "text/plain": [
       "<IPython.core.display.HTML object>"
      ]
     },
     "metadata": {},
     "output_type": "display_data"
    },
    {
     "name": "stdout",
     "output_type": "stream",
     "text": [
      "\n",
      "Encontrado: [ID: PartidoAzteca7_segment_760] - [Distancia: 0.52387094]\n"
     ]
    },
    {
     "data": {
      "text/html": [
       "\n",
       "        <p>Mostrando segmento: <b>PartidoAzteca7_segment_760</b> (segundos 3040-3044)</p>\n",
       "        <video width=\"640\" controls>\n",
       "            <source src=\"vboxioof/Videos/Videos_Segmentados/PartidoAzteca7_segment_760.mp4#t=3040,3044\" type=\"video/mp4\">\n",
       "            Tu navegador no soporta la etiqueta de video.\n",
       "        </video>\n",
       "        "
      ],
      "text/plain": [
       "<IPython.core.display.HTML object>"
      ]
     },
     "metadata": {},
     "output_type": "display_data"
    },
    {
     "name": "stdout",
     "output_type": "stream",
     "text": [
      "\n",
      "Encontrado: [ID: PartidoAzteca7_segment_645] - [Distancia: 0.52640855]\n"
     ]
    },
    {
     "data": {
      "text/html": [
       "\n",
       "        <p>Mostrando segmento: <b>PartidoAzteca7_segment_645</b> (segundos 2580-2584)</p>\n",
       "        <video width=\"640\" controls>\n",
       "            <source src=\"vboxioof/Videos/Videos_Segmentados/PartidoAzteca7_segment_645.mp4#t=2580,2584\" type=\"video/mp4\">\n",
       "            Tu navegador no soporta la etiqueta de video.\n",
       "        </video>\n",
       "        "
      ],
      "text/plain": [
       "<IPython.core.display.HTML object>"
      ]
     },
     "metadata": {},
     "output_type": "display_data"
    },
    {
     "name": "stdout",
     "output_type": "stream",
     "text": [
      "\n",
      "Encontrado: [ID: PartidoAzteca7_segment_824] - [Distancia: 0.52646959]\n"
     ]
    },
    {
     "data": {
      "text/html": [
       "\n",
       "        <p>Mostrando segmento: <b>PartidoAzteca7_segment_824</b> (segundos 3296-3300)</p>\n",
       "        <video width=\"640\" controls>\n",
       "            <source src=\"vboxioof/Videos/Videos_Segmentados/PartidoAzteca7_segment_824.mp4#t=3296,3300\" type=\"video/mp4\">\n",
       "            Tu navegador no soporta la etiqueta de video.\n",
       "        </video>\n",
       "        "
      ],
      "text/plain": [
       "<IPython.core.display.HTML object>"
      ]
     },
     "metadata": {},
     "output_type": "display_data"
    },
    {
     "name": "stdout",
     "output_type": "stream",
     "text": [
      "\n",
      "Encontrado: [ID: PartidoAzteca7_segment_646] - [Distancia: 0.52706426]\n"
     ]
    },
    {
     "data": {
      "text/html": [
       "\n",
       "        <p>Mostrando segmento: <b>PartidoAzteca7_segment_646</b> (segundos 2584-2588)</p>\n",
       "        <video width=\"640\" controls>\n",
       "            <source src=\"vboxioof/Videos/Videos_Segmentados/PartidoAzteca7_segment_646.mp4#t=2584,2588\" type=\"video/mp4\">\n",
       "            Tu navegador no soporta la etiqueta de video.\n",
       "        </video>\n",
       "        "
      ],
      "text/plain": [
       "<IPython.core.display.HTML object>"
      ]
     },
     "metadata": {},
     "output_type": "display_data"
    },
    {
     "name": "stdout",
     "output_type": "stream",
     "text": [
      "\n",
      "Encontrado: [ID: PartidoAzteca7_segment_844] - [Distancia: 0.53210342]\n"
     ]
    },
    {
     "data": {
      "text/html": [
       "\n",
       "        <p>Mostrando segmento: <b>PartidoAzteca7_segment_844</b> (segundos 3376-3380)</p>\n",
       "        <video width=\"640\" controls>\n",
       "            <source src=\"vboxioof/Videos/Videos_Segmentados/PartidoAzteca7_segment_844.mp4#t=3376,3380\" type=\"video/mp4\">\n",
       "            Tu navegador no soporta la etiqueta de video.\n",
       "        </video>\n",
       "        "
      ],
      "text/plain": [
       "<IPython.core.display.HTML object>"
      ]
     },
     "metadata": {},
     "output_type": "display_data"
    },
    {
     "name": "stdout",
     "output_type": "stream",
     "text": [
      "\n",
      "Encontrado: [ID: PartidoAzteca7_segment_718] - [Distancia: 0.53550690]\n"
     ]
    },
    {
     "data": {
      "text/html": [
       "\n",
       "        <p>Mostrando segmento: <b>PartidoAzteca7_segment_718</b> (segundos 2872-2876)</p>\n",
       "        <video width=\"640\" controls>\n",
       "            <source src=\"vboxioof/Videos/Videos_Segmentados/PartidoAzteca7_segment_718.mp4#t=2872,2876\" type=\"video/mp4\">\n",
       "            Tu navegador no soporta la etiqueta de video.\n",
       "        </video>\n",
       "        "
      ],
      "text/plain": [
       "<IPython.core.display.HTML object>"
      ]
     },
     "metadata": {},
     "output_type": "display_data"
    },
    {
     "name": "stdout",
     "output_type": "stream",
     "text": [
      "\n",
      "Encontrado: [ID: PartidoAzteca7_segment_643] - [Distancia: 0.54076368]\n"
     ]
    },
    {
     "data": {
      "text/html": [
       "\n",
       "        <p>Mostrando segmento: <b>PartidoAzteca7_segment_643</b> (segundos 2572-2576)</p>\n",
       "        <video width=\"640\" controls>\n",
       "            <source src=\"vboxioof/Videos/Videos_Segmentados/PartidoAzteca7_segment_643.mp4#t=2572,2576\" type=\"video/mp4\">\n",
       "            Tu navegador no soporta la etiqueta de video.\n",
       "        </video>\n",
       "        "
      ],
      "text/plain": [
       "<IPython.core.display.HTML object>"
      ]
     },
     "metadata": {},
     "output_type": "display_data"
    },
    {
     "name": "stdout",
     "output_type": "stream",
     "text": [
      "\n",
      "Encontrado: [ID: PartidoAzteca7_segment_858] - [Distancia: 0.54203409]\n"
     ]
    },
    {
     "data": {
      "text/html": [
       "\n",
       "        <p>Mostrando segmento: <b>PartidoAzteca7_segment_858</b> (segundos 3432-3436)</p>\n",
       "        <video width=\"640\" controls>\n",
       "            <source src=\"vboxioof/Videos/Videos_Segmentados/PartidoAzteca7_segment_858.mp4#t=3432,3436\" type=\"video/mp4\">\n",
       "            Tu navegador no soporta la etiqueta de video.\n",
       "        </video>\n",
       "        "
      ],
      "text/plain": [
       "<IPython.core.display.HTML object>"
      ]
     },
     "metadata": {},
     "output_type": "display_data"
    },
    {
     "name": "stdout",
     "output_type": "stream",
     "text": [
      "\n",
      "Encontrado: [ID: PartidoAzteca7_segment_1009] - [Distancia: 0.54662228]\n"
     ]
    },
    {
     "data": {
      "text/html": [
       "\n",
       "        <p>Mostrando segmento: <b>PartidoAzteca7_segment_1009</b> (segundos 4036-4040)</p>\n",
       "        <video width=\"640\" controls>\n",
       "            <source src=\"vboxioof/Videos/Videos_Segmentados/PartidoAzteca7_segment_1009.mp4#t=4036,4040\" type=\"video/mp4\">\n",
       "            Tu navegador no soporta la etiqueta de video.\n",
       "        </video>\n",
       "        "
      ],
      "text/plain": [
       "<IPython.core.display.HTML object>"
      ]
     },
     "metadata": {},
     "output_type": "display_data"
    },
    {
     "name": "stdout",
     "output_type": "stream",
     "text": [
      "\n",
      "Encontrado: [ID: PartidoAzteca7_segment_749] - [Distancia: 0.54785848]\n"
     ]
    },
    {
     "data": {
      "text/html": [
       "\n",
       "        <p>Mostrando segmento: <b>PartidoAzteca7_segment_749</b> (segundos 2996-3000)</p>\n",
       "        <video width=\"640\" controls>\n",
       "            <source src=\"vboxioof/Videos/Videos_Segmentados/PartidoAzteca7_segment_749.mp4#t=2996,3000\" type=\"video/mp4\">\n",
       "            Tu navegador no soporta la etiqueta de video.\n",
       "        </video>\n",
       "        "
      ],
      "text/plain": [
       "<IPython.core.display.HTML object>"
      ]
     },
     "metadata": {},
     "output_type": "display_data"
    },
    {
     "name": "stdout",
     "output_type": "stream",
     "text": [
      "\n",
      "Encontrado: [ID: PartidoAzteca7_segment_762] - [Distancia: 0.54829466]\n"
     ]
    },
    {
     "data": {
      "text/html": [
       "\n",
       "        <p>Mostrando segmento: <b>PartidoAzteca7_segment_762</b> (segundos 3048-3052)</p>\n",
       "        <video width=\"640\" controls>\n",
       "            <source src=\"vboxioof/Videos/Videos_Segmentados/PartidoAzteca7_segment_762.mp4#t=3048,3052\" type=\"video/mp4\">\n",
       "            Tu navegador no soporta la etiqueta de video.\n",
       "        </video>\n",
       "        "
      ],
      "text/plain": [
       "<IPython.core.display.HTML object>"
      ]
     },
     "metadata": {},
     "output_type": "display_data"
    },
    {
     "name": "stdout",
     "output_type": "stream",
     "text": [
      "\n",
      "Encontrado: [ID: PartidoAzteca7_segment_758] - [Distancia: 0.55609846]\n"
     ]
    },
    {
     "data": {
      "text/html": [
       "\n",
       "        <p>Mostrando segmento: <b>PartidoAzteca7_segment_758</b> (segundos 3032-3036)</p>\n",
       "        <video width=\"640\" controls>\n",
       "            <source src=\"vboxioof/Videos/Videos_Segmentados/PartidoAzteca7_segment_758.mp4#t=3032,3036\" type=\"video/mp4\">\n",
       "            Tu navegador no soporta la etiqueta de video.\n",
       "        </video>\n",
       "        "
      ],
      "text/plain": [
       "<IPython.core.display.HTML object>"
      ]
     },
     "metadata": {},
     "output_type": "display_data"
    },
    {
     "name": "stdout",
     "output_type": "stream",
     "text": [
      "\n",
      "Encontrado: [ID: PartidoAzteca7_segment_798] - [Distancia: 0.55840075]\n"
     ]
    },
    {
     "data": {
      "text/html": [
       "\n",
       "        <p>Mostrando segmento: <b>PartidoAzteca7_segment_798</b> (segundos 3192-3196)</p>\n",
       "        <video width=\"640\" controls>\n",
       "            <source src=\"vboxioof/Videos/Videos_Segmentados/PartidoAzteca7_segment_798.mp4#t=3192,3196\" type=\"video/mp4\">\n",
       "            Tu navegador no soporta la etiqueta de video.\n",
       "        </video>\n",
       "        "
      ],
      "text/plain": [
       "<IPython.core.display.HTML object>"
      ]
     },
     "metadata": {},
     "output_type": "display_data"
    },
    {
     "name": "stdout",
     "output_type": "stream",
     "text": [
      "\n",
      "Encontrado: [ID: PartidoAzteca7_segment_930] - [Distancia: 0.56366038]\n"
     ]
    },
    {
     "data": {
      "text/html": [
       "\n",
       "        <p>Mostrando segmento: <b>PartidoAzteca7_segment_930</b> (segundos 3720-3724)</p>\n",
       "        <video width=\"640\" controls>\n",
       "            <source src=\"vboxioof/Videos/Videos_Segmentados/PartidoAzteca7_segment_930.mp4#t=3720,3724\" type=\"video/mp4\">\n",
       "            Tu navegador no soporta la etiqueta de video.\n",
       "        </video>\n",
       "        "
      ],
      "text/plain": [
       "<IPython.core.display.HTML object>"
      ]
     },
     "metadata": {},
     "output_type": "display_data"
    },
    {
     "name": "stdout",
     "output_type": "stream",
     "text": [
      "\n",
      "Encontrado: [ID: PartidoAzteca7_segment_658] - [Distancia: 0.56585968]\n"
     ]
    },
    {
     "data": {
      "text/html": [
       "\n",
       "        <p>Mostrando segmento: <b>PartidoAzteca7_segment_658</b> (segundos 2632-2636)</p>\n",
       "        <video width=\"640\" controls>\n",
       "            <source src=\"vboxioof/Videos/Videos_Segmentados/PartidoAzteca7_segment_658.mp4#t=2632,2636\" type=\"video/mp4\">\n",
       "            Tu navegador no soporta la etiqueta de video.\n",
       "        </video>\n",
       "        "
      ],
      "text/plain": [
       "<IPython.core.display.HTML object>"
      ]
     },
     "metadata": {},
     "output_type": "display_data"
    },
    {
     "name": "stdout",
     "output_type": "stream",
     "text": [
      "\n",
      "Encontrado: [ID: PartidoAzteca7_segment_699] - [Distancia: 0.57163393]\n"
     ]
    },
    {
     "data": {
      "text/html": [
       "\n",
       "        <p>Mostrando segmento: <b>PartidoAzteca7_segment_699</b> (segundos 2796-2800)</p>\n",
       "        <video width=\"640\" controls>\n",
       "            <source src=\"vboxioof/Videos/Videos_Segmentados/PartidoAzteca7_segment_699.mp4#t=2796,2800\" type=\"video/mp4\">\n",
       "            Tu navegador no soporta la etiqueta de video.\n",
       "        </video>\n",
       "        "
      ],
      "text/plain": [
       "<IPython.core.display.HTML object>"
      ]
     },
     "metadata": {},
     "output_type": "display_data"
    },
    {
     "name": "stdout",
     "output_type": "stream",
     "text": [
      "\n",
      "Encontrado: [ID: PartidoAzteca7_segment_654] - [Distancia: 0.58067942]\n"
     ]
    },
    {
     "data": {
      "text/html": [
       "\n",
       "        <p>Mostrando segmento: <b>PartidoAzteca7_segment_654</b> (segundos 2616-2620)</p>\n",
       "        <video width=\"640\" controls>\n",
       "            <source src=\"vboxioof/Videos/Videos_Segmentados/PartidoAzteca7_segment_654.mp4#t=2616,2620\" type=\"video/mp4\">\n",
       "            Tu navegador no soporta la etiqueta de video.\n",
       "        </video>\n",
       "        "
      ],
      "text/plain": [
       "<IPython.core.display.HTML object>"
      ]
     },
     "metadata": {},
     "output_type": "display_data"
    },
    {
     "name": "stdout",
     "output_type": "stream",
     "text": [
      "\n",
      "Encontrado: [ID: PartidoAzteca7_segment_700] - [Distancia: 0.59421754]\n"
     ]
    },
    {
     "data": {
      "text/html": [
       "\n",
       "        <p>Mostrando segmento: <b>PartidoAzteca7_segment_700</b> (segundos 2800-2804)</p>\n",
       "        <video width=\"640\" controls>\n",
       "            <source src=\"vboxioof/Videos/Videos_Segmentados/PartidoAzteca7_segment_700.mp4#t=2800,2804\" type=\"video/mp4\">\n",
       "            Tu navegador no soporta la etiqueta de video.\n",
       "        </video>\n",
       "        "
      ],
      "text/plain": [
       "<IPython.core.display.HTML object>"
      ]
     },
     "metadata": {},
     "output_type": "display_data"
    },
    {
     "name": "stdout",
     "output_type": "stream",
     "text": [
      "\n",
      "Encontrado: [ID: PartidoAzteca7_segment_647] - [Distancia: 0.60155731]\n"
     ]
    },
    {
     "data": {
      "text/html": [
       "\n",
       "        <p>Mostrando segmento: <b>PartidoAzteca7_segment_647</b> (segundos 2588-2592)</p>\n",
       "        <video width=\"640\" controls>\n",
       "            <source src=\"vboxioof/Videos/Videos_Segmentados/PartidoAzteca7_segment_647.mp4#t=2588,2592\" type=\"video/mp4\">\n",
       "            Tu navegador no soporta la etiqueta de video.\n",
       "        </video>\n",
       "        "
      ],
      "text/plain": [
       "<IPython.core.display.HTML object>"
      ]
     },
     "metadata": {},
     "output_type": "display_data"
    },
    {
     "name": "stdout",
     "output_type": "stream",
     "text": [
      "\n",
      "Encontrado: [ID: PartidoAzteca7_segment_763] - [Distancia: 0.61714351]\n"
     ]
    },
    {
     "data": {
      "text/html": [
       "\n",
       "        <p>Mostrando segmento: <b>PartidoAzteca7_segment_763</b> (segundos 3052-3056)</p>\n",
       "        <video width=\"640\" controls>\n",
       "            <source src=\"vboxioof/Videos/Videos_Segmentados/PartidoAzteca7_segment_763.mp4#t=3052,3056\" type=\"video/mp4\">\n",
       "            Tu navegador no soporta la etiqueta de video.\n",
       "        </video>\n",
       "        "
      ],
      "text/plain": [
       "<IPython.core.display.HTML object>"
      ]
     },
     "metadata": {},
     "output_type": "display_data"
    },
    {
     "name": "stdout",
     "output_type": "stream",
     "text": [
      "\n",
      "--- FIN DE LOS RESULTADOS ---\n"
     ]
    }
   ],
   "source": [
    "if __name__ == \"__main__\":\n",
    "\n",
    "    # --- Cargamos la imagen, y le hacemos un embedding ---\n",
    "    image_embedding = get_image_embedding(image_path=image_path)\n",
    "\n",
    "\n",
    "    # --- Buscamos los vecinos más cercanos al embedding de la imagen ---\n",
    "    search_results = find_nearest_neighbors(image_embedding, 50)\n",
    "\n",
    "\n",
    "    # Mostramos los resultados\n",
    "    print(\"\\n--- RESULTADOS DE LA BÚSQUEDA ---\")\n",
    "    \n",
    "    if not search_results or not search_results[0]:\n",
    "        print(\"No se encontraron resultados.\")\n",
    "        \n",
    "    else:\n",
    "\n",
    "        neighbors_sorted = sorted(search_results[0], key=lambda x: x.distance)\n",
    "\n",
    "        for neighbor in neighbors_sorted:\n",
    "            \n",
    "            video_segment_id = neighbor.id\n",
    "            distancia = neighbor.distance\n",
    "\n",
    "            # if distancia < 0.1:  # Si la distancia es mayor a 0.1, no lo consideramos relevante\n",
    "\n",
    "            print(f\"\\nEncontrado: [ID: {video_segment_id}] - [Distancia: {distancia:.8f}]\")\n",
    "            \n",
    "            # Mostramos el fragmento de video correspondiente\n",
    "            display_video_segment(\n",
    "                video_gcs_uri=GCS_VIDEO_URI +f\"{video_segment_id}.mp4\",\n",
    "                segment_id=video_segment_id,\n",
    "                interval=SEGMENT_INTERVAL_SEC\n",
    "            )\n",
    "\n",
    "            # else:\n",
    "                # print(f\"El segmento {video_segment_id} no es relevante (distancia: {distancia:.8f}).\")\n",
    "\n",
    "        print(\"\\n--- FIN DE LOS RESULTADOS ---\")\n",
    "\n"
   ]
  },
  {
   "cell_type": "markdown",
   "id": "c77d70ab",
   "metadata": {},
   "source": [
    "### **Consulta con lenguaje natural**"
   ]
  },
  {
   "cell_type": "code",
   "execution_count": 42,
   "id": "49dc059d",
   "metadata": {},
   "outputs": [
    {
     "name": "stdout",
     "output_type": "stream",
     "text": [
      "Generando embedding para el texto: 'Caliente'\n",
      "Conectando al Index Endpoint...\n",
      "Buscando los 50 videos más similares...\n",
      "\n",
      "--- RESULTADOS DE LA BÚSQUEDA ---\n",
      "\n",
      "Encontrado: [ID: PartidoAzteca7_segment_763] - [Distancia: 0.07520428]\n"
     ]
    },
    {
     "data": {
      "text/html": [
       "\n",
       "        <p>Mostrando segmento: <b>PartidoAzteca7_segment_763</b> (segundos 3052-3056)</p>\n",
       "        <video width=\"640\" controls>\n",
       "            <source src=\"vboxioof/Videos/Videos_Segmentados/PartidoAzteca7_segment_763.mp4#t=3052,3056\" type=\"video/mp4\">\n",
       "            Tu navegador no soporta la etiqueta de video.\n",
       "        </video>\n",
       "        "
      ],
      "text/plain": [
       "<IPython.core.display.HTML object>"
      ]
     },
     "metadata": {},
     "output_type": "display_data"
    },
    {
     "name": "stdout",
     "output_type": "stream",
     "text": [
      "\n",
      "Encontrado: [ID: PartidoAzteca7_segment_251] - [Distancia: 0.07626529]\n"
     ]
    },
    {
     "data": {
      "text/html": [
       "\n",
       "        <p>Mostrando segmento: <b>PartidoAzteca7_segment_251</b> (segundos 1004-1008)</p>\n",
       "        <video width=\"640\" controls>\n",
       "            <source src=\"vboxioof/Videos/Videos_Segmentados/PartidoAzteca7_segment_251.mp4#t=1004,1008\" type=\"video/mp4\">\n",
       "            Tu navegador no soporta la etiqueta de video.\n",
       "        </video>\n",
       "        "
      ],
      "text/plain": [
       "<IPython.core.display.HTML object>"
      ]
     },
     "metadata": {},
     "output_type": "display_data"
    },
    {
     "name": "stdout",
     "output_type": "stream",
     "text": [
      "\n",
      "Encontrado: [ID: PartidoAzteca7_segment_802] - [Distancia: 0.07762823]\n"
     ]
    },
    {
     "data": {
      "text/html": [
       "\n",
       "        <p>Mostrando segmento: <b>PartidoAzteca7_segment_802</b> (segundos 3208-3212)</p>\n",
       "        <video width=\"640\" controls>\n",
       "            <source src=\"vboxioof/Videos/Videos_Segmentados/PartidoAzteca7_segment_802.mp4#t=3208,3212\" type=\"video/mp4\">\n",
       "            Tu navegador no soporta la etiqueta de video.\n",
       "        </video>\n",
       "        "
      ],
      "text/plain": [
       "<IPython.core.display.HTML object>"
      ]
     },
     "metadata": {},
     "output_type": "display_data"
    },
    {
     "name": "stdout",
     "output_type": "stream",
     "text": [
      "\n",
      "Encontrado: [ID: PartidoAzteca7_segment_68] - [Distancia: 0.07765383]\n"
     ]
    },
    {
     "data": {
      "text/html": [
       "\n",
       "        <p>Mostrando segmento: <b>PartidoAzteca7_segment_68</b> (segundos 272-276)</p>\n",
       "        <video width=\"640\" controls>\n",
       "            <source src=\"vboxioof/Videos/Videos_Segmentados/PartidoAzteca7_segment_68.mp4#t=272,276\" type=\"video/mp4\">\n",
       "            Tu navegador no soporta la etiqueta de video.\n",
       "        </video>\n",
       "        "
      ],
      "text/plain": [
       "<IPython.core.display.HTML object>"
      ]
     },
     "metadata": {},
     "output_type": "display_data"
    },
    {
     "name": "stdout",
     "output_type": "stream",
     "text": [
      "\n",
      "Encontrado: [ID: PartidoAzteca7_segment_401] - [Distancia: 0.07765739]\n"
     ]
    },
    {
     "data": {
      "text/html": [
       "\n",
       "        <p>Mostrando segmento: <b>PartidoAzteca7_segment_401</b> (segundos 1604-1608)</p>\n",
       "        <video width=\"640\" controls>\n",
       "            <source src=\"vboxioof/Videos/Videos_Segmentados/PartidoAzteca7_segment_401.mp4#t=1604,1608\" type=\"video/mp4\">\n",
       "            Tu navegador no soporta la etiqueta de video.\n",
       "        </video>\n",
       "        "
      ],
      "text/plain": [
       "<IPython.core.display.HTML object>"
      ]
     },
     "metadata": {},
     "output_type": "display_data"
    },
    {
     "name": "stdout",
     "output_type": "stream",
     "text": [
      "\n",
      "Encontrado: [ID: PartidoAzteca7_segment_684] - [Distancia: 0.07828884]\n"
     ]
    },
    {
     "data": {
      "text/html": [
       "\n",
       "        <p>Mostrando segmento: <b>PartidoAzteca7_segment_684</b> (segundos 2736-2740)</p>\n",
       "        <video width=\"640\" controls>\n",
       "            <source src=\"vboxioof/Videos/Videos_Segmentados/PartidoAzteca7_segment_684.mp4#t=2736,2740\" type=\"video/mp4\">\n",
       "            Tu navegador no soporta la etiqueta de video.\n",
       "        </video>\n",
       "        "
      ],
      "text/plain": [
       "<IPython.core.display.HTML object>"
      ]
     },
     "metadata": {},
     "output_type": "display_data"
    },
    {
     "name": "stdout",
     "output_type": "stream",
     "text": [
      "\n",
      "Encontrado: [ID: PartidoAzteca7_segment_799] - [Distancia: 0.07867815]\n"
     ]
    },
    {
     "data": {
      "text/html": [
       "\n",
       "        <p>Mostrando segmento: <b>PartidoAzteca7_segment_799</b> (segundos 3196-3200)</p>\n",
       "        <video width=\"640\" controls>\n",
       "            <source src=\"vboxioof/Videos/Videos_Segmentados/PartidoAzteca7_segment_799.mp4#t=3196,3200\" type=\"video/mp4\">\n",
       "            Tu navegador no soporta la etiqueta de video.\n",
       "        </video>\n",
       "        "
      ],
      "text/plain": [
       "<IPython.core.display.HTML object>"
      ]
     },
     "metadata": {},
     "output_type": "display_data"
    },
    {
     "name": "stdout",
     "output_type": "stream",
     "text": [
      "\n",
      "Encontrado: [ID: PartidoAzteca7_segment_1581] - [Distancia: 0.07873691]\n"
     ]
    },
    {
     "data": {
      "text/html": [
       "\n",
       "        <p>Mostrando segmento: <b>PartidoAzteca7_segment_1581</b> (segundos 6324-6328)</p>\n",
       "        <video width=\"640\" controls>\n",
       "            <source src=\"vboxioof/Videos/Videos_Segmentados/PartidoAzteca7_segment_1581.mp4#t=6324,6328\" type=\"video/mp4\">\n",
       "            Tu navegador no soporta la etiqueta de video.\n",
       "        </video>\n",
       "        "
      ],
      "text/plain": [
       "<IPython.core.display.HTML object>"
      ]
     },
     "metadata": {},
     "output_type": "display_data"
    },
    {
     "name": "stdout",
     "output_type": "stream",
     "text": [
      "\n",
      "Encontrado: [ID: PartidoAzteca7_segment_861] - [Distancia: 0.08013707]\n"
     ]
    },
    {
     "data": {
      "text/html": [
       "\n",
       "        <p>Mostrando segmento: <b>PartidoAzteca7_segment_861</b> (segundos 3444-3448)</p>\n",
       "        <video width=\"640\" controls>\n",
       "            <source src=\"vboxioof/Videos/Videos_Segmentados/PartidoAzteca7_segment_861.mp4#t=3444,3448\" type=\"video/mp4\">\n",
       "            Tu navegador no soporta la etiqueta de video.\n",
       "        </video>\n",
       "        "
      ],
      "text/plain": [
       "<IPython.core.display.HTML object>"
      ]
     },
     "metadata": {},
     "output_type": "display_data"
    },
    {
     "name": "stdout",
     "output_type": "stream",
     "text": [
      "\n",
      "Encontrado: [ID: PartidoAzteca7_segment_859] - [Distancia: 0.08121511]\n"
     ]
    },
    {
     "data": {
      "text/html": [
       "\n",
       "        <p>Mostrando segmento: <b>PartidoAzteca7_segment_859</b> (segundos 3436-3440)</p>\n",
       "        <video width=\"640\" controls>\n",
       "            <source src=\"vboxioof/Videos/Videos_Segmentados/PartidoAzteca7_segment_859.mp4#t=3436,3440\" type=\"video/mp4\">\n",
       "            Tu navegador no soporta la etiqueta de video.\n",
       "        </video>\n",
       "        "
      ],
      "text/plain": [
       "<IPython.core.display.HTML object>"
      ]
     },
     "metadata": {},
     "output_type": "display_data"
    },
    {
     "name": "stdout",
     "output_type": "stream",
     "text": [
      "\n",
      "Encontrado: [ID: PartidoAzteca7_segment_801] - [Distancia: 0.08159028]\n"
     ]
    },
    {
     "data": {
      "text/html": [
       "\n",
       "        <p>Mostrando segmento: <b>PartidoAzteca7_segment_801</b> (segundos 3204-3208)</p>\n",
       "        <video width=\"640\" controls>\n",
       "            <source src=\"vboxioof/Videos/Videos_Segmentados/PartidoAzteca7_segment_801.mp4#t=3204,3208\" type=\"video/mp4\">\n",
       "            Tu navegador no soporta la etiqueta de video.\n",
       "        </video>\n",
       "        "
      ],
      "text/plain": [
       "<IPython.core.display.HTML object>"
      ]
     },
     "metadata": {},
     "output_type": "display_data"
    },
    {
     "name": "stdout",
     "output_type": "stream",
     "text": [
      "\n",
      "Encontrado: [ID: PartidoAzteca7_segment_775] - [Distancia: 0.08259450]\n"
     ]
    },
    {
     "data": {
      "text/html": [
       "\n",
       "        <p>Mostrando segmento: <b>PartidoAzteca7_segment_775</b> (segundos 3100-3104)</p>\n",
       "        <video width=\"640\" controls>\n",
       "            <source src=\"vboxioof/Videos/Videos_Segmentados/PartidoAzteca7_segment_775.mp4#t=3100,3104\" type=\"video/mp4\">\n",
       "            Tu navegador no soporta la etiqueta de video.\n",
       "        </video>\n",
       "        "
      ],
      "text/plain": [
       "<IPython.core.display.HTML object>"
      ]
     },
     "metadata": {},
     "output_type": "display_data"
    },
    {
     "name": "stdout",
     "output_type": "stream",
     "text": [
      "\n",
      "Encontrado: [ID: PartidoAzteca7_segment_399] - [Distancia: 0.08335567]\n"
     ]
    },
    {
     "data": {
      "text/html": [
       "\n",
       "        <p>Mostrando segmento: <b>PartidoAzteca7_segment_399</b> (segundos 1596-1600)</p>\n",
       "        <video width=\"640\" controls>\n",
       "            <source src=\"vboxioof/Videos/Videos_Segmentados/PartidoAzteca7_segment_399.mp4#t=1596,1600\" type=\"video/mp4\">\n",
       "            Tu navegador no soporta la etiqueta de video.\n",
       "        </video>\n",
       "        "
      ],
      "text/plain": [
       "<IPython.core.display.HTML object>"
      ]
     },
     "metadata": {},
     "output_type": "display_data"
    },
    {
     "name": "stdout",
     "output_type": "stream",
     "text": [
      "\n",
      "Encontrado: [ID: PartidoAzteca7_segment_1065] - [Distancia: 0.08359552]\n"
     ]
    },
    {
     "data": {
      "text/html": [
       "\n",
       "        <p>Mostrando segmento: <b>PartidoAzteca7_segment_1065</b> (segundos 4260-4264)</p>\n",
       "        <video width=\"640\" controls>\n",
       "            <source src=\"vboxioof/Videos/Videos_Segmentados/PartidoAzteca7_segment_1065.mp4#t=4260,4264\" type=\"video/mp4\">\n",
       "            Tu navegador no soporta la etiqueta de video.\n",
       "        </video>\n",
       "        "
      ],
      "text/plain": [
       "<IPython.core.display.HTML object>"
      ]
     },
     "metadata": {},
     "output_type": "display_data"
    },
    {
     "name": "stdout",
     "output_type": "stream",
     "text": [
      "\n",
      "Encontrado: [ID: PartidoAzteca7_segment_937] - [Distancia: 0.08374920]\n"
     ]
    },
    {
     "data": {
      "text/html": [
       "\n",
       "        <p>Mostrando segmento: <b>PartidoAzteca7_segment_937</b> (segundos 3748-3752)</p>\n",
       "        <video width=\"640\" controls>\n",
       "            <source src=\"vboxioof/Videos/Videos_Segmentados/PartidoAzteca7_segment_937.mp4#t=3748,3752\" type=\"video/mp4\">\n",
       "            Tu navegador no soporta la etiqueta de video.\n",
       "        </video>\n",
       "        "
      ],
      "text/plain": [
       "<IPython.core.display.HTML object>"
      ]
     },
     "metadata": {},
     "output_type": "display_data"
    },
    {
     "name": "stdout",
     "output_type": "stream",
     "text": [
      "\n",
      "Encontrado: [ID: PartidoAzteca7_segment_715] - [Distancia: 0.08547106]\n"
     ]
    },
    {
     "data": {
      "text/html": [
       "\n",
       "        <p>Mostrando segmento: <b>PartidoAzteca7_segment_715</b> (segundos 2860-2864)</p>\n",
       "        <video width=\"640\" controls>\n",
       "            <source src=\"vboxioof/Videos/Videos_Segmentados/PartidoAzteca7_segment_715.mp4#t=2860,2864\" type=\"video/mp4\">\n",
       "            Tu navegador no soporta la etiqueta de video.\n",
       "        </video>\n",
       "        "
      ],
      "text/plain": [
       "<IPython.core.display.HTML object>"
      ]
     },
     "metadata": {},
     "output_type": "display_data"
    },
    {
     "name": "stdout",
     "output_type": "stream",
     "text": [
      "\n",
      "Encontrado: [ID: PartidoAzteca7_segment_1322] - [Distancia: 0.08615432]\n"
     ]
    },
    {
     "data": {
      "text/html": [
       "\n",
       "        <p>Mostrando segmento: <b>PartidoAzteca7_segment_1322</b> (segundos 5288-5292)</p>\n",
       "        <video width=\"640\" controls>\n",
       "            <source src=\"vboxioof/Videos/Videos_Segmentados/PartidoAzteca7_segment_1322.mp4#t=5288,5292\" type=\"video/mp4\">\n",
       "            Tu navegador no soporta la etiqueta de video.\n",
       "        </video>\n",
       "        "
      ],
      "text/plain": [
       "<IPython.core.display.HTML object>"
      ]
     },
     "metadata": {},
     "output_type": "display_data"
    },
    {
     "name": "stdout",
     "output_type": "stream",
     "text": [
      "\n",
      "Encontrado: [ID: PartidoAzteca7_segment_837] - [Distancia: 0.08635400]\n"
     ]
    },
    {
     "data": {
      "text/html": [
       "\n",
       "        <p>Mostrando segmento: <b>PartidoAzteca7_segment_837</b> (segundos 3348-3352)</p>\n",
       "        <video width=\"640\" controls>\n",
       "            <source src=\"vboxioof/Videos/Videos_Segmentados/PartidoAzteca7_segment_837.mp4#t=3348,3352\" type=\"video/mp4\">\n",
       "            Tu navegador no soporta la etiqueta de video.\n",
       "        </video>\n",
       "        "
      ],
      "text/plain": [
       "<IPython.core.display.HTML object>"
      ]
     },
     "metadata": {},
     "output_type": "display_data"
    },
    {
     "name": "stdout",
     "output_type": "stream",
     "text": [
      "\n",
      "Encontrado: [ID: PartidoAzteca7_segment_69] - [Distancia: 0.08766039]\n"
     ]
    },
    {
     "data": {
      "text/html": [
       "\n",
       "        <p>Mostrando segmento: <b>PartidoAzteca7_segment_69</b> (segundos 276-280)</p>\n",
       "        <video width=\"640\" controls>\n",
       "            <source src=\"vboxioof/Videos/Videos_Segmentados/PartidoAzteca7_segment_69.mp4#t=276,280\" type=\"video/mp4\">\n",
       "            Tu navegador no soporta la etiqueta de video.\n",
       "        </video>\n",
       "        "
      ],
      "text/plain": [
       "<IPython.core.display.HTML object>"
      ]
     },
     "metadata": {},
     "output_type": "display_data"
    },
    {
     "name": "stdout",
     "output_type": "stream",
     "text": [
      "\n",
      "Encontrado: [ID: PartidoAzteca7_segment_840] - [Distancia: 0.08794662]\n"
     ]
    },
    {
     "data": {
      "text/html": [
       "\n",
       "        <p>Mostrando segmento: <b>PartidoAzteca7_segment_840</b> (segundos 3360-3364)</p>\n",
       "        <video width=\"640\" controls>\n",
       "            <source src=\"vboxioof/Videos/Videos_Segmentados/PartidoAzteca7_segment_840.mp4#t=3360,3364\" type=\"video/mp4\">\n",
       "            Tu navegador no soporta la etiqueta de video.\n",
       "        </video>\n",
       "        "
      ],
      "text/plain": [
       "<IPython.core.display.HTML object>"
      ]
     },
     "metadata": {},
     "output_type": "display_data"
    },
    {
     "name": "stdout",
     "output_type": "stream",
     "text": [
      "\n",
      "Encontrado: [ID: PartidoAzteca7_segment_400] - [Distancia: 0.08904852]\n"
     ]
    },
    {
     "data": {
      "text/html": [
       "\n",
       "        <p>Mostrando segmento: <b>PartidoAzteca7_segment_400</b> (segundos 1600-1604)</p>\n",
       "        <video width=\"640\" controls>\n",
       "            <source src=\"vboxioof/Videos/Videos_Segmentados/PartidoAzteca7_segment_400.mp4#t=1600,1604\" type=\"video/mp4\">\n",
       "            Tu navegador no soporta la etiqueta de video.\n",
       "        </video>\n",
       "        "
      ],
      "text/plain": [
       "<IPython.core.display.HTML object>"
      ]
     },
     "metadata": {},
     "output_type": "display_data"
    },
    {
     "name": "stdout",
     "output_type": "stream",
     "text": [
      "\n",
      "Encontrado: [ID: PartidoAzteca7_segment_788] - [Distancia: 0.09033606]\n"
     ]
    },
    {
     "data": {
      "text/html": [
       "\n",
       "        <p>Mostrando segmento: <b>PartidoAzteca7_segment_788</b> (segundos 3152-3156)</p>\n",
       "        <video width=\"640\" controls>\n",
       "            <source src=\"vboxioof/Videos/Videos_Segmentados/PartidoAzteca7_segment_788.mp4#t=3152,3156\" type=\"video/mp4\">\n",
       "            Tu navegador no soporta la etiqueta de video.\n",
       "        </video>\n",
       "        "
      ],
      "text/plain": [
       "<IPython.core.display.HTML object>"
      ]
     },
     "metadata": {},
     "output_type": "display_data"
    },
    {
     "name": "stdout",
     "output_type": "stream",
     "text": [
      "\n",
      "Encontrado: [ID: PartidoAzteca7_segment_862] - [Distancia: 0.09118791]\n"
     ]
    },
    {
     "data": {
      "text/html": [
       "\n",
       "        <p>Mostrando segmento: <b>PartidoAzteca7_segment_862</b> (segundos 3448-3452)</p>\n",
       "        <video width=\"640\" controls>\n",
       "            <source src=\"vboxioof/Videos/Videos_Segmentados/PartidoAzteca7_segment_862.mp4#t=3448,3452\" type=\"video/mp4\">\n",
       "            Tu navegador no soporta la etiqueta de video.\n",
       "        </video>\n",
       "        "
      ],
      "text/plain": [
       "<IPython.core.display.HTML object>"
      ]
     },
     "metadata": {},
     "output_type": "display_data"
    },
    {
     "name": "stdout",
     "output_type": "stream",
     "text": [
      "\n",
      "Encontrado: [ID: PartidoAzteca7_segment_856] - [Distancia: 0.09227508]\n"
     ]
    },
    {
     "data": {
      "text/html": [
       "\n",
       "        <p>Mostrando segmento: <b>PartidoAzteca7_segment_856</b> (segundos 3424-3428)</p>\n",
       "        <video width=\"640\" controls>\n",
       "            <source src=\"vboxioof/Videos/Videos_Segmentados/PartidoAzteca7_segment_856.mp4#t=3424,3428\" type=\"video/mp4\">\n",
       "            Tu navegador no soporta la etiqueta de video.\n",
       "        </video>\n",
       "        "
      ],
      "text/plain": [
       "<IPython.core.display.HTML object>"
      ]
     },
     "metadata": {},
     "output_type": "display_data"
    },
    {
     "name": "stdout",
     "output_type": "stream",
     "text": [
      "\n",
      "Encontrado: [ID: PartidoAzteca7_segment_794] - [Distancia: 0.09301494]\n"
     ]
    },
    {
     "data": {
      "text/html": [
       "\n",
       "        <p>Mostrando segmento: <b>PartidoAzteca7_segment_794</b> (segundos 3176-3180)</p>\n",
       "        <video width=\"640\" controls>\n",
       "            <source src=\"vboxioof/Videos/Videos_Segmentados/PartidoAzteca7_segment_794.mp4#t=3176,3180\" type=\"video/mp4\">\n",
       "            Tu navegador no soporta la etiqueta de video.\n",
       "        </video>\n",
       "        "
      ],
      "text/plain": [
       "<IPython.core.display.HTML object>"
      ]
     },
     "metadata": {},
     "output_type": "display_data"
    },
    {
     "name": "stdout",
     "output_type": "stream",
     "text": [
      "\n",
      "Encontrado: [ID: PartidoAzteca7_segment_822] - [Distancia: 0.09435363]\n"
     ]
    },
    {
     "data": {
      "text/html": [
       "\n",
       "        <p>Mostrando segmento: <b>PartidoAzteca7_segment_822</b> (segundos 3288-3292)</p>\n",
       "        <video width=\"640\" controls>\n",
       "            <source src=\"vboxioof/Videos/Videos_Segmentados/PartidoAzteca7_segment_822.mp4#t=3288,3292\" type=\"video/mp4\">\n",
       "            Tu navegador no soporta la etiqueta de video.\n",
       "        </video>\n",
       "        "
      ],
      "text/plain": [
       "<IPython.core.display.HTML object>"
      ]
     },
     "metadata": {},
     "output_type": "display_data"
    },
    {
     "name": "stdout",
     "output_type": "stream",
     "text": [
      "\n",
      "Encontrado: [ID: PartidoAzteca7_segment_796] - [Distancia: 0.10006705]\n"
     ]
    },
    {
     "data": {
      "text/html": [
       "\n",
       "        <p>Mostrando segmento: <b>PartidoAzteca7_segment_796</b> (segundos 3184-3188)</p>\n",
       "        <video width=\"640\" controls>\n",
       "            <source src=\"vboxioof/Videos/Videos_Segmentados/PartidoAzteca7_segment_796.mp4#t=3184,3188\" type=\"video/mp4\">\n",
       "            Tu navegador no soporta la etiqueta de video.\n",
       "        </video>\n",
       "        "
      ],
      "text/plain": [
       "<IPython.core.display.HTML object>"
      ]
     },
     "metadata": {},
     "output_type": "display_data"
    },
    {
     "name": "stdout",
     "output_type": "stream",
     "text": [
      "\n",
      "Encontrado: [ID: PartidoAzteca7_segment_1016] - [Distancia: 0.10418200]\n"
     ]
    },
    {
     "data": {
      "text/html": [
       "\n",
       "        <p>Mostrando segmento: <b>PartidoAzteca7_segment_1016</b> (segundos 4064-4068)</p>\n",
       "        <video width=\"640\" controls>\n",
       "            <source src=\"vboxioof/Videos/Videos_Segmentados/PartidoAzteca7_segment_1016.mp4#t=4064,4068\" type=\"video/mp4\">\n",
       "            Tu navegador no soporta la etiqueta de video.\n",
       "        </video>\n",
       "        "
      ],
      "text/plain": [
       "<IPython.core.display.HTML object>"
      ]
     },
     "metadata": {},
     "output_type": "display_data"
    },
    {
     "name": "stdout",
     "output_type": "stream",
     "text": [
      "\n",
      "Encontrado: [ID: PartidoAzteca7_segment_1697] - [Distancia: 0.10421537]\n"
     ]
    },
    {
     "data": {
      "text/html": [
       "\n",
       "        <p>Mostrando segmento: <b>PartidoAzteca7_segment_1697</b> (segundos 6788-6792)</p>\n",
       "        <video width=\"640\" controls>\n",
       "            <source src=\"vboxioof/Videos/Videos_Segmentados/PartidoAzteca7_segment_1697.mp4#t=6788,6792\" type=\"video/mp4\">\n",
       "            Tu navegador no soporta la etiqueta de video.\n",
       "        </video>\n",
       "        "
      ],
      "text/plain": [
       "<IPython.core.display.HTML object>"
      ]
     },
     "metadata": {},
     "output_type": "display_data"
    },
    {
     "name": "stdout",
     "output_type": "stream",
     "text": [
      "\n",
      "Encontrado: [ID: PartidoAzteca7_segment_773] - [Distancia: 0.10586253]\n"
     ]
    },
    {
     "data": {
      "text/html": [
       "\n",
       "        <p>Mostrando segmento: <b>PartidoAzteca7_segment_773</b> (segundos 3092-3096)</p>\n",
       "        <video width=\"640\" controls>\n",
       "            <source src=\"vboxioof/Videos/Videos_Segmentados/PartidoAzteca7_segment_773.mp4#t=3092,3096\" type=\"video/mp4\">\n",
       "            Tu navegador no soporta la etiqueta de video.\n",
       "        </video>\n",
       "        "
      ],
      "text/plain": [
       "<IPython.core.display.HTML object>"
      ]
     },
     "metadata": {},
     "output_type": "display_data"
    },
    {
     "name": "stdout",
     "output_type": "stream",
     "text": [
      "\n",
      "Encontrado: [ID: PartidoAzteca7_segment_1696] - [Distancia: 0.10622913]\n"
     ]
    },
    {
     "data": {
      "text/html": [
       "\n",
       "        <p>Mostrando segmento: <b>PartidoAzteca7_segment_1696</b> (segundos 6784-6788)</p>\n",
       "        <video width=\"640\" controls>\n",
       "            <source src=\"vboxioof/Videos/Videos_Segmentados/PartidoAzteca7_segment_1696.mp4#t=6784,6788\" type=\"video/mp4\">\n",
       "            Tu navegador no soporta la etiqueta de video.\n",
       "        </video>\n",
       "        "
      ],
      "text/plain": [
       "<IPython.core.display.HTML object>"
      ]
     },
     "metadata": {},
     "output_type": "display_data"
    },
    {
     "name": "stdout",
     "output_type": "stream",
     "text": [
      "\n",
      "Encontrado: [ID: PartidoAzteca7_segment_1008] - [Distancia: 0.10739835]\n"
     ]
    },
    {
     "data": {
      "text/html": [
       "\n",
       "        <p>Mostrando segmento: <b>PartidoAzteca7_segment_1008</b> (segundos 4032-4036)</p>\n",
       "        <video width=\"640\" controls>\n",
       "            <source src=\"vboxioof/Videos/Videos_Segmentados/PartidoAzteca7_segment_1008.mp4#t=4032,4036\" type=\"video/mp4\">\n",
       "            Tu navegador no soporta la etiqueta de video.\n",
       "        </video>\n",
       "        "
      ],
      "text/plain": [
       "<IPython.core.display.HTML object>"
      ]
     },
     "metadata": {},
     "output_type": "display_data"
    },
    {
     "name": "stdout",
     "output_type": "stream",
     "text": [
      "\n",
      "Encontrado: [ID: PartidoAzteca7_segment_838] - [Distancia: 0.10755246]\n"
     ]
    },
    {
     "data": {
      "text/html": [
       "\n",
       "        <p>Mostrando segmento: <b>PartidoAzteca7_segment_838</b> (segundos 3352-3356)</p>\n",
       "        <video width=\"640\" controls>\n",
       "            <source src=\"vboxioof/Videos/Videos_Segmentados/PartidoAzteca7_segment_838.mp4#t=3352,3356\" type=\"video/mp4\">\n",
       "            Tu navegador no soporta la etiqueta de video.\n",
       "        </video>\n",
       "        "
      ],
      "text/plain": [
       "<IPython.core.display.HTML object>"
      ]
     },
     "metadata": {},
     "output_type": "display_data"
    },
    {
     "name": "stdout",
     "output_type": "stream",
     "text": [
      "\n",
      "Encontrado: [ID: PartidoAzteca7_segment_857] - [Distancia: 0.10783674]\n"
     ]
    },
    {
     "data": {
      "text/html": [
       "\n",
       "        <p>Mostrando segmento: <b>PartidoAzteca7_segment_857</b> (segundos 3428-3432)</p>\n",
       "        <video width=\"640\" controls>\n",
       "            <source src=\"vboxioof/Videos/Videos_Segmentados/PartidoAzteca7_segment_857.mp4#t=3428,3432\" type=\"video/mp4\">\n",
       "            Tu navegador no soporta la etiqueta de video.\n",
       "        </video>\n",
       "        "
      ],
      "text/plain": [
       "<IPython.core.display.HTML object>"
      ]
     },
     "metadata": {},
     "output_type": "display_data"
    },
    {
     "name": "stdout",
     "output_type": "stream",
     "text": [
      "\n",
      "Encontrado: [ID: PartidoAzteca7_segment_694] - [Distancia: 0.10817709]\n"
     ]
    },
    {
     "data": {
      "text/html": [
       "\n",
       "        <p>Mostrando segmento: <b>PartidoAzteca7_segment_694</b> (segundos 2776-2780)</p>\n",
       "        <video width=\"640\" controls>\n",
       "            <source src=\"vboxioof/Videos/Videos_Segmentados/PartidoAzteca7_segment_694.mp4#t=2776,2780\" type=\"video/mp4\">\n",
       "            Tu navegador no soporta la etiqueta de video.\n",
       "        </video>\n",
       "        "
      ],
      "text/plain": [
       "<IPython.core.display.HTML object>"
      ]
     },
     "metadata": {},
     "output_type": "display_data"
    },
    {
     "name": "stdout",
     "output_type": "stream",
     "text": [
      "\n",
      "Encontrado: [ID: PartidoAzteca7_segment_1172] - [Distancia: 0.11031887]\n"
     ]
    },
    {
     "data": {
      "text/html": [
       "\n",
       "        <p>Mostrando segmento: <b>PartidoAzteca7_segment_1172</b> (segundos 4688-4692)</p>\n",
       "        <video width=\"640\" controls>\n",
       "            <source src=\"vboxioof/Videos/Videos_Segmentados/PartidoAzteca7_segment_1172.mp4#t=4688,4692\" type=\"video/mp4\">\n",
       "            Tu navegador no soporta la etiqueta de video.\n",
       "        </video>\n",
       "        "
      ],
      "text/plain": [
       "<IPython.core.display.HTML object>"
      ]
     },
     "metadata": {},
     "output_type": "display_data"
    },
    {
     "name": "stdout",
     "output_type": "stream",
     "text": [
      "\n",
      "Encontrado: [ID: PartidoAzteca7_segment_797] - [Distancia: 0.11133440]\n"
     ]
    },
    {
     "data": {
      "text/html": [
       "\n",
       "        <p>Mostrando segmento: <b>PartidoAzteca7_segment_797</b> (segundos 3188-3192)</p>\n",
       "        <video width=\"640\" controls>\n",
       "            <source src=\"vboxioof/Videos/Videos_Segmentados/PartidoAzteca7_segment_797.mp4#t=3188,3192\" type=\"video/mp4\">\n",
       "            Tu navegador no soporta la etiqueta de video.\n",
       "        </video>\n",
       "        "
      ],
      "text/plain": [
       "<IPython.core.display.HTML object>"
      ]
     },
     "metadata": {},
     "output_type": "display_data"
    },
    {
     "name": "stdout",
     "output_type": "stream",
     "text": [
      "\n",
      "Encontrado: [ID: PartidoAzteca7_segment_774] - [Distancia: 0.12258629]\n"
     ]
    },
    {
     "data": {
      "text/html": [
       "\n",
       "        <p>Mostrando segmento: <b>PartidoAzteca7_segment_774</b> (segundos 3096-3100)</p>\n",
       "        <video width=\"640\" controls>\n",
       "            <source src=\"vboxioof/Videos/Videos_Segmentados/PartidoAzteca7_segment_774.mp4#t=3096,3100\" type=\"video/mp4\">\n",
       "            Tu navegador no soporta la etiqueta de video.\n",
       "        </video>\n",
       "        "
      ],
      "text/plain": [
       "<IPython.core.display.HTML object>"
      ]
     },
     "metadata": {},
     "output_type": "display_data"
    },
    {
     "name": "stdout",
     "output_type": "stream",
     "text": [
      "\n",
      "Encontrado: [ID: PartidoAzteca7_segment_1007] - [Distancia: 0.12424788]\n"
     ]
    },
    {
     "data": {
      "text/html": [
       "\n",
       "        <p>Mostrando segmento: <b>PartidoAzteca7_segment_1007</b> (segundos 4028-4032)</p>\n",
       "        <video width=\"640\" controls>\n",
       "            <source src=\"vboxioof/Videos/Videos_Segmentados/PartidoAzteca7_segment_1007.mp4#t=4028,4032\" type=\"video/mp4\">\n",
       "            Tu navegador no soporta la etiqueta de video.\n",
       "        </video>\n",
       "        "
      ],
      "text/plain": [
       "<IPython.core.display.HTML object>"
      ]
     },
     "metadata": {},
     "output_type": "display_data"
    },
    {
     "name": "stdout",
     "output_type": "stream",
     "text": [
      "\n",
      "Encontrado: [ID: PartidoAzteca7_segment_1015] - [Distancia: 0.12545452]\n"
     ]
    },
    {
     "data": {
      "text/html": [
       "\n",
       "        <p>Mostrando segmento: <b>PartidoAzteca7_segment_1015</b> (segundos 4060-4064)</p>\n",
       "        <video width=\"640\" controls>\n",
       "            <source src=\"vboxioof/Videos/Videos_Segmentados/PartidoAzteca7_segment_1015.mp4#t=4060,4064\" type=\"video/mp4\">\n",
       "            Tu navegador no soporta la etiqueta de video.\n",
       "        </video>\n",
       "        "
      ],
      "text/plain": [
       "<IPython.core.display.HTML object>"
      ]
     },
     "metadata": {},
     "output_type": "display_data"
    },
    {
     "name": "stdout",
     "output_type": "stream",
     "text": [
      "\n",
      "Encontrado: [ID: PartidoAzteca7_segment_1010] - [Distancia: 0.12569922]\n"
     ]
    },
    {
     "data": {
      "text/html": [
       "\n",
       "        <p>Mostrando segmento: <b>PartidoAzteca7_segment_1010</b> (segundos 4040-4044)</p>\n",
       "        <video width=\"640\" controls>\n",
       "            <source src=\"vboxioof/Videos/Videos_Segmentados/PartidoAzteca7_segment_1010.mp4#t=4040,4044\" type=\"video/mp4\">\n",
       "            Tu navegador no soporta la etiqueta de video.\n",
       "        </video>\n",
       "        "
      ],
      "text/plain": [
       "<IPython.core.display.HTML object>"
      ]
     },
     "metadata": {},
     "output_type": "display_data"
    },
    {
     "name": "stdout",
     "output_type": "stream",
     "text": [
      "\n",
      "Encontrado: [ID: PartidoAzteca7_segment_1013] - [Distancia: 0.12626901]\n"
     ]
    },
    {
     "data": {
      "text/html": [
       "\n",
       "        <p>Mostrando segmento: <b>PartidoAzteca7_segment_1013</b> (segundos 4052-4056)</p>\n",
       "        <video width=\"640\" controls>\n",
       "            <source src=\"vboxioof/Videos/Videos_Segmentados/PartidoAzteca7_segment_1013.mp4#t=4052,4056\" type=\"video/mp4\">\n",
       "            Tu navegador no soporta la etiqueta de video.\n",
       "        </video>\n",
       "        "
      ],
      "text/plain": [
       "<IPython.core.display.HTML object>"
      ]
     },
     "metadata": {},
     "output_type": "display_data"
    },
    {
     "name": "stdout",
     "output_type": "stream",
     "text": [
      "\n",
      "Encontrado: [ID: PartidoAzteca7_segment_1011] - [Distancia: 0.12657535]\n"
     ]
    },
    {
     "data": {
      "text/html": [
       "\n",
       "        <p>Mostrando segmento: <b>PartidoAzteca7_segment_1011</b> (segundos 4044-4048)</p>\n",
       "        <video width=\"640\" controls>\n",
       "            <source src=\"vboxioof/Videos/Videos_Segmentados/PartidoAzteca7_segment_1011.mp4#t=4044,4048\" type=\"video/mp4\">\n",
       "            Tu navegador no soporta la etiqueta de video.\n",
       "        </video>\n",
       "        "
      ],
      "text/plain": [
       "<IPython.core.display.HTML object>"
      ]
     },
     "metadata": {},
     "output_type": "display_data"
    },
    {
     "name": "stdout",
     "output_type": "stream",
     "text": [
      "\n",
      "Encontrado: [ID: PartidoAzteca7_segment_1012] - [Distancia: 0.12837906]\n"
     ]
    },
    {
     "data": {
      "text/html": [
       "\n",
       "        <p>Mostrando segmento: <b>PartidoAzteca7_segment_1012</b> (segundos 4048-4052)</p>\n",
       "        <video width=\"640\" controls>\n",
       "            <source src=\"vboxioof/Videos/Videos_Segmentados/PartidoAzteca7_segment_1012.mp4#t=4048,4052\" type=\"video/mp4\">\n",
       "            Tu navegador no soporta la etiqueta de video.\n",
       "        </video>\n",
       "        "
      ],
      "text/plain": [
       "<IPython.core.display.HTML object>"
      ]
     },
     "metadata": {},
     "output_type": "display_data"
    },
    {
     "name": "stdout",
     "output_type": "stream",
     "text": [
      "\n",
      "Encontrado: [ID: PartidoAzteca7_segment_868] - [Distancia: 0.12975867]\n"
     ]
    },
    {
     "data": {
      "text/html": [
       "\n",
       "        <p>Mostrando segmento: <b>PartidoAzteca7_segment_868</b> (segundos 3472-3476)</p>\n",
       "        <video width=\"640\" controls>\n",
       "            <source src=\"vboxioof/Videos/Videos_Segmentados/PartidoAzteca7_segment_868.mp4#t=3472,3476\" type=\"video/mp4\">\n",
       "            Tu navegador no soporta la etiqueta de video.\n",
       "        </video>\n",
       "        "
      ],
      "text/plain": [
       "<IPython.core.display.HTML object>"
      ]
     },
     "metadata": {},
     "output_type": "display_data"
    },
    {
     "name": "stdout",
     "output_type": "stream",
     "text": [
      "\n",
      "Encontrado: [ID: PartidoAzteca7_segment_798] - [Distancia: 0.13131681]\n"
     ]
    },
    {
     "data": {
      "text/html": [
       "\n",
       "        <p>Mostrando segmento: <b>PartidoAzteca7_segment_798</b> (segundos 3192-3196)</p>\n",
       "        <video width=\"640\" controls>\n",
       "            <source src=\"vboxioof/Videos/Videos_Segmentados/PartidoAzteca7_segment_798.mp4#t=3192,3196\" type=\"video/mp4\">\n",
       "            Tu navegador no soporta la etiqueta de video.\n",
       "        </video>\n",
       "        "
      ],
      "text/plain": [
       "<IPython.core.display.HTML object>"
      ]
     },
     "metadata": {},
     "output_type": "display_data"
    },
    {
     "name": "stdout",
     "output_type": "stream",
     "text": [
      "\n",
      "Encontrado: [ID: PartidoAzteca7_segment_695] - [Distancia: 0.13152903]\n"
     ]
    },
    {
     "data": {
      "text/html": [
       "\n",
       "        <p>Mostrando segmento: <b>PartidoAzteca7_segment_695</b> (segundos 2780-2784)</p>\n",
       "        <video width=\"640\" controls>\n",
       "            <source src=\"vboxioof/Videos/Videos_Segmentados/PartidoAzteca7_segment_695.mp4#t=2780,2784\" type=\"video/mp4\">\n",
       "            Tu navegador no soporta la etiqueta de video.\n",
       "        </video>\n",
       "        "
      ],
      "text/plain": [
       "<IPython.core.display.HTML object>"
      ]
     },
     "metadata": {},
     "output_type": "display_data"
    },
    {
     "name": "stdout",
     "output_type": "stream",
     "text": [
      "\n",
      "Encontrado: [ID: PartidoAzteca7_segment_858] - [Distancia: 0.13267860]\n"
     ]
    },
    {
     "data": {
      "text/html": [
       "\n",
       "        <p>Mostrando segmento: <b>PartidoAzteca7_segment_858</b> (segundos 3432-3436)</p>\n",
       "        <video width=\"640\" controls>\n",
       "            <source src=\"vboxioof/Videos/Videos_Segmentados/PartidoAzteca7_segment_858.mp4#t=3432,3436\" type=\"video/mp4\">\n",
       "            Tu navegador no soporta la etiqueta de video.\n",
       "        </video>\n",
       "        "
      ],
      "text/plain": [
       "<IPython.core.display.HTML object>"
      ]
     },
     "metadata": {},
     "output_type": "display_data"
    },
    {
     "name": "stdout",
     "output_type": "stream",
     "text": [
      "\n",
      "Encontrado: [ID: PartidoAzteca7_segment_1009] - [Distancia: 0.15142131]\n"
     ]
    },
    {
     "data": {
      "text/html": [
       "\n",
       "        <p>Mostrando segmento: <b>PartidoAzteca7_segment_1009</b> (segundos 4036-4040)</p>\n",
       "        <video width=\"640\" controls>\n",
       "            <source src=\"vboxioof/Videos/Videos_Segmentados/PartidoAzteca7_segment_1009.mp4#t=4036,4040\" type=\"video/mp4\">\n",
       "            Tu navegador no soporta la etiqueta de video.\n",
       "        </video>\n",
       "        "
      ],
      "text/plain": [
       "<IPython.core.display.HTML object>"
      ]
     },
     "metadata": {},
     "output_type": "display_data"
    },
    {
     "name": "stdout",
     "output_type": "stream",
     "text": [
      "\n",
      "Encontrado: [ID: PartidoAzteca7_segment_1014] - [Distancia: 0.15272164]\n"
     ]
    },
    {
     "data": {
      "text/html": [
       "\n",
       "        <p>Mostrando segmento: <b>PartidoAzteca7_segment_1014</b> (segundos 4056-4060)</p>\n",
       "        <video width=\"640\" controls>\n",
       "            <source src=\"vboxioof/Videos/Videos_Segmentados/PartidoAzteca7_segment_1014.mp4#t=4056,4060\" type=\"video/mp4\">\n",
       "            Tu navegador no soporta la etiqueta de video.\n",
       "        </video>\n",
       "        "
      ],
      "text/plain": [
       "<IPython.core.display.HTML object>"
      ]
     },
     "metadata": {},
     "output_type": "display_data"
    },
    {
     "name": "stdout",
     "output_type": "stream",
     "text": [
      "\n",
      "--- FIN DE LOS RESULTADOS ---\n"
     ]
    }
   ],
   "source": [
    "# --- EJECUCIÓN DE LA BÚSQUEDA ---\n",
    "if __name__ == '__main__':\n",
    "    \n",
    "    # ------------------------------------------------------------------\n",
    "    # AQUÍ PONES TU CONSULTA EN LENGUAJE NATURAL\n",
    "    texto_de_busqueda = \"Caliente\"\n",
    "    # ------------------------------------------------------------------\n",
    "    \n",
    "    # 1. Obtenemos el embedding del texto de búsqueda\n",
    "    text_query = get_text_embedding(texto_de_busqueda)\n",
    "    \n",
    "    # 2. Buscamos en Vector Search usando el embedding del texto\n",
    "    search_results = find_nearest_neighbors(text_query, 50)\n",
    "    \n",
    "    # 3. Mostramos los resultados\n",
    "    print(\"\\n--- RESULTADOS DE LA BÚSQUEDA ---\")\n",
    "    \n",
    "    if not search_results or not search_results[0]:\n",
    "        print(\"No se encontraron resultados.\")\n",
    "        \n",
    "    else:\n",
    "\n",
    "        neighbors_sorted = sorted(search_results[0], key=lambda x: x.distance)\n",
    "\n",
    "        for neighbor in neighbors_sorted:\n",
    "            \n",
    "            video_segment_id = neighbor.id\n",
    "            distancia = neighbor.distance\n",
    "\n",
    "            if distancia < 0.2:  # Si la distancia es mayor a 0.1, no lo consideramos relevante\n",
    "\n",
    "                print(f\"\\nEncontrado: [ID: {video_segment_id}] - [Distancia: {distancia:.8f}]\")\n",
    "            \n",
    "                # Mostramos el fragmento de video correspondiente\n",
    "                display_video_segment(\n",
    "                    video_gcs_uri=GCS_VIDEO_URI +f\"{video_segment_id}.mp4\",\n",
    "                    segment_id=video_segment_id,\n",
    "                    interval=SEGMENT_INTERVAL_SEC\n",
    "                )\n",
    "\n",
    "            else:\n",
    "                pass\n",
    "\n",
    "        print(\"\\n--- FIN DE LOS RESULTADOS ---\")"
   ]
  }
 ],
 "metadata": {
  "kernelspec": {
   "display_name": ".venv",
   "language": "python",
   "name": "python3"
  },
  "language_info": {
   "codemirror_mode": {
    "name": "ipython",
    "version": 3
   },
   "file_extension": ".py",
   "mimetype": "text/x-python",
   "name": "python",
   "nbconvert_exporter": "python",
   "pygments_lexer": "ipython3",
   "version": "3.13.3"
  }
 },
 "nbformat": 4,
 "nbformat_minor": 5
}
