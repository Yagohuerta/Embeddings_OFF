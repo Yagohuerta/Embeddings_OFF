{
 "cells": [
  {
   "cell_type": "markdown",
   "id": "4ce26080",
   "metadata": {},
   "source": [
    "# **Importamos las dependencias**"
   ]
  },
  {
   "cell_type": "code",
   "execution_count": 1,
   "id": "98ed9793",
   "metadata": {},
   "outputs": [
    {
     "name": "stdout",
     "output_type": "stream",
     "text": [
      "\u001b[33mWARNING: google-cloud-aiplatform 1.71.1 does not provide the extra 'all'\u001b[0m\u001b[33m\n",
      "\u001b[0mNote: you may need to restart the kernel to use updated packages.\n",
      "Note: you may need to restart the kernel to use updated packages.\n",
      "Note: you may need to restart the kernel to use updated packages.\n"
     ]
    }
   ],
   "source": [
    "# Instalación de todas las dependencias necesarias\n",
    "%pip install google-cloud-storage google-cloud-aiplatform vertexai matplotlib seaborn scikit-learn pandas seaborn numpy python-dotenv --quiet\n",
    "%pip install python-dotenv --quiet\n",
    "%pip install pillow --quiet"
   ]
  },
  {
   "cell_type": "code",
   "execution_count": 2,
   "id": "4d508109",
   "metadata": {},
   "outputs": [],
   "source": [
    "# --- Para el proceso de datos y visualización ---\n",
    "import numpy as np\n",
    "import pandas as pd\n",
    "import json\n",
    "import matplotlib.pyplot as plt\n",
    "import seaborn as sns\n",
    "from PIL import Image\n",
    "import time\n",
    "\n",
    "\n",
    "# --- Para manejar las variables de entorno ---\n",
    "import os\n",
    "from dotenv import load_dotenv\n",
    "\n",
    "\n",
    "# --- Desactiva las advertencias de asignaciones encadenadas en pandas para evitar mensajes de warning al modificar DataFrames.\n",
    "pd.options.mode.chained_assignment = None  # default='warn'\n",
    "\n",
    "\n",
    "# --- Dependencias de Vertex AI ---\n",
    "import vertexai                                              # Importa el módulo principal de Vertex AI.\n",
    "from vertexai import init                                    # Inicializa Vertex AI con las credenciales y configuraciones necesarias.\n",
    "from vertexai.vision_models import Image as VMImage          # Importa la clase Image de Vertex AI para manejar imágenes.\n",
    "from vertexai.vision_models import MultiModalEmbeddingModel  # Importa el modelo de embeddings multimodales de Vertex AI para procesar imágenes y videos.\n",
    "from vertexai.vision_models import Video                     # Clase para manejar archivos de video en Vertex AI.\n",
    "from vertexai.vision_models import VideoSegmentConfig        # Configuración para segmentar videos al gener\n",
    "\n",
    "\n",
    "# --- Para conectarse y consultar un endpoint de búsqueda vectorial (Vector Search) en Vertex AI. \n",
    "from google.cloud.aiplatform.matching_engine import MatchingEngineIndexEndpoint \n",
    "\n",
    "# --- Para acceder a los buckets de Google Cloud Storage y manejar archivos.\n",
    "from google.cloud import storage\n",
    "\n",
    "\n",
    "# --- Dependencias para poder visualizar ---\n",
    "from IPython.display import Video as MVideo                  # Permite mostrar videos directamente en celdas de Jupyter Notebook.\n",
    "from IPython.display import HTML                             # Permite mostrar contenido HTML en celdas de Jupyter Notebook.\n",
    "from IPython.display import Image as ImageByte               # Permite mostrar imágenes en el notebook (renombrado como ImageByte para evitar conflictos de nombres).\n",
    "from IPython.display import display                          # Función general para mostrar objetos en el notebook.\n",
    "from sklearn.metrics.pairwise import cosine_similarity       # Función para calcular la similitud coseno entre vectores, útil para comparar embeddings."
   ]
  },
  {
   "cell_type": "markdown",
   "id": "b3fbd619",
   "metadata": {},
   "source": [
    "# **Configuración del entorno de Vertex**"
   ]
  },
  {
   "cell_type": "code",
   "execution_count": 3,
   "id": "b8d59658",
   "metadata": {},
   "outputs": [
    {
     "name": "stdout",
     "output_type": "stream",
     "text": [
      "PROJECT_ID: constant-setup-463820-p6\n",
      "INDEX_ID: projects/640283206292/locations/us-central1/indexEndpoints/1468492336894836736\n",
      "ENDPOINT_ID: mexicocostarica_1750850443317\n",
      "BUCKET_NAME: vboxiooof\n",
      "DESTINATION_BLOB_NAME: Embeddings\n"
     ]
    }
   ],
   "source": [
    "# --- Carga las variables de entorno desde un archivo .env ---\n",
    "load_dotenv()\n",
    "\n",
    "# --- Obtenemos las variables necesarias del entorno ---\n",
    "\n",
    "PROJECT_ID = os.getenv(\"PROJECT_ID\")                        # ID del proyecto de Google Cloud\n",
    "LOCATION = os.getenv(\"LOCATION\")                            # Región donde se encuentran los recursos de Vertex AI\n",
    "INDEX_ID = os.getenv(\"INDEX_ID\")      # Nombre completo del endpoint de búsqueda vectorial\n",
    "ENDPOINT_ID = os.getenv(\"ENDPOINT_ID\")          # ID del índice desplegado en el endpoint\n",
    "BUCKET_NAME = os.getenv(\"BUCKET_NAME\")                      # Nombre del bucket de Google Cloud Storage\n",
    "DESTINATION_BLOB_NAME = os.getenv(\"DESTINATION_BLOB_NAME\")  # Ruta y nombre del archivo destino en el bucket\n",
    "\n",
    "# Imprime las variables cargadas para verificación (de si lo hicimos bien todo)\n",
    "print(\"PROJECT_ID:\", PROJECT_ID)\n",
    "print(\"INDEX_ID:\", INDEX_ID)\n",
    "print(\"ENDPOINT_ID:\", ENDPOINT_ID)\n",
    "print(\"BUCKET_NAME:\", BUCKET_NAME)\n",
    "print(\"DESTINATION_BLOB_NAME:\", DESTINATION_BLOB_NAME)"
   ]
  },
  {
   "cell_type": "code",
   "execution_count": 3,
   "id": "a5917d76",
   "metadata": {},
   "outputs": [],
   "source": [
    "# --- Inicializamos Vertex AI ---\n",
    "init(project = PROJECT_ID, location = LOCATION)"
   ]
  },
  {
   "cell_type": "markdown",
   "id": "6a57b90a",
   "metadata": {},
   "source": [
    "# **Funciones**"
   ]
  },
  {
   "cell_type": "code",
   "execution_count": null,
   "id": "08e114e0",
   "metadata": {},
   "outputs": [],
   "source": [
    "# --- Función para generar embeddings de videos ---\n",
    "\n",
    "def get_video_embedding(ruta_video: str) -> list: \n",
    "    \n",
    "    \"\"\"\n",
    "    Genera un embedding para un video dado.\n",
    "\n",
    "    Args:\n",
    "        ruta_video (str): Ruta al archivo de video.\n",
    "\n",
    "    Returns:\n",
    "        list: Embedding del video.\n",
    "    \"\"\"\n",
    "    # Cargamos el video desde la ruta proporcionada\n",
    "    video = Video.load_from_file(ruta_video)\n",
    "    \n",
    "    # Genera el embedding del video utilizando el modelo de embeddings multimodales\n",
    "    embedding = mm_embendding_model.get_embeddings(video = video, \n",
    "                                                   video_segment_config = VideoSegmentConfig(interval_sec=4) # Configura el segmento del video para generar embeddings cada 4 segundos.\n",
    "                                                  )\n",
    "    \n",
    "    return [video_emb.embedding for video_emb in embedding.video_embeddings]  # Retorna una lista de embeddings para cada segmento del video.\n",
    "\n",
    "\n",
    "\n",
    "# --- Función para generar embeddings de texto ---\n",
    "\n",
    "def get_text_embedding(text: str) -> list:\n",
    "\n",
    "    print(f\"Generando embedding para el texto: '{text}'\")\n",
    "    embeddings = mm_embendding_model.get_embeddings(\n",
    "        contextual_text=text,\n",
    "    )\n",
    "\n",
    "    return embeddings.text_embedding\n",
    "\n",
    "\n",
    "\n",
    "# --- Función para generar embeddings de imágenes ---\n",
    "\n",
    "def get_image_embedding(\n",
    "    image_path: str,\n",
    "    dimension: int | None = 1408,\n",
    ") -> list[float]:\n",
    "    image = VMImage.load_from_file(image_path)\n",
    "    embedding = mm_embendding_model.get_embeddings(\n",
    "        image=image,\n",
    "        dimension=dimension,\n",
    "    )\n",
    "    return embedding.image_embedding\n",
    "\n",
    "\n",
    "\n",
    "# --- Función para buscar vecinos más cercanos en el índice de búsqueda vectorial --- \n",
    "\n",
    "def find_nearest_neighbors(query_embedding: list, num_neighbors: int = 20): # Cambia el número de vecinos a buscar según tus necesidades.\n",
    "\n",
    "    print(\"Conectando al Index Endpoint...\")\n",
    "    index_endpoint = MatchingEngineIndexEndpoint(index_endpoint_name=INDEX_ID)\n",
    "    \n",
    "    print(f\"Buscando los {num_neighbors} videos más similares...\")\n",
    "    neighbors = index_endpoint.find_neighbors(\n",
    "\n",
    "        deployed_index_id=ENDPOINT_ID,\n",
    "        queries=[query_embedding],\n",
    "        num_neighbors=num_neighbors\n",
    "\n",
    "    )\n",
    "\n",
    "    return neighbors\n",
    "\n",
    "\n",
    "\n",
    "# --- Función para mostrar un segmento de video específico en el notebook ---\n",
    "\n",
    "def display_video_segment(video_gcs_uri: str, segment_id: str, interval: int):\n",
    "\n",
    "    try:\n",
    "        # Extraemos el número del segmento del ID. Ej: \"VIDEOYAGO_segment_5\" -> 5\n",
    "        segment_number = int(segment_id.split('_')[-1])\n",
    "        start_time = segment_number * interval # El intervalo (al menos en este notebook) es de 4 segundos.\n",
    "        end_time = start_time + interval\n",
    "        \n",
    "        # Convertimos la URI de gs:// a una URL pública de https://\n",
    "        public_url = video_gcs_uri.replace(\"gs://\", \"https://storage.googleapis.com/\")\n",
    "        \n",
    "        # Creamos el código HTML para el video, apuntando al tiempo de inicio\n",
    "        video_html = f\"\"\"\n",
    "        <p>Mostrando segmento: <b>{segment_id}</b> (segundos {start_time}-{end_time})</p>\n",
    "        <video width=\"640\" controls>\n",
    "            <source src=\"{public_url}#t={start_time},{end_time}\" type=\"video/mp4\">\n",
    "            Tu navegador no soporta la etiqueta de video.\n",
    "        </video>\n",
    "        \"\"\"\n",
    "        display(HTML(video_html))\n",
    "        \n",
    "    except (ValueError, IndexError) as e:\n",
    "        print(f\"No se pudo parsear el ID del segmento '{segment_id}'. Error: {e}\")\n",
    "\n",
    "\n",
    "\n",
    "\n",
    "# --- Convierte una URI de Google Cloud Storage a una URL pública accesible por HTTP ---\n",
    "\n",
    "def get_public_url_from_gcs(gcs_uri: str) -> str:\n",
    "    \"\"\"\n",
    "    Convierte una URI de Google Cloud Storage (gs://bucket/archivo) a una URL pública HTTP.\n",
    "\n",
    "    Args:\n",
    "        gcs_uri (str): URI de Google Cloud Storage.\n",
    "\n",
    "    Returns:\n",
    "        str: URL pública accesible desde el navegador.\n",
    "    \"\"\"\n",
    "    return gcs_uri.replace(\"gs://\", \"https://storage.googleapis.com/\").replace(\n",
    "        \" \", \"%20\"\n",
    "    )\n",
    "\n",
    "\n",
    "\n",
    "# --- Muestra un video almacenado en Google Cloud Storage en el notebook ---\n",
    "\n",
    "def display_video_from_gcs(gcs_uri: str) -> None:\n",
    "    \"\"\"\n",
    "    Muestra un video almacenado en Google Cloud Storage directamente en el notebook.\n",
    "\n",
    "    Args:\n",
    "        gcs_uri (str): URI de Google Cloud Storage del video.\n",
    "    \"\"\"\n",
    "    public_url = get_public_url_from_gcs(gcs_uri)\n",
    "    display(\n",
    "        HTML(\n",
    "            f\"\"\"\n",
    "            <video width=\"480\" controls>\n",
    "                <source src=\"{public_url}\" type=\"video/mp4\">\n",
    "                Tu navegador no soporta la reproducción de video.\n",
    "            </video>\n",
    "            \"\"\"\n",
    "        )\n",
    "    )\n",
    "\n",
    "\n",
    "# --- Función para imprimir videos similares basados en embeddings ---\n",
    "\n",
    "def print_similar_videos(query_emb: list[float], data_frame: pd.DataFrame):\n",
    "    \"\"\"\n",
    "    Calcula la similitud (producto punto) entre un embedding de consulta y los embeddings de videos almacenados en un DataFrame.\n",
    "    Muestra los videos más similares y despliega el video más relevante en el notebook.\n",
    "\n",
    "    Args:\n",
    "        query_emb (list[float]): Embedding de consulta (por ejemplo, generado a partir de un video o texto).\n",
    "        data_frame (pd.DataFrame): DataFrame que contiene al menos las columnas 'video_embeddings', 'file_name' y 'gcs_path'.\n",
    "\n",
    "    Funcionamiento:\n",
    "        - Calcula el producto punto entre el embedding de consulta y cada embedding de video en el DataFrame.\n",
    "        - Añade una columna 'score' con los resultados de similitud.\n",
    "        - Ordena el DataFrame por 'score' de mayor a menor.\n",
    "        - Imprime los nombres de los archivos y sus scores más altos.\n",
    "        - Muestra el video más similar directamente en el notebook.\n",
    "    \"\"\"\n",
    "    # Obtiene la columna de embeddings de video\n",
    "    video_embs = data_frame[\"video_embeddings\"]\n",
    "\n",
    "    # Calcula el producto punto entre cada embedding y el de consulta\n",
    "    scores = [np.dot(eval(video_emb), query_emb) for video_emb in video_embs]\n",
    "    data_frame[\"score\"] = scores\n",
    "\n",
    "    # Ordena por score descendente\n",
    "    data_frame = data_frame.sort_values(by=\"score\", ascending=False)\n",
    "\n",
    "    # Imprime los resultados principales\n",
    "    print(data_frame.head()[[\"score\", \"file_name\"]])\n",
    "\n",
    "    # Obtiene la URL GCS del video más similar\n",
    "    url = data_frame.iloc[0][\"gcs_path\"]\n",
    "\n",
    "    # Muestra el video en el notebook\n",
    "    display_video_from_gcs(url)\n",
    "\n",
    "\n",
    "\n",
    "# --- Función para guardar embeddings en Google Cloud Storage como JSONL ---\n",
    "\n",
    "def guardar_embeddings_en_gcs(\n",
    "    project_id: str,\n",
    "    bucket_name: str,\n",
    "    blob_name: str,\n",
    "    ids: list[str],\n",
    "    embeddings: list[list[float]]\n",
    "):\n",
    "    \"\"\"\n",
    "    Convierte una lista de IDs y embeddings al formato JSONL y lo sube a GCS.\n",
    "\n",
    "    Args:\n",
    "        project_id (str): Tu proyecto de Google Cloud.\n",
    "        bucket_name (str): El nombre del bucket de destino.\n",
    "        blob_name (str): La ruta y nombre del archivo a crear en el bucket.\n",
    "        ids (list[str]): Lista de IDs únicos para cada embedding.\n",
    "        embeddings (list[list[float]]): La lista de vectores de embedding.\n",
    "    \"\"\"\n",
    "    print(f\"Conectando al bucket '{bucket_name}'...\")\n",
    "    storage_client = storage.Client(project=project_id)\n",
    "    bucket = storage_client.bucket(bucket_name)\n",
    "    blob = bucket.blob(blob_name)\n",
    "\n",
    "    print(f\"Escribiendo {len(ids)} embeddings en el archivo en memoria...\")\n",
    "    \n",
    "    # Usamos un context manager para escribir directamente al archivo en GCS\n",
    "    with blob.open(\"w\") as f:\n",
    "        for i, embedding in zip(ids, embeddings):\n",
    "            # Creamos el diccionario para la línea actual\n",
    "            data_point = {\"id\": i, \"embedding\": embedding}\n",
    "            # Lo convertimos a un string JSON y escribimos la línea en el archivo\n",
    "            f.write(json.dumps(data_point) + \"\\n\")\n",
    "\n",
    "    print(f\"¡Éxito! Archivo '{blob_name}' subido correctamente a 'gs://{bucket_name}/{blob_name}'.\")\n",
    "\n",
    "\n",
    "\n",
    "    # --- Vemos el contenido de nuestro bucket de GCS ---\n",
    "    \n",
    "def list_blobs(bucket_name: str):\n",
    "    \"\"\"\n",
    "    Guarda en una lista los blobs (archivos) en un bucket de Google Cloud Storage.\n",
    "\n",
    "    Args:\n",
    "        bucket_name (str): El nombre del bucket de GCS.\n",
    "    \"\"\"\n",
    "    ls = []\n",
    "    storage_client = storage.Client()\n",
    "    blobs = storage_client.list_blobs(bucket_name)\n",
    "\n",
    "    print(f\"Archivos en el bucket '{bucket_name}':\")\n",
    "    for blob in blobs:\n",
    "        #print(blob.name)\n",
    "        ls.append(blob.name)\n",
    "    \n",
    "    return ls[4:]  # Retorna la lista de blobs, omitiendo los primeros 4 elementos\n",
    "    \n",
    "\n"
   ]
  },
  {
   "cell_type": "code",
   "execution_count": 7,
   "id": "f1c9bdf9",
   "metadata": {},
   "outputs": [
    {
     "data": {
      "text/plain": [
       "'https://storage.googleapis.com/vboxioof/Videos/Videos_Segmentados/clip_1.mp4'"
      ]
     },
     "execution_count": 7,
     "metadata": {},
     "output_type": "execute_result"
    }
   ],
   "source": [
    "get_public_url_from_gcs('gs://vboxioof/Videos/Videos_Segmentados/clip_1.mp4')"
   ]
  },
  {
   "cell_type": "markdown",
   "id": "7296a3d3",
   "metadata": {},
   "source": [
    "# **Generamos los embeddings**"
   ]
  },
  {
   "cell_type": "code",
   "execution_count": 7,
   "id": "2cdcf97c",
   "metadata": {},
   "outputs": [],
   "source": [
    "# --- Cargamos el modelo de embeddings multimodales ---\n",
    "mm_embendding_model = MultiModalEmbeddingModel.from_pretrained(\"multimodalembedding@001\")"
   ]
  },
  {
   "cell_type": "code",
   "execution_count": 29,
   "id": "ea0f5d3a",
   "metadata": {},
   "outputs": [
    {
     "name": "stdout",
     "output_type": "stream",
     "text": [
      "Archivos en el bucket 'vboxiooof':\n",
      "Embedding del video: mexicosta_segment_001.mkv\n",
      "Embedding del video: mexicosta_segment_002.mkv\n",
      "Embedding del video: mexicosta_segment_003.mkv\n",
      "Embedding del video: mexicosta_segment_004.mkv\n",
      "Embedding del video: mexicosta_segment_005.mkv\n",
      "Embedding del video: mexicosta_segment_006.mkv\n",
      "Embedding del video: mexicosta_segment_007.mkv\n",
      "Embedding del video: mexicosta_segment_008.mkv\n",
      "Embedding del video: mexicosta_segment_009.mkv\n",
      "Embedding del video: mexicosta_segment_010.mkv\n",
      "Embedding del video: mexicosta_segment_011.mkv\n",
      "Embedding del video: mexicosta_segment_012.mkv\n",
      "Embedding del video: mexicosta_segment_013.mkv\n",
      "Embedding del video: mexicosta_segment_014.mkv\n",
      "Embedding del video: mexicosta_segment_015.mkv\n",
      "Embedding del video: mexicosta_segment_016.mkv\n",
      "Embedding del video: mexicosta_segment_017.mkv\n",
      "Embedding del video: mexicosta_segment_018.mkv\n",
      "Embedding del video: mexicosta_segment_019.mkv\n",
      "Embedding del video: mexicosta_segment_020.mkv\n",
      "Embedding del video: mexicosta_segment_021.mkv\n",
      "Embedding del video: mexicosta_segment_022.mkv\n",
      "Embedding del video: mexicosta_segment_023.mkv\n",
      "Embedding del video: mexicosta_segment_024.mkv\n",
      "Embedding del video: mexicosta_segment_025.mkv\n",
      "Embedding del video: mexicosta_segment_026.mkv\n",
      "Embedding del video: mexicosta_segment_027.mkv\n",
      "Embedding del video: mexicosta_segment_028.mkv\n",
      "Embedding del video: mexicosta_segment_029.mkv\n",
      "Embedding del video: mexicosta_segment_030.mkv\n",
      "Embedding del video: mexicosta_segment_031.mkv\n",
      "Embedding del video: mexicosta_segment_032.mkv\n",
      "Embedding del video: mexicosta_segment_033.mkv\n",
      "Embedding del video: mexicosta_segment_034.mkv\n",
      "Embedding del video: mexicosta_segment_035.mkv\n",
      "Embedding del video: mexicosta_segment_036.mkv\n",
      "Embedding del video: mexicosta_segment_037.mkv\n",
      "Embedding del video: mexicosta_segment_038.mkv\n",
      "Embedding del video: mexicosta_segment_039.mkv\n",
      "Embedding del video: mexicosta_segment_040.mkv\n",
      "Embedding del video: mexicosta_segment_041.mkv\n",
      "Embedding del video: mexicosta_segment_042.mkv\n",
      "Embedding del video: mexicosta_segment_043.mkv\n",
      "Embedding del video: mexicosta_segment_044.mkv\n",
      "Embedding del video: mexicosta_segment_045.mkv\n",
      "Embedding del video: mexicosta_segment_046.mkv\n",
      "Embedding del video: mexicosta_segment_047.mkv\n",
      "Embedding del video: mexicosta_segment_048.mkv\n",
      "Embedding del video: mexicosta_segment_049.mkv\n",
      "Embedding del video: mexicosta_segment_050.mkv\n",
      "Embedding del video: mexicosta_segment_051.mkv\n",
      "Embedding del video: mexicosta_segment_052.mkv\n",
      "Embedding del video: mexicosta_segment_053.mkv\n",
      "Embedding del video: mexicosta_segment_054.mkv\n",
      "Embedding del video: mexicosta_segment_055.mkv\n",
      "Embedding del video: mexicosta_segment_056.mkv\n",
      "Embedding del video: mexicosta_segment_057.mkv\n",
      "Embedding del video: mexicosta_segment_058.mkv\n",
      "Embedding del video: mexicosta_segment_059.mkv\n",
      "Embedding del video: mexicosta_segment_060.mkv\n",
      "Embedding del video: mexicosta_segment_061.mkv\n",
      "Embedding del video: mexicosta_segment_062.mkv\n",
      "Embedding del video: mexicosta_segment_063.mkv\n",
      "Embedding del video: mexicosta_segment_064.mkv\n",
      "Embedding del video: mexicosta_segment_065.mkv\n",
      "Embedding del video: mexicosta_segment_066.mkv\n",
      "Embedding del video: mexicosta_segment_067.mkv\n",
      "Embedding del video: mexicosta_segment_068.mkv\n",
      "Embedding del video: mexicosta_segment_069.mkv\n",
      "Embedding del video: mexicosta_segment_070.mkv\n",
      "Embedding del video: mexicosta_segment_071.mkv\n",
      "Embedding del video: mexicosta_segment_072.mkv\n",
      "Embedding del video: mexicosta_segment_073.mkv\n",
      "Embedding del video: mexicosta_segment_074.mkv\n",
      "Embedding del video: mexicosta_segment_075.mkv\n",
      "Embedding del video: mexicosta_segment_076.mkv\n",
      "Embedding del video: mexicosta_segment_077.mkv\n",
      "Embedding del video: mexicosta_segment_078.mkv\n",
      "Embedding del video: mexicosta_segment_079.mkv\n",
      "Embedding del video: mexicosta_segment_080.mkv\n",
      "Embedding del video: mexicosta_segment_081.mkv\n",
      "Embedding del video: mexicosta_segment_082.mkv\n",
      "Embedding del video: mexicosta_segment_083.mkv\n",
      "Embedding del video: mexicosta_segment_084.mkv\n",
      "Embedding del video: mexicosta_segment_085.mkv\n",
      "Embedding del video: mexicosta_segment_086.mkv\n",
      "Embedding del video: mexicosta_segment_087.mkv\n",
      "Embedding del video: mexicosta_segment_088.mkv\n",
      "Embedding del video: mexicosta_segment_089.mkv\n",
      "Embedding del video: mexicosta_segment_090.mkv\n",
      "Embedding del video: mexicosta_segment_091.mkv\n",
      "Embedding del video: mexicosta_segment_092.mkv\n",
      "Embedding del video: mexicosta_segment_093.mkv\n",
      "Embedding del video: mexicosta_segment_094.mkv\n",
      "Embedding del video: mexicosta_segment_095.mkv\n",
      "Embedding del video: mexicosta_segment_096.mkv\n",
      "Embedding del video: mexicosta_segment_097.mkv\n",
      "Embedding del video: mexicosta_segment_098.mkv\n",
      "Embedding del video: mexicosta_segment_099.mkv\n",
      "Embedding del video: mexicosta_segment_100.mkv\n",
      "Embedding del video: mexicosta_segment_101.mkv\n",
      "Embedding del video: mexicosta_segment_102.mkv\n",
      "Embedding del video: mexicosta_segment_103.mkv\n",
      "Embedding del video: mexicosta_segment_104.mkv\n",
      "Embedding del video: mexicosta_segment_105.mkv\n",
      "Embedding del video: mexicosta_segment_106.mkv\n",
      "Embedding del video: mexicosta_segment_107.mkv\n",
      "Embedding del video: mexicosta_segment_108.mkv\n",
      "Embedding del video: mexicosta_segment_109.mkv\n",
      "Embedding del video: mexicosta_segment_110.mkv\n",
      "Embedding del video: mexicosta_segment_111.mkv\n",
      "Embedding del video: mexicosta_segment_112.mkv\n",
      "Embedding del video: mexicosta_segment_113.mkv\n",
      "Embedding del video: mexicosta_segment_114.mkv\n",
      "Embedding del video: mexicosta_segment_115.mkv\n",
      "Embedding del video: mexicosta_segment_116.mkv\n",
      "Embedding del video: mexicosta_segment_117.mkv\n",
      "Embedding del video: mexicosta_segment_118.mkv\n",
      "Embedding del video: mexicosta_segment_119.mkv\n",
      "Embedding del video: mexicosta_segment_120.mkv\n",
      "Embedding del video: mexicosta_segment_121.mkv\n",
      "Embedding del video: mexicosta_segment_122.mkv\n",
      "Embedding del video: mexicosta_segment_123.mkv\n",
      "Embedding del video: mexicosta_segment_124.mkv\n",
      "Embedding del video: mexicosta_segment_125.mkv\n",
      "Embedding del video: mexicosta_segment_126.mkv\n",
      "Embedding del video: mexicosta_segment_127.mkv\n",
      "Embedding del video: mexicosta_segment_128.mkv\n",
      "Embedding del video: mexicosta_segment_129.mkv\n",
      "Embedding del video: mexicosta_segment_130.mkv\n",
      "Embedding del video: mexicosta_segment_131.mkv\n",
      "Embedding del video: mexicosta_segment_132.mkv\n",
      "Embedding del video: mexicosta_segment_133.mkv\n",
      "Embedding del video: mexicosta_segment_134.mkv\n",
      "Embedding del video: mexicosta_segment_135.mkv\n",
      "Embedding del video: mexicosta_segment_136.mkv\n",
      "Embedding del video: mexicosta_segment_137.mkv\n",
      "Embedding del video: mexicosta_segment_138.mkv\n",
      "Embedding del video: mexicosta_segment_139.mkv\n",
      "Embedding del video: mexicosta_segment_140.mkv\n",
      "Embedding del video: mexicosta_segment_141.mkv\n",
      "Embedding del video: mexicosta_segment_142.mkv\n",
      "Embedding del video: mexicosta_segment_143.mkv\n",
      "Embedding del video: mexicosta_segment_144.mkv\n",
      "Embedding del video: mexicosta_segment_145.mkv\n",
      "Embedding del video: mexicosta_segment_146.mkv\n",
      "Embedding del video: mexicosta_segment_147.mkv\n",
      "Embedding del video: mexicosta_segment_148.mkv\n",
      "Embedding del video: mexicosta_segment_149.mkv\n",
      "Embedding del video: mexicosta_segment_150.mkv\n",
      "Embedding del video: mexicosta_segment_151.mkv\n",
      "Embedding del video: mexicosta_segment_152.mkv\n",
      "Embedding del video: mexicosta_segment_153.mkv\n",
      "Embedding del video: mexicosta_segment_154.mkv\n",
      "Embedding del video: mexicosta_segment_155.mkv\n",
      "Embedding del video: mexicosta_segment_156.mkv\n",
      "Embedding del video: mexicosta_segment_157.mkv\n",
      "Embedding del video: mexicosta_segment_158.mkv\n",
      "Embedding del video: mexicosta_segment_159.mkv\n",
      "Embedding del video: mexicosta_segment_160.mkv\n",
      "Embedding del video: mexicosta_segment_161.mkv\n",
      "Embedding del video: mexicosta_segment_162.mkv\n",
      "Embedding del video: mexicosta_segment_163.mkv\n",
      "Embedding del video: mexicosta_segment_164.mkv\n",
      "Embedding del video: mexicosta_segment_165.mkv\n",
      "Embedding del video: mexicosta_segment_166.mkv\n",
      "Embedding del video: mexicosta_segment_167.mkv\n",
      "Embedding del video: mexicosta_segment_168.mkv\n",
      "Embedding del video: mexicosta_segment_169.mkv\n",
      "Embedding del video: mexicosta_segment_170.mkv\n",
      "Embedding del video: mexicosta_segment_171.mkv\n",
      "Embedding del video: mexicosta_segment_172.mkv\n",
      "Embedding del video: mexicosta_segment_173.mkv\n",
      "Embedding del video: mexicosta_segment_174.mkv\n",
      "Embedding del video: mexicosta_segment_175.mkv\n",
      "Embedding del video: mexicosta_segment_176.mkv\n",
      "Embedding del video: mexicosta_segment_177.mkv\n",
      "Embedding del video: mexicosta_segment_178.mkv\n",
      "Embedding del video: mexicosta_segment_179.mkv\n",
      "Embedding del video: mexicosta_segment_180.mkv\n",
      "Embedding del video: mexicosta_segment_181.mkv\n",
      "Embedding del video: mexicosta_segment_182.mkv\n",
      "Embedding del video: mexicosta_segment_183.mkv\n",
      "Embedding del video: mexicosta_segment_184.mkv\n",
      "Embedding del video: mexicosta_segment_185.mkv\n",
      "Embedding del video: mexicosta_segment_186.mkv\n",
      "Embedding del video: mexicosta_segment_187.mkv\n",
      "Embedding del video: mexicosta_segment_188.mkv\n",
      "Embedding del video: mexicosta_segment_189.mkv\n",
      "Embedding del video: mexicosta_segment_190.mkv\n",
      "Embedding del video: mexicosta_segment_191.mkv\n",
      "Embedding del video: mexicosta_segment_192.mkv\n",
      "Embedding del video: mexicosta_segment_193.mkv\n",
      "Embedding del video: mexicosta_segment_194.mkv\n",
      "Embedding del video: mexicosta_segment_195.mkv\n",
      "Embedding del video: mexicosta_segment_196.mkv\n",
      "Embedding del video: mexicosta_segment_197.mkv\n",
      "Embedding del video: mexicosta_segment_198.mkv\n",
      "Embedding del video: mexicosta_segment_199.mkv\n",
      "Embedding del video: mexicosta_segment_200.mkv\n",
      "Embedding del video: mexicosta_segment_201.mkv\n",
      "Embedding del video: mexicosta_segment_202.mkv\n",
      "Embedding del video: mexicosta_segment_203.mkv\n",
      "Embedding del video: mexicosta_segment_204.mkv\n",
      "Embedding del video: mexicosta_segment_205.mkv\n",
      "Embedding del video: mexicosta_segment_206.mkv\n",
      "Embedding del video: mexicosta_segment_207.mkv\n",
      "Embedding del video: mexicosta_segment_208.mkv\n",
      "Embedding del video: mexicosta_segment_209.mkv\n",
      "Embedding del video: mexicosta_segment_210.mkv\n",
      "Embedding del video: mexicosta_segment_211.mkv\n",
      "Embedding del video: mexicosta_segment_212.mkv\n",
      "Embedding del video: mexicosta_segment_213.mkv\n",
      "Embedding del video: mexicosta_segment_214.mkv\n",
      "Embedding del video: mexicosta_segment_215.mkv\n",
      "Embedding del video: mexicosta_segment_216.mkv\n",
      "Embedding del video: mexicosta_segment_217.mkv\n",
      "Embedding del video: mexicosta_segment_218.mkv\n",
      "Embedding del video: mexicosta_segment_219.mkv\n",
      "Embedding del video: mexicosta_segment_220.mkv\n",
      "Embedding del video: mexicosta_segment_221.mkv\n",
      "Embedding del video: mexicosta_segment_222.mkv\n",
      "Embedding del video: mexicosta_segment_223.mkv\n",
      "Embedding del video: mexicosta_segment_224.mkv\n",
      "Embedding del video: mexicosta_segment_225.mkv\n",
      "Embedding del video: mexicosta_segment_226.mkv\n",
      "Embedding del video: mexicosta_segment_227.mkv\n",
      "Embedding del video: mexicosta_segment_228.mkv\n",
      "Embedding del video: mexicosta_segment_229.mkv\n",
      "Embedding del video: mexicosta_segment_230.mkv\n",
      "Embedding del video: mexicosta_segment_231.mkv\n",
      "Embedding del video: mexicosta_segment_232.mkv\n",
      "Embedding del video: mexicosta_segment_233.mkv\n",
      "Embedding del video: mexicosta_segment_234.mkv\n",
      "Embedding del video: mexicosta_segment_235.mkv\n",
      "Embedding del video: mexicosta_segment_236.mkv\n",
      "Embedding del video: mexicosta_segment_237.mkv\n",
      "Embedding del video: mexicosta_segment_238.mkv\n",
      "Embedding del video: mexicosta_segment_239.mkv\n",
      "Embedding del video: mexicosta_segment_240.mkv\n",
      "Embedding del video: mexicosta_segment_241.mkv\n",
      "Embedding del video: mexicosta_segment_242.mkv\n",
      "Embedding del video: mexicosta_segment_243.mkv\n",
      "Embedding del video: mexicosta_segment_244.mkv\n",
      "Embedding del video: mexicosta_segment_245.mkv\n",
      "Embedding del video: mexicosta_segment_246.mkv\n",
      "Embedding del video: mexicosta_segment_247.mkv\n",
      "Embedding del video: mexicosta_segment_248.mkv\n",
      "Embedding del video: mexicosta_segment_249.mkv\n",
      "Embedding del video: mexicosta_segment_250.mkv\n",
      "Embedding del video: mexicosta_segment_251.mkv\n",
      "Embedding del video: mexicosta_segment_252.mkv\n",
      "Embedding del video: mexicosta_segment_253.mkv\n",
      "Embedding del video: mexicosta_segment_254.mkv\n",
      "Embedding del video: mexicosta_segment_255.mkv\n",
      "Embedding del video: mexicosta_segment_256.mkv\n",
      "Embedding del video: mexicosta_segment_257.mkv\n",
      "Embedding del video: mexicosta_segment_258.mkv\n",
      "Embedding del video: mexicosta_segment_259.mkv\n",
      "Embedding del video: mexicosta_segment_260.mkv\n",
      "Embedding del video: mexicosta_segment_261.mkv\n",
      "Embedding del video: mexicosta_segment_262.mkv\n",
      "Embedding del video: mexicosta_segment_263.mkv\n",
      "Embedding del video: mexicosta_segment_264.mkv\n",
      "Embedding del video: mexicosta_segment_265.mkv\n",
      "Embedding del video: mexicosta_segment_266.mkv\n",
      "Embedding del video: mexicosta_segment_267.mkv\n",
      "Embedding del video: mexicosta_segment_268.mkv\n",
      "Embedding del video: mexicosta_segment_269.mkv\n",
      "Embedding del video: mexicosta_segment_270.mkv\n",
      "Embedding del video: mexicosta_segment_271.mkv\n",
      "Embedding del video: mexicosta_segment_272.mkv\n",
      "Embedding del video: mexicosta_segment_273.mkv\n",
      "Embedding del video: mexicosta_segment_274.mkv\n",
      "Embedding del video: mexicosta_segment_275.mkv\n",
      "Embedding del video: mexicosta_segment_276.mkv\n",
      "Embedding del video: mexicosta_segment_277.mkv\n",
      "Embedding del video: mexicosta_segment_278.mkv\n",
      "Embedding del video: mexicosta_segment_279.mkv\n",
      "Embedding del video: mexicosta_segment_280.mkv\n",
      "Embedding del video: mexicosta_segment_281.mkv\n",
      "Embedding del video: mexicosta_segment_282.mkv\n",
      "Embedding del video: mexicosta_segment_283.mkv\n",
      "Embedding del video: mexicosta_segment_284.mkv\n",
      "Embedding del video: mexicosta_segment_285.mkv\n",
      "Embedding del video: mexicosta_segment_286.mkv\n",
      "Embedding del video: mexicosta_segment_287.mkv\n",
      "Embedding del video: mexicosta_segment_288.mkv\n",
      "Embedding del video: mexicosta_segment_289.mkv\n",
      "Embedding del video: mexicosta_segment_290.mkv\n",
      "Embedding del video: mexicosta_segment_291.mkv\n",
      "Embedding del video: mexicosta_segment_292.mkv\n",
      "Embedding del video: mexicosta_segment_293.mkv\n",
      "Embedding del video: mexicosta_segment_294.mkv\n",
      "Embedding del video: mexicosta_segment_295.mkv\n",
      "Embedding del video: mexicosta_segment_296.mkv\n",
      "Embedding del video: mexicosta_segment_297.mkv\n",
      "Embedding del video: mexicosta_segment_298.mkv\n",
      "Embedding del video: mexicosta_segment_299.mkv\n",
      "Embedding del video: mexicosta_segment_300.mkv\n",
      "Embedding del video: mexicosta_segment_301.mkv\n",
      "Embedding del video: mexicosta_segment_302.mkv\n",
      "Embedding del video: mexicosta_segment_303.mkv\n",
      "Embedding del video: mexicosta_segment_304.mkv\n",
      "Embedding del video: mexicosta_segment_305.mkv\n",
      "Embedding del video: mexicosta_segment_306.mkv\n",
      "Embedding del video: mexicosta_segment_307.mkv\n",
      "Embedding del video: mexicosta_segment_308.mkv\n",
      "Embedding del video: mexicosta_segment_309.mkv\n",
      "Embedding del video: mexicosta_segment_310.mkv\n",
      "Embedding del video: mexicosta_segment_311.mkv\n",
      "Embedding del video: mexicosta_segment_312.mkv\n",
      "Embedding del video: mexicosta_segment_313.mkv\n",
      "Embedding del video: mexicosta_segment_314.mkv\n",
      "Embedding del video: mexicosta_segment_315.mkv\n",
      "Embedding del video: mexicosta_segment_316.mkv\n",
      "Embedding del video: mexicosta_segment_317.mkv\n",
      "Embedding del video: mexicosta_segment_318.mkv\n",
      "Embedding del video: mexicosta_segment_319.mkv\n",
      "Embedding del video: mexicosta_segment_320.mkv\n",
      "Embedding del video: mexicosta_segment_321.mkv\n",
      "Embedding del video: mexicosta_segment_322.mkv\n",
      "Embedding del video: mexicosta_segment_323.mkv\n",
      "Embedding del video: mexicosta_segment_324.mkv\n",
      "Embedding del video: mexicosta_segment_325.mkv\n",
      "Embedding del video: mexicosta_segment_326.mkv\n",
      "Embedding del video: mexicosta_segment_327.mkv\n",
      "Embedding del video: mexicosta_segment_328.mkv\n",
      "Embedding del video: mexicosta_segment_329.mkv\n",
      "Embedding del video: mexicosta_segment_330.mkv\n",
      "Embedding del video: mexicosta_segment_331.mkv\n",
      "Embedding del video: mexicosta_segment_332.mkv\n",
      "Embedding del video: mexicosta_segment_333.mkv\n",
      "Embedding del video: mexicosta_segment_334.mkv\n",
      "Embedding del video: mexicosta_segment_335.mkv\n",
      "Embedding del video: mexicosta_segment_336.mkv\n",
      "Embedding del video: mexicosta_segment_337.mkv\n",
      "Embedding del video: mexicosta_segment_338.mkv\n",
      "Embedding del video: mexicosta_segment_339.mkv\n",
      "Embedding del video: mexicosta_segment_340.mkv\n",
      "Embedding del video: mexicosta_segment_341.mkv\n",
      "Embedding del video: mexicosta_segment_342.mkv\n",
      "Embedding del video: mexicosta_segment_343.mkv\n",
      "Embedding del video: mexicosta_segment_344.mkv\n",
      "Embedding del video: mexicosta_segment_345.mkv\n",
      "Embedding del video: mexicosta_segment_346.mkv\n",
      "Embedding del video: mexicosta_segment_347.mkv\n",
      "Embedding del video: mexicosta_segment_348.mkv\n",
      "Embedding del video: mexicosta_segment_349.mkv\n",
      "Embedding del video: mexicosta_segment_350.mkv\n",
      "Embedding del video: mexicosta_segment_351.mkv\n",
      "Embedding del video: mexicosta_segment_352.mkv\n",
      "Embedding del video: mexicosta_segment_353.mkv\n",
      "Embedding del video: mexicosta_segment_354.mkv\n",
      "Embedding del video: mexicosta_segment_355.mkv\n",
      "Embedding del video: mexicosta_segment_356.mkv\n",
      "Embedding del video: mexicosta_segment_357.mkv\n",
      "Embedding del video: mexicosta_segment_358.mkv\n",
      "Embedding del video: mexicosta_segment_359.mkv\n",
      "Embedding del video: mexicosta_segment_360.mkv\n",
      "Embedding del video: mexicosta_segment_361.mkv\n",
      "Embedding del video: mexicosta_segment_362.mkv\n",
      "Embedding del video: mexicosta_segment_363.mkv\n",
      "Embedding del video: mexicosta_segment_364.mkv\n",
      "Embedding del video: mexicosta_segment_365.mkv\n",
      "Embedding del video: mexicosta_segment_366.mkv\n",
      "Embedding del video: mexicosta_segment_367.mkv\n",
      "Embedding del video: mexicosta_segment_368.mkv\n",
      "Embedding del video: mexicosta_segment_369.mkv\n",
      "Embedding del video: mexicosta_segment_370.mkv\n",
      "Embedding del video: mexicosta_segment_371.mkv\n",
      "Embedding del video: mexicosta_segment_372.mkv\n",
      "Embedding del video: mexicosta_segment_373.mkv\n",
      "Embedding del video: mexicosta_segment_374.mkv\n",
      "Embedding del video: mexicosta_segment_375.mkv\n",
      "Embedding del video: mexicosta_segment_376.mkv\n",
      "Embedding del video: mexicosta_segment_377.mkv\n",
      "Embedding del video: mexicosta_segment_378.mkv\n",
      "Embedding del video: mexicosta_segment_379.mkv\n",
      "Embedding del video: mexicosta_segment_380.mkv\n",
      "Embedding del video: mexicosta_segment_381.mkv\n",
      "Embedding del video: mexicosta_segment_382.mkv\n",
      "Embedding del video: mexicosta_segment_383.mkv\n",
      "Embedding del video: mexicosta_segment_384.mkv\n",
      "Embedding del video: mexicosta_segment_385.mkv\n",
      "Embedding del video: mexicosta_segment_386.mkv\n",
      "Embedding del video: mexicosta_segment_387.mkv\n",
      "Embedding del video: mexicosta_segment_388.mkv\n",
      "Embedding del video: mexicosta_segment_389.mkv\n",
      "Embedding del video: mexicosta_segment_390.mkv\n",
      "Embedding del video: mexicosta_segment_391.mkv\n",
      "Embedding del video: mexicosta_segment_392.mkv\n",
      "Embedding del video: mexicosta_segment_393.mkv\n",
      "Embedding del video: mexicosta_segment_394.mkv\n",
      "Embedding del video: mexicosta_segment_395.mkv\n",
      "Embedding del video: mexicosta_segment_396.mkv\n",
      "Embedding del video: mexicosta_segment_397.mkv\n",
      "Embedding del video: mexicosta_segment_398.mkv\n",
      "Embedding del video: mexicosta_segment_399.mkv\n",
      "Embedding del video: mexicosta_segment_400.mkv\n",
      "Embedding del video: mexicosta_segment_401.mkv\n",
      "Embedding del video: mexicosta_segment_402.mkv\n",
      "Embedding del video: mexicosta_segment_403.mkv\n",
      "Embedding del video: mexicosta_segment_404.mkv\n",
      "Embedding del video: mexicosta_segment_405.mkv\n",
      "Embedding del video: mexicosta_segment_406.mkv\n",
      "Embedding del video: mexicosta_segment_407.mkv\n",
      "Embedding del video: mexicosta_segment_408.mkv\n",
      "Embedding del video: mexicosta_segment_409.mkv\n",
      "Embedding del video: mexicosta_segment_410.mkv\n",
      "Embedding del video: mexicosta_segment_411.mkv\n",
      "Embedding del video: mexicosta_segment_412.mkv\n",
      "Embedding del video: mexicosta_segment_413.mkv\n",
      "Embedding del video: mexicosta_segment_414.mkv\n",
      "Embedding del video: mexicosta_segment_415.mkv\n",
      "Embedding del video: mexicosta_segment_416.mkv\n",
      "Embedding del video: mexicosta_segment_417.mkv\n",
      "Embedding del video: mexicosta_segment_418.mkv\n",
      "Embedding del video: mexicosta_segment_419.mkv\n",
      "Embedding del video: mexicosta_segment_420.mkv\n",
      "Embedding del video: mexicosta_segment_421.mkv\n",
      "Embedding del video: mexicosta_segment_422.mkv\n",
      "Embedding del video: mexicosta_segment_423.mkv\n",
      "Embedding del video: mexicosta_segment_424.mkv\n",
      "Embedding del video: mexicosta_segment_425.mkv\n",
      "Embedding del video: mexicosta_segment_426.mkv\n",
      "Embedding del video: mexicosta_segment_427.mkv\n",
      "Embedding del video: mexicosta_segment_428.mkv\n",
      "Embedding del video: mexicosta_segment_429.mkv\n",
      "Embedding del video: mexicosta_segment_430.mkv\n",
      "Embedding del video: mexicosta_segment_431.mkv\n",
      "Embedding del video: mexicosta_segment_432.mkv\n",
      "Embedding del video: mexicosta_segment_433.mkv\n",
      "Embedding del video: mexicosta_segment_434.mkv\n",
      "Embedding del video: mexicosta_segment_435.mkv\n",
      "Embedding del video: mexicosta_segment_436.mkv\n",
      "Embedding del video: mexicosta_segment_437.mkv\n",
      "Embedding del video: mexicosta_segment_438.mkv\n",
      "Embedding del video: mexicosta_segment_439.mkv\n",
      "Embedding del video: mexicosta_segment_440.mkv\n",
      "Embedding del video: mexicosta_segment_441.mkv\n",
      "Embedding del video: mexicosta_segment_442.mkv\n",
      "Embedding del video: mexicosta_segment_443.mkv\n",
      "Embedding del video: mexicosta_segment_444.mkv\n",
      "Embedding del video: mexicosta_segment_445.mkv\n",
      "Embedding del video: mexicosta_segment_446.mkv\n",
      "Embedding del video: mexicosta_segment_447.mkv\n",
      "Embedding del video: mexicosta_segment_448.mkv\n",
      "Embedding del video: mexicosta_segment_449.mkv\n",
      "Embedding del video: mexicosta_segment_450.mkv\n",
      "Embedding del video: mexicosta_segment_451.mkv\n",
      "Embedding del video: mexicosta_segment_452.mkv\n",
      "Embedding del video: mexicosta_segment_453.mkv\n",
      "Embedding del video: mexicosta_segment_454.mkv\n",
      "Embedding del video: mexicosta_segment_455.mkv\n",
      "Embedding del video: mexicosta_segment_456.mkv\n",
      "Embedding del video: mexicosta_segment_457.mkv\n",
      "Embedding del video: mexicosta_segment_458.mkv\n",
      "Embedding del video: mexicosta_segment_459.mkv\n",
      "Embedding del video: mexicosta_segment_460.mkv\n",
      "Embedding del video: mexicosta_segment_461.mkv\n",
      "Embedding del video: mexicosta_segment_462.mkv\n",
      "Embedding del video: mexicosta_segment_463.mkv\n",
      "Embedding del video: mexicosta_segment_464.mkv\n",
      "Embedding del video: mexicosta_segment_465.mkv\n",
      "Embedding del video: mexicosta_segment_466.mkv\n",
      "Embedding del video: mexicosta_segment_467.mkv\n",
      "Embedding del video: mexicosta_segment_468.mkv\n",
      "Embedding del video: mexicosta_segment_469.mkv\n",
      "Embedding del video: mexicosta_segment_470.mkv\n",
      "Embedding del video: mexicosta_segment_471.mkv\n",
      "Embedding del video: mexicosta_segment_472.mkv\n",
      "Embedding del video: mexicosta_segment_473.mkv\n",
      "Embedding del video: mexicosta_segment_474.mkv\n",
      "Embedding del video: mexicosta_segment_475.mkv\n",
      "Embedding del video: mexicosta_segment_476.mkv\n",
      "Embedding del video: mexicosta_segment_477.mkv\n",
      "Embedding del video: mexicosta_segment_478.mkv\n",
      "Embedding del video: mexicosta_segment_479.mkv\n",
      "Embedding del video: mexicosta_segment_480.mkv\n",
      "Embedding del video: mexicosta_segment_481.mkv\n",
      "Embedding del video: mexicosta_segment_482.mkv\n",
      "Embedding del video: mexicosta_segment_483.mkv\n",
      "Tiempo total para generar embeddings: 6848.5406 segundos\n"
     ]
    }
   ],
   "source": [
    "# ruta_video = \"gs://vboxioof/Videos/Videos Largos/azteca7-2025-05-23.mkv\" \n",
    "\n",
    "# Obtenemos todas los nombres de los clips del video en el bucket\n",
    "clips = list_blobs(BUCKET_NAME)  # Llama a la función para listar los blobs en el bucket especificado.\n",
    "\n",
    "lsEmbeddings = []  # Lista para almacenar los embeddings de los videos\n",
    "\n",
    "\n",
    "# Marcamos el inicio del proceso de generación de embeddings\n",
    "start_time = time.time()\n",
    "\n",
    "# Generamos el embedding del video\n",
    "for clip in clips[1:]: # Omitimos el primer elemento de la lista, que es un directorio (y no un archivo).\n",
    "    print(f\"Embedding del video: {os.path.basename(clip)}\")\n",
    "    video_embedding = get_video_embedding(\"gs://vboxiooof/\"+clip) # -> Ojo aquí, le agruegé una 'o' extra al bucket, porque si no, no me funcionaba\n",
    "    lsEmbeddings.append(video_embedding)  # Añade el embedding a la lista\n",
    "    \n",
    "end_time = time.time()  # Marcamos el final del proceso de generación de embeddings\n",
    "\n",
    "print(f\"Tiempo total para generar embeddings: {end_time - start_time:.4f} segundos\")  # Imprime el tiempo total transcurrido"
   ]
  },
  {
   "cell_type": "code",
   "execution_count": 30,
   "id": "224aa148",
   "metadata": {},
   "outputs": [
    {
     "name": "stdout",
     "output_type": "stream",
     "text": [
      "Cantidad de elementos en la lista de embeddings: 483\n"
     ]
    }
   ],
   "source": [
    "# Vemos cuantos embeddings se generaron\n",
    "print(f\"Cantidad de elementos en la lista de embeddings: {len(lsEmbeddings)}\")"
   ]
  },
  {
   "cell_type": "code",
   "execution_count": 32,
   "id": "2df08c94",
   "metadata": {},
   "outputs": [
    {
     "name": "stdout",
     "output_type": "stream",
     "text": [
      "Cantidad total de embeddings: 1931\n"
     ]
    }
   ],
   "source": [
    "# Vemos la cantidad de embeddings generados\n",
    "sum = 0\n",
    "for em in lsEmbeddings:\n",
    "    sum += len(em)  # Suma la longitud de cada embedding (debería ser 1408)\n",
    "\n",
    "print(f\"Cantidad total de embeddings: {sum}\")  # Imprime la suma total de elementos en los embeddings"
   ]
  },
  {
   "cell_type": "markdown",
   "id": "280cf794",
   "metadata": {},
   "source": [
    "# **Carga a Vector Search**"
   ]
  },
  {
   "cell_type": "code",
   "execution_count": 33,
   "id": "071854ca",
   "metadata": {},
   "outputs": [
    {
     "name": "stdout",
     "output_type": "stream",
     "text": [
      "Cantidad de embeddings a guardar: 1931\n"
     ]
    }
   ],
   "source": [
    "# --- Hacemos un 'aplanamiento' de la lista de embeddings para que sea un vector 1D ---\n",
    "FlatListEmbeddings = [embedding for sublist in lsEmbeddings for embedding in sublist]  # Aplana la lista de listas en una sola lista de embeddings\n",
    "\n",
    "print(f\"Cantidad de embeddings a guardar: {len(FlatListEmbeddings)}\")"
   ]
  },
  {
   "cell_type": "code",
   "execution_count": 34,
   "id": "9085a3f0",
   "metadata": {},
   "outputs": [
    {
     "name": "stdout",
     "output_type": "stream",
     "text": [
      "Conectando al bucket 'vboxiooof'...\n",
      "Escribiendo 1931 embeddings en el archivo en memoria...\n",
      "¡Éxito! Archivo 'Embeddings/Embeddings.json' subido correctamente a 'gs://vboxiooof/Embeddings/Embeddings.json'.\n"
     ]
    }
   ],
   "source": [
    "# --- GENERACIÓN DE IDs ---\n",
    "ids_de_embeddings = [f\"mexicosta_segment_{i}\" for i in range(len(FlatListEmbeddings))]\n",
    "\n",
    "\n",
    "if len(ids_de_embeddings) != len(FlatListEmbeddings):\n",
    "        raise ValueError(\"La cantidad de IDs no coincide con la cantidad de embeddings.\")\n",
    "        \n",
    "guardar_embeddings_en_gcs(\n",
    "    project_id=PROJECT_ID,\n",
    "    bucket_name=BUCKET_NAME,\n",
    "    blob_name=DESTINATION_BLOB_NAME+'/Embeddings.json',  # Asegúrate de que el nombre del archivo sea correcto\n",
    "    ids=ids_de_embeddings,\n",
    "    embeddings=FlatListEmbeddings\n",
    ")\n",
    "\n"
   ]
  },
  {
   "cell_type": "markdown",
   "id": "bcbf4e48",
   "metadata": {},
   "source": [
    "# **Query a los embeddings**"
   ]
  },
  {
   "cell_type": "code",
   "execution_count": 5,
   "id": "ed48d911",
   "metadata": {},
   "outputs": [],
   "source": [
    "GCS_VIDEO_URI = \"vboxioof/Videos/Videos_Segmentados/\"   # La ruta a la carpeta de los clips\n",
    "SEGMENT_INTERVAL_SEC = 4                                # El intervalo en segundos que usamos para segmentar el video\n",
    "image_path = \"gs://vboxioof/Imagenes/ATT.png\"        # Ruta a una imagen de ejemplo para generar un embedding"
   ]
  },
  {
   "cell_type": "markdown",
   "id": "89aa5b8f",
   "metadata": {},
   "source": [
    "### **Consulta con imagenes**"
   ]
  },
  {
   "cell_type": "code",
   "execution_count": null,
   "id": "5970f723",
   "metadata": {},
   "outputs": [
    {
     "name": "stdout",
     "output_type": "stream",
     "text": [
      "Conectando al Index Endpoint...\n",
      "Buscando los 50 videos más similares...\n",
      "\n",
      "--- RESULTADOS DE LA BÚSQUEDA ---\n",
      "\n",
      "Encontrado: [ID: PartidoAzteca7_segment_826] - [Distancia: 0.47895408]\n"
     ]
    },
    {
     "data": {
      "text/html": [
       "\n",
       "        <p>Mostrando segmento: <b>PartidoAzteca7_segment_826</b> (segundos 3304-3308)</p>\n",
       "        <video width=\"640\" controls>\n",
       "            <source src=\"vboxioof/Videos/Videos_Segmentados/PartidoAzteca7_segment_826.mp4#t=3304,3308\" type=\"video/mp4\">\n",
       "            Tu navegador no soporta la etiqueta de video.\n",
       "        </video>\n",
       "        "
      ],
      "text/plain": [
       "<IPython.core.display.HTML object>"
      ]
     },
     "metadata": {},
     "output_type": "display_data"
    },
    {
     "name": "stdout",
     "output_type": "stream",
     "text": [
      "\n",
      "Encontrado: [ID: PartidoAzteca7_segment_932] - [Distancia: 0.47994792]\n"
     ]
    },
    {
     "data": {
      "text/html": [
       "\n",
       "        <p>Mostrando segmento: <b>PartidoAzteca7_segment_932</b> (segundos 3728-3732)</p>\n",
       "        <video width=\"640\" controls>\n",
       "            <source src=\"vboxioof/Videos/Videos_Segmentados/PartidoAzteca7_segment_932.mp4#t=3728,3732\" type=\"video/mp4\">\n",
       "            Tu navegador no soporta la etiqueta de video.\n",
       "        </video>\n",
       "        "
      ],
      "text/plain": [
       "<IPython.core.display.HTML object>"
      ]
     },
     "metadata": {},
     "output_type": "display_data"
    },
    {
     "name": "stdout",
     "output_type": "stream",
     "text": [
      "\n",
      "Encontrado: [ID: PartidoAzteca7_segment_958] - [Distancia: 0.48236069]\n"
     ]
    },
    {
     "data": {
      "text/html": [
       "\n",
       "        <p>Mostrando segmento: <b>PartidoAzteca7_segment_958</b> (segundos 3832-3836)</p>\n",
       "        <video width=\"640\" controls>\n",
       "            <source src=\"vboxioof/Videos/Videos_Segmentados/PartidoAzteca7_segment_958.mp4#t=3832,3836\" type=\"video/mp4\">\n",
       "            Tu navegador no soporta la etiqueta de video.\n",
       "        </video>\n",
       "        "
      ],
      "text/plain": [
       "<IPython.core.display.HTML object>"
      ]
     },
     "metadata": {},
     "output_type": "display_data"
    },
    {
     "name": "stdout",
     "output_type": "stream",
     "text": [
      "\n",
      "Encontrado: [ID: PartidoAzteca7_segment_724] - [Distancia: 0.48360842]\n"
     ]
    },
    {
     "data": {
      "text/html": [
       "\n",
       "        <p>Mostrando segmento: <b>PartidoAzteca7_segment_724</b> (segundos 2896-2900)</p>\n",
       "        <video width=\"640\" controls>\n",
       "            <source src=\"vboxioof/Videos/Videos_Segmentados/PartidoAzteca7_segment_724.mp4#t=2896,2900\" type=\"video/mp4\">\n",
       "            Tu navegador no soporta la etiqueta de video.\n",
       "        </video>\n",
       "        "
      ],
      "text/plain": [
       "<IPython.core.display.HTML object>"
      ]
     },
     "metadata": {},
     "output_type": "display_data"
    },
    {
     "name": "stdout",
     "output_type": "stream",
     "text": [
      "\n",
      "Encontrado: [ID: PartidoAzteca7_segment_801] - [Distancia: 0.48797610]\n"
     ]
    },
    {
     "data": {
      "text/html": [
       "\n",
       "        <p>Mostrando segmento: <b>PartidoAzteca7_segment_801</b> (segundos 3204-3208)</p>\n",
       "        <video width=\"640\" controls>\n",
       "            <source src=\"vboxioof/Videos/Videos_Segmentados/PartidoAzteca7_segment_801.mp4#t=3204,3208\" type=\"video/mp4\">\n",
       "            Tu navegador no soporta la etiqueta de video.\n",
       "        </video>\n",
       "        "
      ],
      "text/plain": [
       "<IPython.core.display.HTML object>"
      ]
     },
     "metadata": {},
     "output_type": "display_data"
    },
    {
     "name": "stdout",
     "output_type": "stream",
     "text": [
      "\n",
      "Encontrado: [ID: PartidoAzteca7_segment_754] - [Distancia: 0.48912904]\n"
     ]
    },
    {
     "data": {
      "text/html": [
       "\n",
       "        <p>Mostrando segmento: <b>PartidoAzteca7_segment_754</b> (segundos 3016-3020)</p>\n",
       "        <video width=\"640\" controls>\n",
       "            <source src=\"vboxioof/Videos/Videos_Segmentados/PartidoAzteca7_segment_754.mp4#t=3016,3020\" type=\"video/mp4\">\n",
       "            Tu navegador no soporta la etiqueta de video.\n",
       "        </video>\n",
       "        "
      ],
      "text/plain": [
       "<IPython.core.display.HTML object>"
      ]
     },
     "metadata": {},
     "output_type": "display_data"
    },
    {
     "name": "stdout",
     "output_type": "stream",
     "text": [
      "\n",
      "Encontrado: [ID: PartidoAzteca7_segment_802] - [Distancia: 0.49145138]\n"
     ]
    },
    {
     "data": {
      "text/html": [
       "\n",
       "        <p>Mostrando segmento: <b>PartidoAzteca7_segment_802</b> (segundos 3208-3212)</p>\n",
       "        <video width=\"640\" controls>\n",
       "            <source src=\"vboxioof/Videos/Videos_Segmentados/PartidoAzteca7_segment_802.mp4#t=3208,3212\" type=\"video/mp4\">\n",
       "            Tu navegador no soporta la etiqueta de video.\n",
       "        </video>\n",
       "        "
      ],
      "text/plain": [
       "<IPython.core.display.HTML object>"
      ]
     },
     "metadata": {},
     "output_type": "display_data"
    },
    {
     "name": "stdout",
     "output_type": "stream",
     "text": [
      "\n",
      "Encontrado: [ID: PartidoAzteca7_segment_799] - [Distancia: 0.49213213]\n"
     ]
    },
    {
     "data": {
      "text/html": [
       "\n",
       "        <p>Mostrando segmento: <b>PartidoAzteca7_segment_799</b> (segundos 3196-3200)</p>\n",
       "        <video width=\"640\" controls>\n",
       "            <source src=\"vboxioof/Videos/Videos_Segmentados/PartidoAzteca7_segment_799.mp4#t=3196,3200\" type=\"video/mp4\">\n",
       "            Tu navegador no soporta la etiqueta de video.\n",
       "        </video>\n",
       "        "
      ],
      "text/plain": [
       "<IPython.core.display.HTML object>"
      ]
     },
     "metadata": {},
     "output_type": "display_data"
    },
    {
     "name": "stdout",
     "output_type": "stream",
     "text": [
      "\n",
      "Encontrado: [ID: PartidoAzteca7_segment_788] - [Distancia: 0.49229962]\n"
     ]
    },
    {
     "data": {
      "text/html": [
       "\n",
       "        <p>Mostrando segmento: <b>PartidoAzteca7_segment_788</b> (segundos 3152-3156)</p>\n",
       "        <video width=\"640\" controls>\n",
       "            <source src=\"vboxioof/Videos/Videos_Segmentados/PartidoAzteca7_segment_788.mp4#t=3152,3156\" type=\"video/mp4\">\n",
       "            Tu navegador no soporta la etiqueta de video.\n",
       "        </video>\n",
       "        "
      ],
      "text/plain": [
       "<IPython.core.display.HTML object>"
      ]
     },
     "metadata": {},
     "output_type": "display_data"
    },
    {
     "name": "stdout",
     "output_type": "stream",
     "text": [
      "\n",
      "Encontrado: [ID: PartidoAzteca7_segment_931] - [Distancia: 0.49297321]\n"
     ]
    },
    {
     "data": {
      "text/html": [
       "\n",
       "        <p>Mostrando segmento: <b>PartidoAzteca7_segment_931</b> (segundos 3724-3728)</p>\n",
       "        <video width=\"640\" controls>\n",
       "            <source src=\"vboxioof/Videos/Videos_Segmentados/PartidoAzteca7_segment_931.mp4#t=3724,3728\" type=\"video/mp4\">\n",
       "            Tu navegador no soporta la etiqueta de video.\n",
       "        </video>\n",
       "        "
      ],
      "text/plain": [
       "<IPython.core.display.HTML object>"
      ]
     },
     "metadata": {},
     "output_type": "display_data"
    },
    {
     "name": "stdout",
     "output_type": "stream",
     "text": [
      "\n",
      "Encontrado: [ID: PartidoAzteca7_segment_1794] - [Distancia: 0.49351749]\n"
     ]
    },
    {
     "data": {
      "text/html": [
       "\n",
       "        <p>Mostrando segmento: <b>PartidoAzteca7_segment_1794</b> (segundos 7176-7180)</p>\n",
       "        <video width=\"640\" controls>\n",
       "            <source src=\"vboxioof/Videos/Videos_Segmentados/PartidoAzteca7_segment_1794.mp4#t=7176,7180\" type=\"video/mp4\">\n",
       "            Tu navegador no soporta la etiqueta de video.\n",
       "        </video>\n",
       "        "
      ],
      "text/plain": [
       "<IPython.core.display.HTML object>"
      ]
     },
     "metadata": {},
     "output_type": "display_data"
    },
    {
     "name": "stdout",
     "output_type": "stream",
     "text": [
      "\n",
      "Encontrado: [ID: PartidoAzteca7_segment_818] - [Distancia: 0.49666005]\n"
     ]
    },
    {
     "data": {
      "text/html": [
       "\n",
       "        <p>Mostrando segmento: <b>PartidoAzteca7_segment_818</b> (segundos 3272-3276)</p>\n",
       "        <video width=\"640\" controls>\n",
       "            <source src=\"vboxioof/Videos/Videos_Segmentados/PartidoAzteca7_segment_818.mp4#t=3272,3276\" type=\"video/mp4\">\n",
       "            Tu navegador no soporta la etiqueta de video.\n",
       "        </video>\n",
       "        "
      ],
      "text/plain": [
       "<IPython.core.display.HTML object>"
      ]
     },
     "metadata": {},
     "output_type": "display_data"
    },
    {
     "name": "stdout",
     "output_type": "stream",
     "text": [
      "\n",
      "Encontrado: [ID: PartidoAzteca7_segment_701] - [Distancia: 0.49887729]\n"
     ]
    },
    {
     "data": {
      "text/html": [
       "\n",
       "        <p>Mostrando segmento: <b>PartidoAzteca7_segment_701</b> (segundos 2804-2808)</p>\n",
       "        <video width=\"640\" controls>\n",
       "            <source src=\"vboxioof/Videos/Videos_Segmentados/PartidoAzteca7_segment_701.mp4#t=2804,2808\" type=\"video/mp4\">\n",
       "            Tu navegador no soporta la etiqueta de video.\n",
       "        </video>\n",
       "        "
      ],
      "text/plain": [
       "<IPython.core.display.HTML object>"
      ]
     },
     "metadata": {},
     "output_type": "display_data"
    },
    {
     "name": "stdout",
     "output_type": "stream",
     "text": [
      "\n",
      "Encontrado: [ID: PartidoAzteca7_segment_859] - [Distancia: 0.49899158]\n"
     ]
    },
    {
     "data": {
      "text/html": [
       "\n",
       "        <p>Mostrando segmento: <b>PartidoAzteca7_segment_859</b> (segundos 3436-3440)</p>\n",
       "        <video width=\"640\" controls>\n",
       "            <source src=\"vboxioof/Videos/Videos_Segmentados/PartidoAzteca7_segment_859.mp4#t=3436,3440\" type=\"video/mp4\">\n",
       "            Tu navegador no soporta la etiqueta de video.\n",
       "        </video>\n",
       "        "
      ],
      "text/plain": [
       "<IPython.core.display.HTML object>"
      ]
     },
     "metadata": {},
     "output_type": "display_data"
    },
    {
     "name": "stdout",
     "output_type": "stream",
     "text": [
      "\n",
      "Encontrado: [ID: PartidoAzteca7_segment_868] - [Distancia: 0.49961045]\n"
     ]
    },
    {
     "data": {
      "text/html": [
       "\n",
       "        <p>Mostrando segmento: <b>PartidoAzteca7_segment_868</b> (segundos 3472-3476)</p>\n",
       "        <video width=\"640\" controls>\n",
       "            <source src=\"vboxioof/Videos/Videos_Segmentados/PartidoAzteca7_segment_868.mp4#t=3472,3476\" type=\"video/mp4\">\n",
       "            Tu navegador no soporta la etiqueta de video.\n",
       "        </video>\n",
       "        "
      ],
      "text/plain": [
       "<IPython.core.display.HTML object>"
      ]
     },
     "metadata": {},
     "output_type": "display_data"
    },
    {
     "name": "stdout",
     "output_type": "stream",
     "text": [
      "\n",
      "Encontrado: [ID: PartidoAzteca7_segment_704] - [Distancia: 0.50011247]\n"
     ]
    },
    {
     "data": {
      "text/html": [
       "\n",
       "        <p>Mostrando segmento: <b>PartidoAzteca7_segment_704</b> (segundos 2816-2820)</p>\n",
       "        <video width=\"640\" controls>\n",
       "            <source src=\"vboxioof/Videos/Videos_Segmentados/PartidoAzteca7_segment_704.mp4#t=2816,2820\" type=\"video/mp4\">\n",
       "            Tu navegador no soporta la etiqueta de video.\n",
       "        </video>\n",
       "        "
      ],
      "text/plain": [
       "<IPython.core.display.HTML object>"
      ]
     },
     "metadata": {},
     "output_type": "display_data"
    },
    {
     "name": "stdout",
     "output_type": "stream",
     "text": [
      "\n",
      "Encontrado: [ID: PartidoAzteca7_segment_775] - [Distancia: 0.50264692]\n"
     ]
    },
    {
     "data": {
      "text/html": [
       "\n",
       "        <p>Mostrando segmento: <b>PartidoAzteca7_segment_775</b> (segundos 3100-3104)</p>\n",
       "        <video width=\"640\" controls>\n",
       "            <source src=\"vboxioof/Videos/Videos_Segmentados/PartidoAzteca7_segment_775.mp4#t=3100,3104\" type=\"video/mp4\">\n",
       "            Tu navegador no soporta la etiqueta de video.\n",
       "        </video>\n",
       "        "
      ],
      "text/plain": [
       "<IPython.core.display.HTML object>"
      ]
     },
     "metadata": {},
     "output_type": "display_data"
    },
    {
     "name": "stdout",
     "output_type": "stream",
     "text": [
      "\n",
      "Encontrado: [ID: PartidoAzteca7_segment_715] - [Distancia: 0.50383580]\n"
     ]
    },
    {
     "data": {
      "text/html": [
       "\n",
       "        <p>Mostrando segmento: <b>PartidoAzteca7_segment_715</b> (segundos 2860-2864)</p>\n",
       "        <video width=\"640\" controls>\n",
       "            <source src=\"vboxioof/Videos/Videos_Segmentados/PartidoAzteca7_segment_715.mp4#t=2860,2864\" type=\"video/mp4\">\n",
       "            Tu navegador no soporta la etiqueta de video.\n",
       "        </video>\n",
       "        "
      ],
      "text/plain": [
       "<IPython.core.display.HTML object>"
      ]
     },
     "metadata": {},
     "output_type": "display_data"
    },
    {
     "name": "stdout",
     "output_type": "stream",
     "text": [
      "\n",
      "Encontrado: [ID: PartidoAzteca7_segment_831] - [Distancia: 0.50639582]\n"
     ]
    },
    {
     "data": {
      "text/html": [
       "\n",
       "        <p>Mostrando segmento: <b>PartidoAzteca7_segment_831</b> (segundos 3324-3328)</p>\n",
       "        <video width=\"640\" controls>\n",
       "            <source src=\"vboxioof/Videos/Videos_Segmentados/PartidoAzteca7_segment_831.mp4#t=3324,3328\" type=\"video/mp4\">\n",
       "            Tu navegador no soporta la etiqueta de video.\n",
       "        </video>\n",
       "        "
      ],
      "text/plain": [
       "<IPython.core.display.HTML object>"
      ]
     },
     "metadata": {},
     "output_type": "display_data"
    },
    {
     "name": "stdout",
     "output_type": "stream",
     "text": [
      "\n",
      "Encontrado: [ID: PartidoAzteca7_segment_759] - [Distancia: 0.51207525]\n"
     ]
    },
    {
     "data": {
      "text/html": [
       "\n",
       "        <p>Mostrando segmento: <b>PartidoAzteca7_segment_759</b> (segundos 3036-3040)</p>\n",
       "        <video width=\"640\" controls>\n",
       "            <source src=\"vboxioof/Videos/Videos_Segmentados/PartidoAzteca7_segment_759.mp4#t=3036,3040\" type=\"video/mp4\">\n",
       "            Tu navegador no soporta la etiqueta de video.\n",
       "        </video>\n",
       "        "
      ],
      "text/plain": [
       "<IPython.core.display.HTML object>"
      ]
     },
     "metadata": {},
     "output_type": "display_data"
    },
    {
     "name": "stdout",
     "output_type": "stream",
     "text": [
      "\n",
      "Encontrado: [ID: PartidoAzteca7_segment_656] - [Distancia: 0.51300687]\n"
     ]
    },
    {
     "data": {
      "text/html": [
       "\n",
       "        <p>Mostrando segmento: <b>PartidoAzteca7_segment_656</b> (segundos 2624-2628)</p>\n",
       "        <video width=\"640\" controls>\n",
       "            <source src=\"vboxioof/Videos/Videos_Segmentados/PartidoAzteca7_segment_656.mp4#t=2624,2628\" type=\"video/mp4\">\n",
       "            Tu navegador no soporta la etiqueta de video.\n",
       "        </video>\n",
       "        "
      ],
      "text/plain": [
       "<IPython.core.display.HTML object>"
      ]
     },
     "metadata": {},
     "output_type": "display_data"
    },
    {
     "name": "stdout",
     "output_type": "stream",
     "text": [
      "\n",
      "Encontrado: [ID: PartidoAzteca7_segment_698] - [Distancia: 0.51332480]\n"
     ]
    },
    {
     "data": {
      "text/html": [
       "\n",
       "        <p>Mostrando segmento: <b>PartidoAzteca7_segment_698</b> (segundos 2792-2796)</p>\n",
       "        <video width=\"640\" controls>\n",
       "            <source src=\"vboxioof/Videos/Videos_Segmentados/PartidoAzteca7_segment_698.mp4#t=2792,2796\" type=\"video/mp4\">\n",
       "            Tu navegador no soporta la etiqueta de video.\n",
       "        </video>\n",
       "        "
      ],
      "text/plain": [
       "<IPython.core.display.HTML object>"
      ]
     },
     "metadata": {},
     "output_type": "display_data"
    },
    {
     "name": "stdout",
     "output_type": "stream",
     "text": [
      "\n",
      "Encontrado: [ID: PartidoAzteca7_segment_657] - [Distancia: 0.51346314]\n"
     ]
    },
    {
     "data": {
      "text/html": [
       "\n",
       "        <p>Mostrando segmento: <b>PartidoAzteca7_segment_657</b> (segundos 2628-2632)</p>\n",
       "        <video width=\"640\" controls>\n",
       "            <source src=\"vboxioof/Videos/Videos_Segmentados/PartidoAzteca7_segment_657.mp4#t=2628,2632\" type=\"video/mp4\">\n",
       "            Tu navegador no soporta la etiqueta de video.\n",
       "        </video>\n",
       "        "
      ],
      "text/plain": [
       "<IPython.core.display.HTML object>"
      ]
     },
     "metadata": {},
     "output_type": "display_data"
    },
    {
     "name": "stdout",
     "output_type": "stream",
     "text": [
      "\n",
      "Encontrado: [ID: PartidoAzteca7_segment_655] - [Distancia: 0.51424587]\n"
     ]
    },
    {
     "data": {
      "text/html": [
       "\n",
       "        <p>Mostrando segmento: <b>PartidoAzteca7_segment_655</b> (segundos 2620-2624)</p>\n",
       "        <video width=\"640\" controls>\n",
       "            <source src=\"vboxioof/Videos/Videos_Segmentados/PartidoAzteca7_segment_655.mp4#t=2620,2624\" type=\"video/mp4\">\n",
       "            Tu navegador no soporta la etiqueta de video.\n",
       "        </video>\n",
       "        "
      ],
      "text/plain": [
       "<IPython.core.display.HTML object>"
      ]
     },
     "metadata": {},
     "output_type": "display_data"
    },
    {
     "name": "stdout",
     "output_type": "stream",
     "text": [
      "\n",
      "Encontrado: [ID: PartidoAzteca7_segment_840] - [Distancia: 0.51460987]\n"
     ]
    },
    {
     "data": {
      "text/html": [
       "\n",
       "        <p>Mostrando segmento: <b>PartidoAzteca7_segment_840</b> (segundos 3360-3364)</p>\n",
       "        <video width=\"640\" controls>\n",
       "            <source src=\"vboxioof/Videos/Videos_Segmentados/PartidoAzteca7_segment_840.mp4#t=3360,3364\" type=\"video/mp4\">\n",
       "            Tu navegador no soporta la etiqueta de video.\n",
       "        </video>\n",
       "        "
      ],
      "text/plain": [
       "<IPython.core.display.HTML object>"
      ]
     },
     "metadata": {},
     "output_type": "display_data"
    },
    {
     "name": "stdout",
     "output_type": "stream",
     "text": [
      "\n",
      "Encontrado: [ID: PartidoAzteca7_segment_644] - [Distancia: 0.51570064]\n"
     ]
    },
    {
     "data": {
      "text/html": [
       "\n",
       "        <p>Mostrando segmento: <b>PartidoAzteca7_segment_644</b> (segundos 2576-2580)</p>\n",
       "        <video width=\"640\" controls>\n",
       "            <source src=\"vboxioof/Videos/Videos_Segmentados/PartidoAzteca7_segment_644.mp4#t=2576,2580\" type=\"video/mp4\">\n",
       "            Tu navegador no soporta la etiqueta de video.\n",
       "        </video>\n",
       "        "
      ],
      "text/plain": [
       "<IPython.core.display.HTML object>"
      ]
     },
     "metadata": {},
     "output_type": "display_data"
    },
    {
     "name": "stdout",
     "output_type": "stream",
     "text": [
      "\n",
      "Encontrado: [ID: PartidoAzteca7_segment_761] - [Distancia: 0.51621079]\n"
     ]
    },
    {
     "data": {
      "text/html": [
       "\n",
       "        <p>Mostrando segmento: <b>PartidoAzteca7_segment_761</b> (segundos 3044-3048)</p>\n",
       "        <video width=\"640\" controls>\n",
       "            <source src=\"vboxioof/Videos/Videos_Segmentados/PartidoAzteca7_segment_761.mp4#t=3044,3048\" type=\"video/mp4\">\n",
       "            Tu navegador no soporta la etiqueta de video.\n",
       "        </video>\n",
       "        "
      ],
      "text/plain": [
       "<IPython.core.display.HTML object>"
      ]
     },
     "metadata": {},
     "output_type": "display_data"
    },
    {
     "name": "stdout",
     "output_type": "stream",
     "text": [
      "\n",
      "Encontrado: [ID: PartidoAzteca7_segment_787] - [Distancia: 0.52004522]\n"
     ]
    },
    {
     "data": {
      "text/html": [
       "\n",
       "        <p>Mostrando segmento: <b>PartidoAzteca7_segment_787</b> (segundos 3148-3152)</p>\n",
       "        <video width=\"640\" controls>\n",
       "            <source src=\"vboxioof/Videos/Videos_Segmentados/PartidoAzteca7_segment_787.mp4#t=3148,3152\" type=\"video/mp4\">\n",
       "            Tu navegador no soporta la etiqueta de video.\n",
       "        </video>\n",
       "        "
      ],
      "text/plain": [
       "<IPython.core.display.HTML object>"
      ]
     },
     "metadata": {},
     "output_type": "display_data"
    },
    {
     "name": "stdout",
     "output_type": "stream",
     "text": [
      "\n",
      "Encontrado: [ID: PartidoAzteca7_segment_803] - [Distancia: 0.52187788]\n"
     ]
    },
    {
     "data": {
      "text/html": [
       "\n",
       "        <p>Mostrando segmento: <b>PartidoAzteca7_segment_803</b> (segundos 3212-3216)</p>\n",
       "        <video width=\"640\" controls>\n",
       "            <source src=\"vboxioof/Videos/Videos_Segmentados/PartidoAzteca7_segment_803.mp4#t=3212,3216\" type=\"video/mp4\">\n",
       "            Tu navegador no soporta la etiqueta de video.\n",
       "        </video>\n",
       "        "
      ],
      "text/plain": [
       "<IPython.core.display.HTML object>"
      ]
     },
     "metadata": {},
     "output_type": "display_data"
    },
    {
     "name": "stdout",
     "output_type": "stream",
     "text": [
      "\n",
      "Encontrado: [ID: PartidoAzteca7_segment_861] - [Distancia: 0.52371973]\n"
     ]
    },
    {
     "data": {
      "text/html": [
       "\n",
       "        <p>Mostrando segmento: <b>PartidoAzteca7_segment_861</b> (segundos 3444-3448)</p>\n",
       "        <video width=\"640\" controls>\n",
       "            <source src=\"vboxioof/Videos/Videos_Segmentados/PartidoAzteca7_segment_861.mp4#t=3444,3448\" type=\"video/mp4\">\n",
       "            Tu navegador no soporta la etiqueta de video.\n",
       "        </video>\n",
       "        "
      ],
      "text/plain": [
       "<IPython.core.display.HTML object>"
      ]
     },
     "metadata": {},
     "output_type": "display_data"
    },
    {
     "name": "stdout",
     "output_type": "stream",
     "text": [
      "\n",
      "Encontrado: [ID: PartidoAzteca7_segment_760] - [Distancia: 0.52387094]\n"
     ]
    },
    {
     "data": {
      "text/html": [
       "\n",
       "        <p>Mostrando segmento: <b>PartidoAzteca7_segment_760</b> (segundos 3040-3044)</p>\n",
       "        <video width=\"640\" controls>\n",
       "            <source src=\"vboxioof/Videos/Videos_Segmentados/PartidoAzteca7_segment_760.mp4#t=3040,3044\" type=\"video/mp4\">\n",
       "            Tu navegador no soporta la etiqueta de video.\n",
       "        </video>\n",
       "        "
      ],
      "text/plain": [
       "<IPython.core.display.HTML object>"
      ]
     },
     "metadata": {},
     "output_type": "display_data"
    },
    {
     "name": "stdout",
     "output_type": "stream",
     "text": [
      "\n",
      "Encontrado: [ID: PartidoAzteca7_segment_645] - [Distancia: 0.52640855]\n"
     ]
    },
    {
     "data": {
      "text/html": [
       "\n",
       "        <p>Mostrando segmento: <b>PartidoAzteca7_segment_645</b> (segundos 2580-2584)</p>\n",
       "        <video width=\"640\" controls>\n",
       "            <source src=\"vboxioof/Videos/Videos_Segmentados/PartidoAzteca7_segment_645.mp4#t=2580,2584\" type=\"video/mp4\">\n",
       "            Tu navegador no soporta la etiqueta de video.\n",
       "        </video>\n",
       "        "
      ],
      "text/plain": [
       "<IPython.core.display.HTML object>"
      ]
     },
     "metadata": {},
     "output_type": "display_data"
    },
    {
     "name": "stdout",
     "output_type": "stream",
     "text": [
      "\n",
      "Encontrado: [ID: PartidoAzteca7_segment_824] - [Distancia: 0.52646959]\n"
     ]
    },
    {
     "data": {
      "text/html": [
       "\n",
       "        <p>Mostrando segmento: <b>PartidoAzteca7_segment_824</b> (segundos 3296-3300)</p>\n",
       "        <video width=\"640\" controls>\n",
       "            <source src=\"vboxioof/Videos/Videos_Segmentados/PartidoAzteca7_segment_824.mp4#t=3296,3300\" type=\"video/mp4\">\n",
       "            Tu navegador no soporta la etiqueta de video.\n",
       "        </video>\n",
       "        "
      ],
      "text/plain": [
       "<IPython.core.display.HTML object>"
      ]
     },
     "metadata": {},
     "output_type": "display_data"
    },
    {
     "name": "stdout",
     "output_type": "stream",
     "text": [
      "\n",
      "Encontrado: [ID: PartidoAzteca7_segment_646] - [Distancia: 0.52706426]\n"
     ]
    },
    {
     "data": {
      "text/html": [
       "\n",
       "        <p>Mostrando segmento: <b>PartidoAzteca7_segment_646</b> (segundos 2584-2588)</p>\n",
       "        <video width=\"640\" controls>\n",
       "            <source src=\"vboxioof/Videos/Videos_Segmentados/PartidoAzteca7_segment_646.mp4#t=2584,2588\" type=\"video/mp4\">\n",
       "            Tu navegador no soporta la etiqueta de video.\n",
       "        </video>\n",
       "        "
      ],
      "text/plain": [
       "<IPython.core.display.HTML object>"
      ]
     },
     "metadata": {},
     "output_type": "display_data"
    },
    {
     "name": "stdout",
     "output_type": "stream",
     "text": [
      "\n",
      "Encontrado: [ID: PartidoAzteca7_segment_844] - [Distancia: 0.53210342]\n"
     ]
    },
    {
     "data": {
      "text/html": [
       "\n",
       "        <p>Mostrando segmento: <b>PartidoAzteca7_segment_844</b> (segundos 3376-3380)</p>\n",
       "        <video width=\"640\" controls>\n",
       "            <source src=\"vboxioof/Videos/Videos_Segmentados/PartidoAzteca7_segment_844.mp4#t=3376,3380\" type=\"video/mp4\">\n",
       "            Tu navegador no soporta la etiqueta de video.\n",
       "        </video>\n",
       "        "
      ],
      "text/plain": [
       "<IPython.core.display.HTML object>"
      ]
     },
     "metadata": {},
     "output_type": "display_data"
    },
    {
     "name": "stdout",
     "output_type": "stream",
     "text": [
      "\n",
      "Encontrado: [ID: PartidoAzteca7_segment_718] - [Distancia: 0.53550690]\n"
     ]
    },
    {
     "data": {
      "text/html": [
       "\n",
       "        <p>Mostrando segmento: <b>PartidoAzteca7_segment_718</b> (segundos 2872-2876)</p>\n",
       "        <video width=\"640\" controls>\n",
       "            <source src=\"vboxioof/Videos/Videos_Segmentados/PartidoAzteca7_segment_718.mp4#t=2872,2876\" type=\"video/mp4\">\n",
       "            Tu navegador no soporta la etiqueta de video.\n",
       "        </video>\n",
       "        "
      ],
      "text/plain": [
       "<IPython.core.display.HTML object>"
      ]
     },
     "metadata": {},
     "output_type": "display_data"
    },
    {
     "name": "stdout",
     "output_type": "stream",
     "text": [
      "\n",
      "Encontrado: [ID: PartidoAzteca7_segment_643] - [Distancia: 0.54076368]\n"
     ]
    },
    {
     "data": {
      "text/html": [
       "\n",
       "        <p>Mostrando segmento: <b>PartidoAzteca7_segment_643</b> (segundos 2572-2576)</p>\n",
       "        <video width=\"640\" controls>\n",
       "            <source src=\"vboxioof/Videos/Videos_Segmentados/PartidoAzteca7_segment_643.mp4#t=2572,2576\" type=\"video/mp4\">\n",
       "            Tu navegador no soporta la etiqueta de video.\n",
       "        </video>\n",
       "        "
      ],
      "text/plain": [
       "<IPython.core.display.HTML object>"
      ]
     },
     "metadata": {},
     "output_type": "display_data"
    },
    {
     "name": "stdout",
     "output_type": "stream",
     "text": [
      "\n",
      "Encontrado: [ID: PartidoAzteca7_segment_858] - [Distancia: 0.54203409]\n"
     ]
    },
    {
     "data": {
      "text/html": [
       "\n",
       "        <p>Mostrando segmento: <b>PartidoAzteca7_segment_858</b> (segundos 3432-3436)</p>\n",
       "        <video width=\"640\" controls>\n",
       "            <source src=\"vboxioof/Videos/Videos_Segmentados/PartidoAzteca7_segment_858.mp4#t=3432,3436\" type=\"video/mp4\">\n",
       "            Tu navegador no soporta la etiqueta de video.\n",
       "        </video>\n",
       "        "
      ],
      "text/plain": [
       "<IPython.core.display.HTML object>"
      ]
     },
     "metadata": {},
     "output_type": "display_data"
    },
    {
     "name": "stdout",
     "output_type": "stream",
     "text": [
      "\n",
      "Encontrado: [ID: PartidoAzteca7_segment_1009] - [Distancia: 0.54662228]\n"
     ]
    },
    {
     "data": {
      "text/html": [
       "\n",
       "        <p>Mostrando segmento: <b>PartidoAzteca7_segment_1009</b> (segundos 4036-4040)</p>\n",
       "        <video width=\"640\" controls>\n",
       "            <source src=\"vboxioof/Videos/Videos_Segmentados/PartidoAzteca7_segment_1009.mp4#t=4036,4040\" type=\"video/mp4\">\n",
       "            Tu navegador no soporta la etiqueta de video.\n",
       "        </video>\n",
       "        "
      ],
      "text/plain": [
       "<IPython.core.display.HTML object>"
      ]
     },
     "metadata": {},
     "output_type": "display_data"
    },
    {
     "name": "stdout",
     "output_type": "stream",
     "text": [
      "\n",
      "Encontrado: [ID: PartidoAzteca7_segment_749] - [Distancia: 0.54785848]\n"
     ]
    },
    {
     "data": {
      "text/html": [
       "\n",
       "        <p>Mostrando segmento: <b>PartidoAzteca7_segment_749</b> (segundos 2996-3000)</p>\n",
       "        <video width=\"640\" controls>\n",
       "            <source src=\"vboxioof/Videos/Videos_Segmentados/PartidoAzteca7_segment_749.mp4#t=2996,3000\" type=\"video/mp4\">\n",
       "            Tu navegador no soporta la etiqueta de video.\n",
       "        </video>\n",
       "        "
      ],
      "text/plain": [
       "<IPython.core.display.HTML object>"
      ]
     },
     "metadata": {},
     "output_type": "display_data"
    },
    {
     "name": "stdout",
     "output_type": "stream",
     "text": [
      "\n",
      "Encontrado: [ID: PartidoAzteca7_segment_762] - [Distancia: 0.54829466]\n"
     ]
    },
    {
     "data": {
      "text/html": [
       "\n",
       "        <p>Mostrando segmento: <b>PartidoAzteca7_segment_762</b> (segundos 3048-3052)</p>\n",
       "        <video width=\"640\" controls>\n",
       "            <source src=\"vboxioof/Videos/Videos_Segmentados/PartidoAzteca7_segment_762.mp4#t=3048,3052\" type=\"video/mp4\">\n",
       "            Tu navegador no soporta la etiqueta de video.\n",
       "        </video>\n",
       "        "
      ],
      "text/plain": [
       "<IPython.core.display.HTML object>"
      ]
     },
     "metadata": {},
     "output_type": "display_data"
    },
    {
     "name": "stdout",
     "output_type": "stream",
     "text": [
      "\n",
      "Encontrado: [ID: PartidoAzteca7_segment_758] - [Distancia: 0.55609846]\n"
     ]
    },
    {
     "data": {
      "text/html": [
       "\n",
       "        <p>Mostrando segmento: <b>PartidoAzteca7_segment_758</b> (segundos 3032-3036)</p>\n",
       "        <video width=\"640\" controls>\n",
       "            <source src=\"vboxioof/Videos/Videos_Segmentados/PartidoAzteca7_segment_758.mp4#t=3032,3036\" type=\"video/mp4\">\n",
       "            Tu navegador no soporta la etiqueta de video.\n",
       "        </video>\n",
       "        "
      ],
      "text/plain": [
       "<IPython.core.display.HTML object>"
      ]
     },
     "metadata": {},
     "output_type": "display_data"
    },
    {
     "name": "stdout",
     "output_type": "stream",
     "text": [
      "\n",
      "Encontrado: [ID: PartidoAzteca7_segment_798] - [Distancia: 0.55840075]\n"
     ]
    },
    {
     "data": {
      "text/html": [
       "\n",
       "        <p>Mostrando segmento: <b>PartidoAzteca7_segment_798</b> (segundos 3192-3196)</p>\n",
       "        <video width=\"640\" controls>\n",
       "            <source src=\"vboxioof/Videos/Videos_Segmentados/PartidoAzteca7_segment_798.mp4#t=3192,3196\" type=\"video/mp4\">\n",
       "            Tu navegador no soporta la etiqueta de video.\n",
       "        </video>\n",
       "        "
      ],
      "text/plain": [
       "<IPython.core.display.HTML object>"
      ]
     },
     "metadata": {},
     "output_type": "display_data"
    },
    {
     "name": "stdout",
     "output_type": "stream",
     "text": [
      "\n",
      "Encontrado: [ID: PartidoAzteca7_segment_930] - [Distancia: 0.56366038]\n"
     ]
    },
    {
     "data": {
      "text/html": [
       "\n",
       "        <p>Mostrando segmento: <b>PartidoAzteca7_segment_930</b> (segundos 3720-3724)</p>\n",
       "        <video width=\"640\" controls>\n",
       "            <source src=\"vboxioof/Videos/Videos_Segmentados/PartidoAzteca7_segment_930.mp4#t=3720,3724\" type=\"video/mp4\">\n",
       "            Tu navegador no soporta la etiqueta de video.\n",
       "        </video>\n",
       "        "
      ],
      "text/plain": [
       "<IPython.core.display.HTML object>"
      ]
     },
     "metadata": {},
     "output_type": "display_data"
    },
    {
     "name": "stdout",
     "output_type": "stream",
     "text": [
      "\n",
      "Encontrado: [ID: PartidoAzteca7_segment_658] - [Distancia: 0.56585968]\n"
     ]
    },
    {
     "data": {
      "text/html": [
       "\n",
       "        <p>Mostrando segmento: <b>PartidoAzteca7_segment_658</b> (segundos 2632-2636)</p>\n",
       "        <video width=\"640\" controls>\n",
       "            <source src=\"vboxioof/Videos/Videos_Segmentados/PartidoAzteca7_segment_658.mp4#t=2632,2636\" type=\"video/mp4\">\n",
       "            Tu navegador no soporta la etiqueta de video.\n",
       "        </video>\n",
       "        "
      ],
      "text/plain": [
       "<IPython.core.display.HTML object>"
      ]
     },
     "metadata": {},
     "output_type": "display_data"
    },
    {
     "name": "stdout",
     "output_type": "stream",
     "text": [
      "\n",
      "Encontrado: [ID: PartidoAzteca7_segment_699] - [Distancia: 0.57163393]\n"
     ]
    },
    {
     "data": {
      "text/html": [
       "\n",
       "        <p>Mostrando segmento: <b>PartidoAzteca7_segment_699</b> (segundos 2796-2800)</p>\n",
       "        <video width=\"640\" controls>\n",
       "            <source src=\"vboxioof/Videos/Videos_Segmentados/PartidoAzteca7_segment_699.mp4#t=2796,2800\" type=\"video/mp4\">\n",
       "            Tu navegador no soporta la etiqueta de video.\n",
       "        </video>\n",
       "        "
      ],
      "text/plain": [
       "<IPython.core.display.HTML object>"
      ]
     },
     "metadata": {},
     "output_type": "display_data"
    },
    {
     "name": "stdout",
     "output_type": "stream",
     "text": [
      "\n",
      "Encontrado: [ID: PartidoAzteca7_segment_654] - [Distancia: 0.58067942]\n"
     ]
    },
    {
     "data": {
      "text/html": [
       "\n",
       "        <p>Mostrando segmento: <b>PartidoAzteca7_segment_654</b> (segundos 2616-2620)</p>\n",
       "        <video width=\"640\" controls>\n",
       "            <source src=\"vboxioof/Videos/Videos_Segmentados/PartidoAzteca7_segment_654.mp4#t=2616,2620\" type=\"video/mp4\">\n",
       "            Tu navegador no soporta la etiqueta de video.\n",
       "        </video>\n",
       "        "
      ],
      "text/plain": [
       "<IPython.core.display.HTML object>"
      ]
     },
     "metadata": {},
     "output_type": "display_data"
    },
    {
     "name": "stdout",
     "output_type": "stream",
     "text": [
      "\n",
      "Encontrado: [ID: PartidoAzteca7_segment_700] - [Distancia: 0.59421754]\n"
     ]
    },
    {
     "data": {
      "text/html": [
       "\n",
       "        <p>Mostrando segmento: <b>PartidoAzteca7_segment_700</b> (segundos 2800-2804)</p>\n",
       "        <video width=\"640\" controls>\n",
       "            <source src=\"vboxioof/Videos/Videos_Segmentados/PartidoAzteca7_segment_700.mp4#t=2800,2804\" type=\"video/mp4\">\n",
       "            Tu navegador no soporta la etiqueta de video.\n",
       "        </video>\n",
       "        "
      ],
      "text/plain": [
       "<IPython.core.display.HTML object>"
      ]
     },
     "metadata": {},
     "output_type": "display_data"
    },
    {
     "name": "stdout",
     "output_type": "stream",
     "text": [
      "\n",
      "Encontrado: [ID: PartidoAzteca7_segment_647] - [Distancia: 0.60155731]\n"
     ]
    },
    {
     "data": {
      "text/html": [
       "\n",
       "        <p>Mostrando segmento: <b>PartidoAzteca7_segment_647</b> (segundos 2588-2592)</p>\n",
       "        <video width=\"640\" controls>\n",
       "            <source src=\"vboxioof/Videos/Videos_Segmentados/PartidoAzteca7_segment_647.mp4#t=2588,2592\" type=\"video/mp4\">\n",
       "            Tu navegador no soporta la etiqueta de video.\n",
       "        </video>\n",
       "        "
      ],
      "text/plain": [
       "<IPython.core.display.HTML object>"
      ]
     },
     "metadata": {},
     "output_type": "display_data"
    },
    {
     "name": "stdout",
     "output_type": "stream",
     "text": [
      "\n",
      "Encontrado: [ID: PartidoAzteca7_segment_763] - [Distancia: 0.61714351]\n"
     ]
    },
    {
     "data": {
      "text/html": [
       "\n",
       "        <p>Mostrando segmento: <b>PartidoAzteca7_segment_763</b> (segundos 3052-3056)</p>\n",
       "        <video width=\"640\" controls>\n",
       "            <source src=\"vboxioof/Videos/Videos_Segmentados/PartidoAzteca7_segment_763.mp4#t=3052,3056\" type=\"video/mp4\">\n",
       "            Tu navegador no soporta la etiqueta de video.\n",
       "        </video>\n",
       "        "
      ],
      "text/plain": [
       "<IPython.core.display.HTML object>"
      ]
     },
     "metadata": {},
     "output_type": "display_data"
    },
    {
     "name": "stdout",
     "output_type": "stream",
     "text": [
      "\n",
      "--- FIN DE LOS RESULTADOS ---\n"
     ]
    }
   ],
   "source": [
    "if __name__ == \"__main__\":\n",
    "\n",
    "    # --- Cargamos la imagen, y le hacemos un embedding ---\n",
    "    image_embedding = get_image_embedding(image_path=image_path)\n",
    "\n",
    "\n",
    "    # --- Buscamos los vecinos más cercanos al embedding de la imagen ---\n",
    "    search_results = find_nearest_neighbors(image_embedding, 50)\n",
    "\n",
    "\n",
    "    # Mostramos los resultados\n",
    "    print(\"\\n--- RESULTADOS DE LA BÚSQUEDA ---\")\n",
    "    \n",
    "    if not search_results or not search_results[0]:\n",
    "        print(\"No se encontraron resultados.\")\n",
    "        \n",
    "    else:\n",
    "\n",
    "        neighbors_sorted = sorted(search_results[0], key=lambda x: x.distance)\n",
    "\n",
    "        for neighbor in neighbors_sorted:\n",
    "            \n",
    "            video_segment_id = neighbor.id\n",
    "            distancia = neighbor.distance\n",
    "\n",
    "            # if distancia < 0.1:  # Si la distancia es mayor a 0.1, no lo consideramos relevante\n",
    "\n",
    "            print(f\"\\nEncontrado: [ID: {video_segment_id}] - [Distancia: {distancia:.8f}]\")\n",
    "            \n",
    "            # Mostramos el fragmento de video correspondiente\n",
    "            display_video_segment(\n",
    "                video_gcs_uri=GCS_VIDEO_URI +f\"{video_segment_id}.mp4\",\n",
    "                segment_id=video_segment_id,\n",
    "                interval=SEGMENT_INTERVAL_SEC\n",
    "            )\n",
    "\n",
    "            # else:\n",
    "                # print(f\"El segmento {video_segment_id} no es relevante (distancia: {distancia:.8f}).\")\n",
    "\n",
    "        print(\"\\n--- FIN DE LOS RESULTADOS ---\")\n",
    "\n"
   ]
  },
  {
   "cell_type": "markdown",
   "id": "c77d70ab",
   "metadata": {},
   "source": [
    "### **Consulta con lenguaje natural**"
   ]
  },
  {
   "cell_type": "code",
   "execution_count": 12,
   "id": "49dc059d",
   "metadata": {},
   "outputs": [
    {
     "name": "stdout",
     "output_type": "stream",
     "text": [
      "Generando embedding para el texto: 'Caliente'\n",
      "Conectando al Index Endpoint...\n",
      "Buscando los 5 videos más similares...\n",
      "\n",
      "--- RESULTADOS DE LA BÚSQUEDA ---\n",
      "Se encontraron 5 resultados.\n",
      "\n",
      "Encontrado: [ID: mexicosta_segment_167] - [Distancia: 0.12898469]\n"
     ]
    },
    {
     "data": {
      "text/html": [
       "\n",
       "        <p>Mostrando segmento: <b>mexicosta_segment_167</b> (segundos 668-672)</p>\n",
       "        <video width=\"640\" controls>\n",
       "            <source src=\"vboxioof/Videos/Videos_Segmentados/mexicosta_segment_167.mp4#t=668,672\" type=\"video/mp4\">\n",
       "            Tu navegador no soporta la etiqueta de video.\n",
       "        </video>\n",
       "        "
      ],
      "text/plain": [
       "<IPython.core.display.HTML object>"
      ]
     },
     "metadata": {},
     "output_type": "display_data"
    },
    {
     "name": "stdout",
     "output_type": "stream",
     "text": [
      "\n",
      "Encontrado: [ID: mexicosta_segment_1095] - [Distancia: 0.13174450]\n"
     ]
    },
    {
     "data": {
      "text/html": [
       "\n",
       "        <p>Mostrando segmento: <b>mexicosta_segment_1095</b> (segundos 4380-4384)</p>\n",
       "        <video width=\"640\" controls>\n",
       "            <source src=\"vboxioof/Videos/Videos_Segmentados/mexicosta_segment_1095.mp4#t=4380,4384\" type=\"video/mp4\">\n",
       "            Tu navegador no soporta la etiqueta de video.\n",
       "        </video>\n",
       "        "
      ],
      "text/plain": [
       "<IPython.core.display.HTML object>"
      ]
     },
     "metadata": {},
     "output_type": "display_data"
    },
    {
     "name": "stdout",
     "output_type": "stream",
     "text": [
      "\n",
      "Encontrado: [ID: mexicosta_segment_905] - [Distancia: 0.13280150]\n"
     ]
    },
    {
     "data": {
      "text/html": [
       "\n",
       "        <p>Mostrando segmento: <b>mexicosta_segment_905</b> (segundos 3620-3624)</p>\n",
       "        <video width=\"640\" controls>\n",
       "            <source src=\"vboxioof/Videos/Videos_Segmentados/mexicosta_segment_905.mp4#t=3620,3624\" type=\"video/mp4\">\n",
       "            Tu navegador no soporta la etiqueta de video.\n",
       "        </video>\n",
       "        "
      ],
      "text/plain": [
       "<IPython.core.display.HTML object>"
      ]
     },
     "metadata": {},
     "output_type": "display_data"
    },
    {
     "name": "stdout",
     "output_type": "stream",
     "text": [
      "\n",
      "Encontrado: [ID: mexicosta_segment_162] - [Distancia: 0.14469939]\n"
     ]
    },
    {
     "data": {
      "text/html": [
       "\n",
       "        <p>Mostrando segmento: <b>mexicosta_segment_162</b> (segundos 648-652)</p>\n",
       "        <video width=\"640\" controls>\n",
       "            <source src=\"vboxioof/Videos/Videos_Segmentados/mexicosta_segment_162.mp4#t=648,652\" type=\"video/mp4\">\n",
       "            Tu navegador no soporta la etiqueta de video.\n",
       "        </video>\n",
       "        "
      ],
      "text/plain": [
       "<IPython.core.display.HTML object>"
      ]
     },
     "metadata": {},
     "output_type": "display_data"
    },
    {
     "name": "stdout",
     "output_type": "stream",
     "text": [
      "\n",
      "Encontrado: [ID: mexicosta_segment_1090] - [Distancia: 0.14725038]\n"
     ]
    },
    {
     "data": {
      "text/html": [
       "\n",
       "        <p>Mostrando segmento: <b>mexicosta_segment_1090</b> (segundos 4360-4364)</p>\n",
       "        <video width=\"640\" controls>\n",
       "            <source src=\"vboxioof/Videos/Videos_Segmentados/mexicosta_segment_1090.mp4#t=4360,4364\" type=\"video/mp4\">\n",
       "            Tu navegador no soporta la etiqueta de video.\n",
       "        </video>\n",
       "        "
      ],
      "text/plain": [
       "<IPython.core.display.HTML object>"
      ]
     },
     "metadata": {},
     "output_type": "display_data"
    },
    {
     "name": "stdout",
     "output_type": "stream",
     "text": [
      "\n",
      "--- FIN DE LOS RESULTADOS ---\n"
     ]
    }
   ],
   "source": [
    "# --- EJECUCIÓN DE LA BÚSQUEDA ---\n",
    "if __name__ == '__main__':\n",
    "    \n",
    "    # ------------------------------------------------------------------\n",
    "    # AQUÍ PONES TU CONSULTA EN LENGUAJE NATURAL\n",
    "    texto_de_busqueda = \"Caliente\"\n",
    "    # ------------------------------------------------------------------\n",
    "    \n",
    "    # 1. Obtenemos el embedding del texto de búsqueda\n",
    "    text_query = get_text_embedding(texto_de_busqueda)\n",
    "    \n",
    "    # 2. Buscamos en Vector Search usando el embedding del texto\n",
    "    search_results = find_nearest_neighbors(text_query, 5)\n",
    "    \n",
    "    # 3. Mostramos los resultados\n",
    "    print(\"\\n--- RESULTADOS DE LA BÚSQUEDA ---\")\n",
    "    \n",
    "    if not search_results or not search_results[0]:\n",
    "        print(\"No se encontraron resultados.\")\n",
    "        \n",
    "    else:\n",
    "\n",
    "        neighbors_sorted = sorted(search_results[0], key=lambda x: x.distance)\n",
    "\n",
    "        print(f\"Se encontraron {len(neighbors_sorted)} resultados.\")\n",
    "\n",
    "        for neighbor in neighbors_sorted:\n",
    "            \n",
    "            video_segment_id = neighbor.id\n",
    "            distancia = neighbor.distance\n",
    "\n",
    "            if distancia < 0.2:  # Si la distancia es mayor a 0.1, no lo consideramos relevante\n",
    "\n",
    "                print(f\"\\nEncontrado: [ID: {video_segment_id}] - [Distancia: {distancia:.8f}]\")\n",
    "            \n",
    "                # Mostramos el fragmento de video correspondiente\n",
    "                display_video_segment(\n",
    "                    video_gcs_uri=GCS_VIDEO_URI +f\"{video_segment_id}.mp4\",\n",
    "                    segment_id=video_segment_id,\n",
    "                    interval=SEGMENT_INTERVAL_SEC\n",
    "                )\n",
    "\n",
    "            else:\n",
    "                pass\n",
    "\n",
    "        print(\"\\n--- FIN DE LOS RESULTADOS ---\")"
   ]
  }
 ],
 "metadata": {
  "kernelspec": {
   "display_name": ".venv",
   "language": "python",
   "name": "python3"
  },
  "language_info": {
   "codemirror_mode": {
    "name": "ipython",
    "version": 3
   },
   "file_extension": ".py",
   "mimetype": "text/x-python",
   "name": "python",
   "nbconvert_exporter": "python",
   "pygments_lexer": "ipython3",
   "version": "3.13.3"
  }
 },
 "nbformat": 4,
 "nbformat_minor": 5
}
